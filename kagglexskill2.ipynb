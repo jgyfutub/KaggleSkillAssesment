{
 "cells": [
  {
   "cell_type": "code",
   "execution_count": 1,
   "id": "90b8fe47",
   "metadata": {
    "execution": {
     "iopub.execute_input": "2024-06-16T08:17:07.167737Z",
     "iopub.status.busy": "2024-06-16T08:17:07.167062Z",
     "iopub.status.idle": "2024-06-16T08:17:09.391184Z",
     "shell.execute_reply": "2024-06-16T08:17:09.390222Z"
    },
    "papermill": {
     "duration": 2.255,
     "end_time": "2024-06-16T08:17:09.393448",
     "exception": false,
     "start_time": "2024-06-16T08:17:07.138448",
     "status": "completed"
    },
    "tags": []
   },
   "outputs": [],
   "source": [
    "import pandas as pd\n",
    "import numpy as np\n",
    "import seaborn as sns\n",
    "import re"
   ]
  },
  {
   "cell_type": "code",
   "execution_count": 2,
   "id": "1df1aa47",
   "metadata": {
    "execution": {
     "iopub.execute_input": "2024-06-16T08:17:09.450591Z",
     "iopub.status.busy": "2024-06-16T08:17:09.450154Z",
     "iopub.status.idle": "2024-06-16T08:17:09.769495Z",
     "shell.execute_reply": "2024-06-16T08:17:09.768486Z"
    },
    "papermill": {
     "duration": 0.350624,
     "end_time": "2024-06-16T08:17:09.772320",
     "exception": false,
     "start_time": "2024-06-16T08:17:09.421696",
     "status": "completed"
    },
    "tags": []
   },
   "outputs": [],
   "source": [
    "df=pd.read_csv('/kaggle/input/kagglexdatasetforvedantpandey/train.csv')"
   ]
  },
  {
   "cell_type": "code",
   "execution_count": 3,
   "id": "6735e95e",
   "metadata": {
    "execution": {
     "iopub.execute_input": "2024-06-16T08:17:09.836014Z",
     "iopub.status.busy": "2024-06-16T08:17:09.835652Z",
     "iopub.status.idle": "2024-06-16T08:17:09.862967Z",
     "shell.execute_reply": "2024-06-16T08:17:09.862045Z"
    },
    "papermill": {
     "duration": 0.058176,
     "end_time": "2024-06-16T08:17:09.864955",
     "exception": false,
     "start_time": "2024-06-16T08:17:09.806779",
     "status": "completed"
    },
    "tags": []
   },
   "outputs": [
    {
     "data": {
      "text/html": [
       "<div>\n",
       "<style scoped>\n",
       "    .dataframe tbody tr th:only-of-type {\n",
       "        vertical-align: middle;\n",
       "    }\n",
       "\n",
       "    .dataframe tbody tr th {\n",
       "        vertical-align: top;\n",
       "    }\n",
       "\n",
       "    .dataframe thead th {\n",
       "        text-align: right;\n",
       "    }\n",
       "</style>\n",
       "<table border=\"1\" class=\"dataframe\">\n",
       "  <thead>\n",
       "    <tr style=\"text-align: right;\">\n",
       "      <th></th>\n",
       "      <th>id</th>\n",
       "      <th>brand</th>\n",
       "      <th>model</th>\n",
       "      <th>model_year</th>\n",
       "      <th>milage</th>\n",
       "      <th>fuel_type</th>\n",
       "      <th>engine</th>\n",
       "      <th>transmission</th>\n",
       "      <th>ext_col</th>\n",
       "      <th>int_col</th>\n",
       "      <th>accident</th>\n",
       "      <th>clean_title</th>\n",
       "      <th>price</th>\n",
       "    </tr>\n",
       "  </thead>\n",
       "  <tbody>\n",
       "    <tr>\n",
       "      <th>0</th>\n",
       "      <td>0</td>\n",
       "      <td>Ford</td>\n",
       "      <td>F-150 Lariat</td>\n",
       "      <td>2018</td>\n",
       "      <td>74349</td>\n",
       "      <td>Gasoline</td>\n",
       "      <td>375.0HP 3.5L V6 Cylinder Engine Gasoline Fuel</td>\n",
       "      <td>10-Speed A/T</td>\n",
       "      <td>Blue</td>\n",
       "      <td>Gray</td>\n",
       "      <td>None reported</td>\n",
       "      <td>Yes</td>\n",
       "      <td>11000</td>\n",
       "    </tr>\n",
       "    <tr>\n",
       "      <th>1</th>\n",
       "      <td>1</td>\n",
       "      <td>BMW</td>\n",
       "      <td>335 i</td>\n",
       "      <td>2007</td>\n",
       "      <td>80000</td>\n",
       "      <td>Gasoline</td>\n",
       "      <td>300.0HP 3.0L Straight 6 Cylinder Engine Gasoli...</td>\n",
       "      <td>6-Speed M/T</td>\n",
       "      <td>Black</td>\n",
       "      <td>Black</td>\n",
       "      <td>None reported</td>\n",
       "      <td>Yes</td>\n",
       "      <td>8250</td>\n",
       "    </tr>\n",
       "    <tr>\n",
       "      <th>2</th>\n",
       "      <td>2</td>\n",
       "      <td>Jaguar</td>\n",
       "      <td>XF Luxury</td>\n",
       "      <td>2009</td>\n",
       "      <td>91491</td>\n",
       "      <td>Gasoline</td>\n",
       "      <td>300.0HP 4.2L 8 Cylinder Engine Gasoline Fuel</td>\n",
       "      <td>6-Speed A/T</td>\n",
       "      <td>Purple</td>\n",
       "      <td>Beige</td>\n",
       "      <td>None reported</td>\n",
       "      <td>Yes</td>\n",
       "      <td>15000</td>\n",
       "    </tr>\n",
       "    <tr>\n",
       "      <th>3</th>\n",
       "      <td>3</td>\n",
       "      <td>BMW</td>\n",
       "      <td>X7 xDrive40i</td>\n",
       "      <td>2022</td>\n",
       "      <td>2437</td>\n",
       "      <td>Hybrid</td>\n",
       "      <td>335.0HP 3.0L Straight 6 Cylinder Engine Gasoli...</td>\n",
       "      <td>Transmission w/Dual Shift Mode</td>\n",
       "      <td>Gray</td>\n",
       "      <td>Brown</td>\n",
       "      <td>None reported</td>\n",
       "      <td>Yes</td>\n",
       "      <td>63500</td>\n",
       "    </tr>\n",
       "    <tr>\n",
       "      <th>4</th>\n",
       "      <td>4</td>\n",
       "      <td>Pontiac</td>\n",
       "      <td>Firebird Base</td>\n",
       "      <td>2001</td>\n",
       "      <td>111000</td>\n",
       "      <td>Gasoline</td>\n",
       "      <td>200.0HP 3.8L V6 Cylinder Engine Gasoline Fuel</td>\n",
       "      <td>A/T</td>\n",
       "      <td>White</td>\n",
       "      <td>Black</td>\n",
       "      <td>None reported</td>\n",
       "      <td>Yes</td>\n",
       "      <td>7850</td>\n",
       "    </tr>\n",
       "  </tbody>\n",
       "</table>\n",
       "</div>"
      ],
      "text/plain": [
       "   id    brand          model  model_year  milage fuel_type  \\\n",
       "0   0     Ford   F-150 Lariat        2018   74349  Gasoline   \n",
       "1   1      BMW          335 i        2007   80000  Gasoline   \n",
       "2   2   Jaguar      XF Luxury        2009   91491  Gasoline   \n",
       "3   3      BMW   X7 xDrive40i        2022    2437    Hybrid   \n",
       "4   4  Pontiac  Firebird Base        2001  111000  Gasoline   \n",
       "\n",
       "                                              engine  \\\n",
       "0      375.0HP 3.5L V6 Cylinder Engine Gasoline Fuel   \n",
       "1  300.0HP 3.0L Straight 6 Cylinder Engine Gasoli...   \n",
       "2       300.0HP 4.2L 8 Cylinder Engine Gasoline Fuel   \n",
       "3  335.0HP 3.0L Straight 6 Cylinder Engine Gasoli...   \n",
       "4      200.0HP 3.8L V6 Cylinder Engine Gasoline Fuel   \n",
       "\n",
       "                     transmission ext_col int_col       accident clean_title  \\\n",
       "0                    10-Speed A/T    Blue    Gray  None reported         Yes   \n",
       "1                     6-Speed M/T   Black   Black  None reported         Yes   \n",
       "2                     6-Speed A/T  Purple   Beige  None reported         Yes   \n",
       "3  Transmission w/Dual Shift Mode    Gray   Brown  None reported         Yes   \n",
       "4                             A/T   White   Black  None reported         Yes   \n",
       "\n",
       "   price  \n",
       "0  11000  \n",
       "1   8250  \n",
       "2  15000  \n",
       "3  63500  \n",
       "4   7850  "
      ]
     },
     "execution_count": 3,
     "metadata": {},
     "output_type": "execute_result"
    }
   ],
   "source": [
    "df.head()"
   ]
  },
  {
   "cell_type": "code",
   "execution_count": 4,
   "id": "02a3f5f5",
   "metadata": {
    "execution": {
     "iopub.execute_input": "2024-06-16T08:17:09.923071Z",
     "iopub.status.busy": "2024-06-16T08:17:09.922444Z",
     "iopub.status.idle": "2024-06-16T08:17:09.947159Z",
     "shell.execute_reply": "2024-06-16T08:17:09.946195Z"
    },
    "papermill": {
     "duration": 0.055631,
     "end_time": "2024-06-16T08:17:09.949418",
     "exception": false,
     "start_time": "2024-06-16T08:17:09.893787",
     "status": "completed"
    },
    "tags": []
   },
   "outputs": [
    {
     "name": "stderr",
     "output_type": "stream",
     "text": [
      "/tmp/ipykernel_24/1831874665.py:1: FutureWarning: A value is trying to be set on a copy of a DataFrame or Series through chained assignment using an inplace method.\n",
      "The behavior will change in pandas 3.0. This inplace method will never work because the intermediate object on which we are setting values always behaves as a copy.\n",
      "\n",
      "For example, when doing 'df[col].method(value, inplace=True)', try using 'df.method({col: value}, inplace=True)' or df[col] = df[col].method(value) instead, to perform the operation inplace on the original object.\n",
      "\n",
      "\n",
      "  df.fuel_type.replace('–', 'Electric', inplace=True)\n",
      "/tmp/ipykernel_24/1831874665.py:3: FutureWarning: A value is trying to be set on a copy of a DataFrame or Series through chained assignment using an inplace method.\n",
      "The behavior will change in pandas 3.0. This inplace method will never work because the intermediate object on which we are setting values always behaves as a copy.\n",
      "\n",
      "For example, when doing 'df[col].method(value, inplace=True)', try using 'df.method({col: value}, inplace=True)' or df[col] = df[col].method(value) instead, to perform the operation inplace on the original object.\n",
      "\n",
      "\n",
      "  df.fuel_type.replace('not supported', 'Electric', inplace=True)\n"
     ]
    }
   ],
   "source": [
    "df.fuel_type.replace('–', 'Electric', inplace=True)\n",
    "\n",
    "df.fuel_type.replace('not supported', 'Electric', inplace=True)"
   ]
  },
  {
   "cell_type": "code",
   "execution_count": 5,
   "id": "7e928ef1",
   "metadata": {
    "execution": {
     "iopub.execute_input": "2024-06-16T08:17:10.018620Z",
     "iopub.status.busy": "2024-06-16T08:17:10.018281Z",
     "iopub.status.idle": "2024-06-16T08:17:10.027305Z",
     "shell.execute_reply": "2024-06-16T08:17:10.026236Z"
    },
    "papermill": {
     "duration": 0.047082,
     "end_time": "2024-06-16T08:17:10.029603",
     "exception": false,
     "start_time": "2024-06-16T08:17:09.982521",
     "status": "completed"
    },
    "tags": []
   },
   "outputs": [],
   "source": [
    "df['age']=2024-df['model_year']"
   ]
  },
  {
   "cell_type": "code",
   "execution_count": 6,
   "id": "a0fc0a9e",
   "metadata": {
    "execution": {
     "iopub.execute_input": "2024-06-16T08:17:10.085870Z",
     "iopub.status.busy": "2024-06-16T08:17:10.085564Z",
     "iopub.status.idle": "2024-06-16T08:17:10.099887Z",
     "shell.execute_reply": "2024-06-16T08:17:10.098180Z"
    },
    "papermill": {
     "duration": 0.046096,
     "end_time": "2024-06-16T08:17:10.102969",
     "exception": false,
     "start_time": "2024-06-16T08:17:10.056873",
     "status": "completed"
    },
    "tags": []
   },
   "outputs": [],
   "source": [
    "q25=df['milage'].quantile(0.25)\n",
    "q75=df['milage'].quantile(0.75)\n",
    "iqr=q75-q25\n",
    "up=q75+1.5*iqr\n",
    "down=q25-1.5*iqr\n",
    "# df['milage']=df['milage'].apply(lambda x: up if x>up else x)"
   ]
  },
  {
   "cell_type": "code",
   "execution_count": 7,
   "id": "5f93f4c5",
   "metadata": {
    "execution": {
     "iopub.execute_input": "2024-06-16T08:17:10.193787Z",
     "iopub.status.busy": "2024-06-16T08:17:10.193110Z",
     "iopub.status.idle": "2024-06-16T08:17:10.350961Z",
     "shell.execute_reply": "2024-06-16T08:17:10.349419Z"
    },
    "papermill": {
     "duration": 0.206527,
     "end_time": "2024-06-16T08:17:10.355069",
     "exception": false,
     "start_time": "2024-06-16T08:17:10.148542",
     "status": "completed"
    },
    "tags": []
   },
   "outputs": [],
   "source": [
    "fuel_type = df['engine'].apply(lambda x:None if re.search(r\"(Gasoline|Diesel|Electric|Flex Fuel)\", x) is None else 1)\n",
    "df[\"fuel_type_is_missing\"] = pd.isnull(fuel_type)\n",
    "df[\"fuel_typenot_is_missing\"]=fuel_type.fillna(0)"
   ]
  },
  {
   "cell_type": "code",
   "execution_count": 8,
   "id": "2fafde0f",
   "metadata": {
    "execution": {
     "iopub.execute_input": "2024-06-16T08:17:10.421587Z",
     "iopub.status.busy": "2024-06-16T08:17:10.420745Z",
     "iopub.status.idle": "2024-06-16T08:17:10.444734Z",
     "shell.execute_reply": "2024-06-16T08:17:10.443843Z"
    },
    "papermill": {
     "duration": 0.056535,
     "end_time": "2024-06-16T08:17:10.446791",
     "exception": false,
     "start_time": "2024-06-16T08:17:10.390256",
     "status": "completed"
    },
    "tags": []
   },
   "outputs": [
    {
     "data": {
      "text/plain": [
       "model\n",
       "F-150 XLT                    780\n",
       "M3 Base                      682\n",
       "X5 xDrive35i                 615\n",
       "F-150 Lariat                 496\n",
       "Mustang GT Premium           466\n",
       "                            ... \n",
       "Q5 S line Premium              1\n",
       "RX 350 F SPORT Appearance      1\n",
       "Q4 e-tron 50 Premium Plus      1\n",
       "ID.4 Pro S                     1\n",
       "Land Cruiser                   1\n",
       "Name: count, Length: 1827, dtype: int64"
      ]
     },
     "execution_count": 8,
     "metadata": {},
     "output_type": "execute_result"
    }
   ],
   "source": [
    "df['model'].value_counts()"
   ]
  },
  {
   "cell_type": "code",
   "execution_count": 9,
   "id": "bc974600",
   "metadata": {
    "execution": {
     "iopub.execute_input": "2024-06-16T08:17:10.506214Z",
     "iopub.status.busy": "2024-06-16T08:17:10.505943Z",
     "iopub.status.idle": "2024-06-16T08:17:10.512358Z",
     "shell.execute_reply": "2024-06-16T08:17:10.511552Z"
    },
    "papermill": {
     "duration": 0.03602,
     "end_time": "2024-06-16T08:17:10.514464",
     "exception": false,
     "start_time": "2024-06-16T08:17:10.478444",
     "status": "completed"
    },
    "tags": []
   },
   "outputs": [
    {
     "data": {
      "text/plain": [
       "0        2018\n",
       "1        2007\n",
       "2        2009\n",
       "3        2022\n",
       "4        2001\n",
       "         ... \n",
       "54268    2017\n",
       "54269    2015\n",
       "54270    2013\n",
       "54271    2023\n",
       "54272    2021\n",
       "Name: model_year, Length: 54273, dtype: int64"
      ]
     },
     "execution_count": 9,
     "metadata": {},
     "output_type": "execute_result"
    }
   ],
   "source": [
    "df['model_year']"
   ]
  },
  {
   "cell_type": "code",
   "execution_count": 10,
   "id": "ce9ea683",
   "metadata": {
    "execution": {
     "iopub.execute_input": "2024-06-16T08:17:10.608620Z",
     "iopub.status.busy": "2024-06-16T08:17:10.607820Z",
     "iopub.status.idle": "2024-06-16T08:17:10.642556Z",
     "shell.execute_reply": "2024-06-16T08:17:10.641657Z"
    },
    "papermill": {
     "duration": 0.103482,
     "end_time": "2024-06-16T08:17:10.644698",
     "exception": false,
     "start_time": "2024-06-16T08:17:10.541216",
     "status": "completed"
    },
    "tags": []
   },
   "outputs": [
    {
     "data": {
      "text/html": [
       "<div>\n",
       "<style scoped>\n",
       "    .dataframe tbody tr th:only-of-type {\n",
       "        vertical-align: middle;\n",
       "    }\n",
       "\n",
       "    .dataframe tbody tr th {\n",
       "        vertical-align: top;\n",
       "    }\n",
       "\n",
       "    .dataframe thead th {\n",
       "        text-align: right;\n",
       "    }\n",
       "</style>\n",
       "<table border=\"1\" class=\"dataframe\">\n",
       "  <thead>\n",
       "    <tr style=\"text-align: right;\">\n",
       "      <th></th>\n",
       "      <th>id</th>\n",
       "      <th>model_year</th>\n",
       "      <th>milage</th>\n",
       "      <th>price</th>\n",
       "      <th>age</th>\n",
       "      <th>fuel_typenot_is_missing</th>\n",
       "    </tr>\n",
       "  </thead>\n",
       "  <tbody>\n",
       "    <tr>\n",
       "      <th>count</th>\n",
       "      <td>54273.000000</td>\n",
       "      <td>54273.000000</td>\n",
       "      <td>54273.000000</td>\n",
       "      <td>5.427300e+04</td>\n",
       "      <td>54273.000000</td>\n",
       "      <td>54273.000000</td>\n",
       "    </tr>\n",
       "    <tr>\n",
       "      <th>mean</th>\n",
       "      <td>27136.000000</td>\n",
       "      <td>2015.091979</td>\n",
       "      <td>72746.175667</td>\n",
       "      <td>3.921844e+04</td>\n",
       "      <td>8.908021</td>\n",
       "      <td>0.927109</td>\n",
       "    </tr>\n",
       "    <tr>\n",
       "      <th>std</th>\n",
       "      <td>15667.409917</td>\n",
       "      <td>5.588909</td>\n",
       "      <td>50469.490448</td>\n",
       "      <td>7.282634e+04</td>\n",
       "      <td>5.588909</td>\n",
       "      <td>0.259959</td>\n",
       "    </tr>\n",
       "    <tr>\n",
       "      <th>min</th>\n",
       "      <td>0.000000</td>\n",
       "      <td>1974.000000</td>\n",
       "      <td>100.000000</td>\n",
       "      <td>2.000000e+03</td>\n",
       "      <td>0.000000</td>\n",
       "      <td>0.000000</td>\n",
       "    </tr>\n",
       "    <tr>\n",
       "      <th>25%</th>\n",
       "      <td>13568.000000</td>\n",
       "      <td>2012.000000</td>\n",
       "      <td>32268.000000</td>\n",
       "      <td>1.550000e+04</td>\n",
       "      <td>5.000000</td>\n",
       "      <td>1.000000</td>\n",
       "    </tr>\n",
       "    <tr>\n",
       "      <th>50%</th>\n",
       "      <td>27136.000000</td>\n",
       "      <td>2016.000000</td>\n",
       "      <td>66107.000000</td>\n",
       "      <td>2.800000e+04</td>\n",
       "      <td>8.000000</td>\n",
       "      <td>1.000000</td>\n",
       "    </tr>\n",
       "    <tr>\n",
       "      <th>75%</th>\n",
       "      <td>40704.000000</td>\n",
       "      <td>2019.000000</td>\n",
       "      <td>102000.000000</td>\n",
       "      <td>4.500000e+04</td>\n",
       "      <td>12.000000</td>\n",
       "      <td>1.000000</td>\n",
       "    </tr>\n",
       "    <tr>\n",
       "      <th>max</th>\n",
       "      <td>54272.000000</td>\n",
       "      <td>2024.000000</td>\n",
       "      <td>405000.000000</td>\n",
       "      <td>2.954083e+06</td>\n",
       "      <td>50.000000</td>\n",
       "      <td>1.000000</td>\n",
       "    </tr>\n",
       "  </tbody>\n",
       "</table>\n",
       "</div>"
      ],
      "text/plain": [
       "                 id    model_year         milage         price           age  \\\n",
       "count  54273.000000  54273.000000   54273.000000  5.427300e+04  54273.000000   \n",
       "mean   27136.000000   2015.091979   72746.175667  3.921844e+04      8.908021   \n",
       "std    15667.409917      5.588909   50469.490448  7.282634e+04      5.588909   \n",
       "min        0.000000   1974.000000     100.000000  2.000000e+03      0.000000   \n",
       "25%    13568.000000   2012.000000   32268.000000  1.550000e+04      5.000000   \n",
       "50%    27136.000000   2016.000000   66107.000000  2.800000e+04      8.000000   \n",
       "75%    40704.000000   2019.000000  102000.000000  4.500000e+04     12.000000   \n",
       "max    54272.000000   2024.000000  405000.000000  2.954083e+06     50.000000   \n",
       "\n",
       "       fuel_typenot_is_missing  \n",
       "count             54273.000000  \n",
       "mean                  0.927109  \n",
       "std                   0.259959  \n",
       "min                   0.000000  \n",
       "25%                   1.000000  \n",
       "50%                   1.000000  \n",
       "75%                   1.000000  \n",
       "max                   1.000000  "
      ]
     },
     "execution_count": 10,
     "metadata": {},
     "output_type": "execute_result"
    }
   ],
   "source": [
    "df.describe()"
   ]
  },
  {
   "cell_type": "code",
   "execution_count": 11,
   "id": "204391c7",
   "metadata": {
    "execution": {
     "iopub.execute_input": "2024-06-16T08:17:10.702211Z",
     "iopub.status.busy": "2024-06-16T08:17:10.701708Z",
     "iopub.status.idle": "2024-06-16T08:17:10.765924Z",
     "shell.execute_reply": "2024-06-16T08:17:10.764846Z"
    },
    "papermill": {
     "duration": 0.094344,
     "end_time": "2024-06-16T08:17:10.767953",
     "exception": false,
     "start_time": "2024-06-16T08:17:10.673609",
     "status": "completed"
    },
    "tags": []
   },
   "outputs": [
    {
     "name": "stdout",
     "output_type": "stream",
     "text": [
      "<class 'pandas.core.frame.DataFrame'>\n",
      "RangeIndex: 54273 entries, 0 to 54272\n",
      "Data columns (total 16 columns):\n",
      " #   Column                   Non-Null Count  Dtype  \n",
      "---  ------                   --------------  -----  \n",
      " 0   id                       54273 non-null  int64  \n",
      " 1   brand                    54273 non-null  object \n",
      " 2   model                    54273 non-null  object \n",
      " 3   model_year               54273 non-null  int64  \n",
      " 4   milage                   54273 non-null  int64  \n",
      " 5   fuel_type                54273 non-null  object \n",
      " 6   engine                   54273 non-null  object \n",
      " 7   transmission             54273 non-null  object \n",
      " 8   ext_col                  54273 non-null  object \n",
      " 9   int_col                  54273 non-null  object \n",
      " 10  accident                 54273 non-null  object \n",
      " 11  clean_title              54273 non-null  object \n",
      " 12  price                    54273 non-null  int64  \n",
      " 13  age                      54273 non-null  int64  \n",
      " 14  fuel_type_is_missing     54273 non-null  bool   \n",
      " 15  fuel_typenot_is_missing  54273 non-null  float64\n",
      "dtypes: bool(1), float64(1), int64(5), object(9)\n",
      "memory usage: 6.3+ MB\n"
     ]
    }
   ],
   "source": [
    "df.info()"
   ]
  },
  {
   "cell_type": "code",
   "execution_count": 12,
   "id": "fc1b185f",
   "metadata": {
    "execution": {
     "iopub.execute_input": "2024-06-16T08:17:10.826799Z",
     "iopub.status.busy": "2024-06-16T08:17:10.826506Z",
     "iopub.status.idle": "2024-06-16T08:17:11.022361Z",
     "shell.execute_reply": "2024-06-16T08:17:11.021289Z"
    },
    "papermill": {
     "duration": 0.227054,
     "end_time": "2024-06-16T08:17:11.024927",
     "exception": false,
     "start_time": "2024-06-16T08:17:10.797873",
     "status": "completed"
    },
    "tags": []
   },
   "outputs": [],
   "source": [
    "df['horsepower']=df['engine'].apply(lambda x:float(re.search(r\"(\\d+\\.\\d+)HP\", x).group(1)) if re.search(r\"(\\d+\\.\\d+)HP\", x) else None)\n",
    "label='horsepower'\n",
    "df[label + \"_is_missing\"] = pd.isnull(df['horsepower'])\n",
    "# Fill missing numeric values with median \n",
    "df[label] = df['horsepower'].fillna(331.69)"
   ]
  },
  {
   "cell_type": "code",
   "execution_count": 13,
   "id": "c69d81a5",
   "metadata": {
    "execution": {
     "iopub.execute_input": "2024-06-16T08:17:11.082930Z",
     "iopub.status.busy": "2024-06-16T08:17:11.082634Z",
     "iopub.status.idle": "2024-06-16T08:17:11.115945Z",
     "shell.execute_reply": "2024-06-16T08:17:11.115206Z"
    },
    "papermill": {
     "duration": 0.065217,
     "end_time": "2024-06-16T08:17:11.117975",
     "exception": false,
     "start_time": "2024-06-16T08:17:11.052758",
     "status": "completed"
    },
    "tags": []
   },
   "outputs": [],
   "source": [
    "q25=df['horsepower'].quantile(0.25)\n",
    "q75=df['horsepower'].quantile(0.75)\n",
    "iqr=q75-q25\n",
    "up=q75+1.5*iqr\n",
    "down=q25-1.5*iqr\n",
    "df['horsepower']=df['horsepower'].apply(lambda x: up if x>up else x)"
   ]
  },
  {
   "cell_type": "code",
   "execution_count": 14,
   "id": "4ab34e08",
   "metadata": {
    "execution": {
     "iopub.execute_input": "2024-06-16T08:17:11.175806Z",
     "iopub.status.busy": "2024-06-16T08:17:11.175556Z",
     "iopub.status.idle": "2024-06-16T08:17:11.207344Z",
     "shell.execute_reply": "2024-06-16T08:17:11.206622Z"
    },
    "papermill": {
     "duration": 0.062243,
     "end_time": "2024-06-16T08:17:11.209155",
     "exception": false,
     "start_time": "2024-06-16T08:17:11.146912",
     "status": "completed"
    },
    "tags": []
   },
   "outputs": [],
   "source": [
    "df['cylinder_config']=df['engine'].apply(lambda engine_str: \"V\" if \"V\" in engine_str else \"Straight\" if \"Straight\" in engine_str else None)\n",
    "label='cylinder_config'\n",
    "df[label + \"_is_missing\"] = pd.isnull(df['cylinder_config'])\n",
    "# Fill missing numeric values with median \n",
    "df[label] = df['cylinder_config'].fillna(\"idontknow0\")"
   ]
  },
  {
   "cell_type": "code",
   "execution_count": 15,
   "id": "ad735065",
   "metadata": {
    "execution": {
     "iopub.execute_input": "2024-06-16T08:17:11.265313Z",
     "iopub.status.busy": "2024-06-16T08:17:11.265042Z",
     "iopub.status.idle": "2024-06-16T08:17:11.271987Z",
     "shell.execute_reply": "2024-06-16T08:17:11.271122Z"
    },
    "papermill": {
     "duration": 0.037127,
     "end_time": "2024-06-16T08:17:11.273975",
     "exception": false,
     "start_time": "2024-06-16T08:17:11.236848",
     "status": "completed"
    },
    "tags": []
   },
   "outputs": [
    {
     "data": {
      "text/plain": [
       "0                 V\n",
       "1          Straight\n",
       "2        idontknow0\n",
       "3          Straight\n",
       "4                 V\n",
       "            ...    \n",
       "54268    idontknow0\n",
       "54269    idontknow0\n",
       "54270             V\n",
       "54271             V\n",
       "54272    idontknow0\n",
       "Name: cylinder_config, Length: 54273, dtype: object"
      ]
     },
     "execution_count": 15,
     "metadata": {},
     "output_type": "execute_result"
    }
   ],
   "source": [
    "df['cylinder_config']"
   ]
  },
  {
   "cell_type": "code",
   "execution_count": 16,
   "id": "79926a9e",
   "metadata": {
    "execution": {
     "iopub.execute_input": "2024-06-16T08:17:11.330975Z",
     "iopub.status.busy": "2024-06-16T08:17:11.330697Z",
     "iopub.status.idle": "2024-06-16T08:17:11.366771Z",
     "shell.execute_reply": "2024-06-16T08:17:11.365975Z"
    },
    "papermill": {
     "duration": 0.066557,
     "end_time": "2024-06-16T08:17:11.368890",
     "exception": false,
     "start_time": "2024-06-16T08:17:11.302333",
     "status": "completed"
    },
    "scrolled": true,
    "tags": []
   },
   "outputs": [],
   "source": [
    "cylinder_config=pd.get_dummies(df['cylinder_config'])\n",
    "df=pd.concat([df,cylinder_config],axis=1)"
   ]
  },
  {
   "cell_type": "code",
   "execution_count": 17,
   "id": "afe7433f",
   "metadata": {
    "execution": {
     "iopub.execute_input": "2024-06-16T08:17:11.425607Z",
     "iopub.status.busy": "2024-06-16T08:17:11.425030Z",
     "iopub.status.idle": "2024-06-16T08:17:11.596239Z",
     "shell.execute_reply": "2024-06-16T08:17:11.595497Z"
    },
    "papermill": {
     "duration": 0.201643,
     "end_time": "2024-06-16T08:17:11.598342",
     "exception": false,
     "start_time": "2024-06-16T08:17:11.396699",
     "status": "completed"
    },
    "tags": []
   },
   "outputs": [],
   "source": [
    "import re\n",
    "v1=df['engine'].str.extract(r'\\s(\\d+)\\s')"
   ]
  },
  {
   "cell_type": "code",
   "execution_count": 18,
   "id": "3eabe948",
   "metadata": {
    "execution": {
     "iopub.execute_input": "2024-06-16T08:17:11.655221Z",
     "iopub.status.busy": "2024-06-16T08:17:11.654708Z",
     "iopub.status.idle": "2024-06-16T08:17:11.659915Z",
     "shell.execute_reply": "2024-06-16T08:17:11.659193Z"
    },
    "papermill": {
     "duration": 0.035579,
     "end_time": "2024-06-16T08:17:11.661808",
     "exception": false,
     "start_time": "2024-06-16T08:17:11.626229",
     "status": "completed"
    },
    "tags": []
   },
   "outputs": [],
   "source": [
    "v1=pd.DataFrame({'index':range(0,54273),'number':v1[0]})\n",
    "# v1[0]"
   ]
  },
  {
   "cell_type": "code",
   "execution_count": 19,
   "id": "2feeec66",
   "metadata": {
    "execution": {
     "iopub.execute_input": "2024-06-16T08:17:11.717964Z",
     "iopub.status.busy": "2024-06-16T08:17:11.717670Z",
     "iopub.status.idle": "2024-06-16T08:17:11.833378Z",
     "shell.execute_reply": "2024-06-16T08:17:11.832697Z"
    },
    "papermill": {
     "duration": 0.145921,
     "end_time": "2024-06-16T08:17:11.835329",
     "exception": false,
     "start_time": "2024-06-16T08:17:11.689408",
     "status": "completed"
    },
    "tags": []
   },
   "outputs": [],
   "source": [
    "v2=df['engine'].str.extract(r'\\s\\w(\\d+)\\s')"
   ]
  },
  {
   "cell_type": "code",
   "execution_count": 20,
   "id": "e73a3135",
   "metadata": {
    "execution": {
     "iopub.execute_input": "2024-06-16T08:17:11.890855Z",
     "iopub.status.busy": "2024-06-16T08:17:11.890543Z",
     "iopub.status.idle": "2024-06-16T08:17:11.895570Z",
     "shell.execute_reply": "2024-06-16T08:17:11.894874Z"
    },
    "papermill": {
     "duration": 0.034726,
     "end_time": "2024-06-16T08:17:11.897410",
     "exception": false,
     "start_time": "2024-06-16T08:17:11.862684",
     "status": "completed"
    },
    "tags": []
   },
   "outputs": [],
   "source": [
    "v2=pd.DataFrame({'index':range(0,54273),'number':v2[0]})"
   ]
  },
  {
   "cell_type": "code",
   "execution_count": 21,
   "id": "aa5cbb62",
   "metadata": {
    "execution": {
     "iopub.execute_input": "2024-06-16T08:17:11.953664Z",
     "iopub.status.busy": "2024-06-16T08:17:11.953401Z",
     "iopub.status.idle": "2024-06-16T08:17:11.967448Z",
     "shell.execute_reply": "2024-06-16T08:17:11.966781Z"
    },
    "papermill": {
     "duration": 0.044253,
     "end_time": "2024-06-16T08:17:11.969271",
     "exception": false,
     "start_time": "2024-06-16T08:17:11.925018",
     "status": "completed"
    },
    "tags": []
   },
   "outputs": [],
   "source": [
    "newv=pd.merge(v1, v2, on='index', how='outer')"
   ]
  },
  {
   "cell_type": "code",
   "execution_count": 22,
   "id": "60574f32",
   "metadata": {
    "execution": {
     "iopub.execute_input": "2024-06-16T08:17:12.026900Z",
     "iopub.status.busy": "2024-06-16T08:17:12.026589Z",
     "iopub.status.idle": "2024-06-16T08:17:12.035652Z",
     "shell.execute_reply": "2024-06-16T08:17:12.034762Z"
    },
    "papermill": {
     "duration": 0.04143,
     "end_time": "2024-06-16T08:17:12.037979",
     "exception": false,
     "start_time": "2024-06-16T08:17:11.996549",
     "status": "completed"
    },
    "tags": []
   },
   "outputs": [
    {
     "data": {
      "text/html": [
       "<div>\n",
       "<style scoped>\n",
       "    .dataframe tbody tr th:only-of-type {\n",
       "        vertical-align: middle;\n",
       "    }\n",
       "\n",
       "    .dataframe tbody tr th {\n",
       "        vertical-align: top;\n",
       "    }\n",
       "\n",
       "    .dataframe thead th {\n",
       "        text-align: right;\n",
       "    }\n",
       "</style>\n",
       "<table border=\"1\" class=\"dataframe\">\n",
       "  <thead>\n",
       "    <tr style=\"text-align: right;\">\n",
       "      <th></th>\n",
       "      <th>index</th>\n",
       "      <th>number_x</th>\n",
       "      <th>number_y</th>\n",
       "    </tr>\n",
       "  </thead>\n",
       "  <tbody>\n",
       "    <tr>\n",
       "      <th>0</th>\n",
       "      <td>0</td>\n",
       "      <td>NaN</td>\n",
       "      <td>6</td>\n",
       "    </tr>\n",
       "    <tr>\n",
       "      <th>1</th>\n",
       "      <td>1</td>\n",
       "      <td>6</td>\n",
       "      <td>NaN</td>\n",
       "    </tr>\n",
       "    <tr>\n",
       "      <th>2</th>\n",
       "      <td>2</td>\n",
       "      <td>8</td>\n",
       "      <td>NaN</td>\n",
       "    </tr>\n",
       "    <tr>\n",
       "      <th>3</th>\n",
       "      <td>3</td>\n",
       "      <td>6</td>\n",
       "      <td>NaN</td>\n",
       "    </tr>\n",
       "    <tr>\n",
       "      <th>4</th>\n",
       "      <td>4</td>\n",
       "      <td>NaN</td>\n",
       "      <td>6</td>\n",
       "    </tr>\n",
       "  </tbody>\n",
       "</table>\n",
       "</div>"
      ],
      "text/plain": [
       "   index number_x number_y\n",
       "0      0      NaN        6\n",
       "1      1        6      NaN\n",
       "2      2        8      NaN\n",
       "3      3        6      NaN\n",
       "4      4      NaN        6"
      ]
     },
     "execution_count": 22,
     "metadata": {},
     "output_type": "execute_result"
    }
   ],
   "source": [
    "newv.head()"
   ]
  },
  {
   "cell_type": "code",
   "execution_count": 23,
   "id": "536d5a4d",
   "metadata": {
    "execution": {
     "iopub.execute_input": "2024-06-16T08:17:12.095767Z",
     "iopub.status.busy": "2024-06-16T08:17:12.095510Z",
     "iopub.status.idle": "2024-06-16T08:17:12.105846Z",
     "shell.execute_reply": "2024-06-16T08:17:12.105182Z"
    },
    "papermill": {
     "duration": 0.040742,
     "end_time": "2024-06-16T08:17:12.107745",
     "exception": false,
     "start_time": "2024-06-16T08:17:12.067003",
     "status": "completed"
    },
    "tags": []
   },
   "outputs": [],
   "source": [
    "df['v']=newv['number_x'].combine_first(newv['number_y'])"
   ]
  },
  {
   "cell_type": "code",
   "execution_count": 24,
   "id": "ac39be9d",
   "metadata": {
    "execution": {
     "iopub.execute_input": "2024-06-16T08:17:12.163502Z",
     "iopub.status.busy": "2024-06-16T08:17:12.163235Z",
     "iopub.status.idle": "2024-06-16T08:17:12.179238Z",
     "shell.execute_reply": "2024-06-16T08:17:12.178607Z"
    },
    "papermill": {
     "duration": 0.046151,
     "end_time": "2024-06-16T08:17:12.181143",
     "exception": false,
     "start_time": "2024-06-16T08:17:12.134992",
     "status": "completed"
    },
    "tags": []
   },
   "outputs": [],
   "source": [
    "label='v'\n",
    "df[label + \"_is_missing\"] = pd.isnull(df['v'])\n",
    "df[label] = df['v'].fillna('6')"
   ]
  },
  {
   "cell_type": "code",
   "execution_count": 25,
   "id": "b0c9e46b",
   "metadata": {
    "execution": {
     "iopub.execute_input": "2024-06-16T08:17:12.238371Z",
     "iopub.status.busy": "2024-06-16T08:17:12.238084Z",
     "iopub.status.idle": "2024-06-16T08:17:12.248561Z",
     "shell.execute_reply": "2024-06-16T08:17:12.247871Z"
    },
    "papermill": {
     "duration": 0.040771,
     "end_time": "2024-06-16T08:17:12.250427",
     "exception": false,
     "start_time": "2024-06-16T08:17:12.209656",
     "status": "completed"
    },
    "tags": []
   },
   "outputs": [],
   "source": [
    "df['v']=df['v'].astype(int)"
   ]
  },
  {
   "cell_type": "code",
   "execution_count": 26,
   "id": "2a562989",
   "metadata": {
    "execution": {
     "iopub.execute_input": "2024-06-16T08:17:12.308314Z",
     "iopub.status.busy": "2024-06-16T08:17:12.307781Z",
     "iopub.status.idle": "2024-06-16T08:17:12.495082Z",
     "shell.execute_reply": "2024-06-16T08:17:12.494140Z"
    },
    "papermill": {
     "duration": 0.219622,
     "end_time": "2024-06-16T08:17:12.497426",
     "exception": false,
     "start_time": "2024-06-16T08:17:12.277804",
     "status": "completed"
    },
    "tags": []
   },
   "outputs": [],
   "source": [
    "l1=df['engine'].str.extract(r'\\s(\\d+\\.\\d+)\\w\\s')\n",
    "l1=pd.DataFrame({'index':range(0,54273),'number':l1[0]})"
   ]
  },
  {
   "cell_type": "code",
   "execution_count": 27,
   "id": "e06c5d46",
   "metadata": {
    "execution": {
     "iopub.execute_input": "2024-06-16T08:17:12.554610Z",
     "iopub.status.busy": "2024-06-16T08:17:12.554319Z",
     "iopub.status.idle": "2024-06-16T08:17:12.712025Z",
     "shell.execute_reply": "2024-06-16T08:17:12.711250Z"
    },
    "papermill": {
     "duration": 0.18859,
     "end_time": "2024-06-16T08:17:12.714112",
     "exception": false,
     "start_time": "2024-06-16T08:17:12.525522",
     "status": "completed"
    },
    "tags": []
   },
   "outputs": [],
   "source": [
    "l2=df['engine'].str.extract(r'\\b(\\d+\\.\\d+)\\sLiter\\b')\n",
    "l2=pd.DataFrame({'index':range(0,54273),'number':l2[0]})"
   ]
  },
  {
   "cell_type": "code",
   "execution_count": 28,
   "id": "fa82dee6",
   "metadata": {
    "execution": {
     "iopub.execute_input": "2024-06-16T08:17:12.771776Z",
     "iopub.status.busy": "2024-06-16T08:17:12.771492Z",
     "iopub.status.idle": "2024-06-16T08:17:12.780098Z",
     "shell.execute_reply": "2024-06-16T08:17:12.779187Z"
    },
    "papermill": {
     "duration": 0.03953,
     "end_time": "2024-06-16T08:17:12.782125",
     "exception": false,
     "start_time": "2024-06-16T08:17:12.742595",
     "status": "completed"
    },
    "tags": []
   },
   "outputs": [],
   "source": [
    "newv=pd.merge(l1, l2, on='index', how='outer')\n",
    "# df['L']=newv['number_x'].combine_first(newv['number_y'])\n"
   ]
  },
  {
   "cell_type": "code",
   "execution_count": 29,
   "id": "5ea8db33",
   "metadata": {
    "execution": {
     "iopub.execute_input": "2024-06-16T08:17:12.839092Z",
     "iopub.status.busy": "2024-06-16T08:17:12.838786Z",
     "iopub.status.idle": "2024-06-16T08:17:13.115004Z",
     "shell.execute_reply": "2024-06-16T08:17:13.114213Z"
    },
    "papermill": {
     "duration": 0.307155,
     "end_time": "2024-06-16T08:17:13.117123",
     "exception": false,
     "start_time": "2024-06-16T08:17:12.809968",
     "status": "completed"
    },
    "tags": []
   },
   "outputs": [],
   "source": [
    "df['L']=df['engine'].apply(lambda x:float(re.search(r\"(\\d+\\.\\d+)L\", x).group(1)) if  re.search(r\"(\\d+\\.\\d+)L\", x) else None)"
   ]
  },
  {
   "cell_type": "code",
   "execution_count": 30,
   "id": "427233ca",
   "metadata": {
    "execution": {
     "iopub.execute_input": "2024-06-16T08:17:13.174389Z",
     "iopub.status.busy": "2024-06-16T08:17:13.174109Z",
     "iopub.status.idle": "2024-06-16T08:17:13.180503Z",
     "shell.execute_reply": "2024-06-16T08:17:13.179677Z"
    },
    "papermill": {
     "duration": 0.036613,
     "end_time": "2024-06-16T08:17:13.182390",
     "exception": false,
     "start_time": "2024-06-16T08:17:13.145777",
     "status": "completed"
    },
    "tags": []
   },
   "outputs": [
    {
     "data": {
      "text/plain": [
       "606"
      ]
     },
     "execution_count": 30,
     "metadata": {},
     "output_type": "execute_result"
    }
   ],
   "source": [
    "df['L'].isnull().sum()"
   ]
  },
  {
   "cell_type": "code",
   "execution_count": 31,
   "id": "822e28ff",
   "metadata": {
    "execution": {
     "iopub.execute_input": "2024-06-16T08:17:13.239115Z",
     "iopub.status.busy": "2024-06-16T08:17:13.238844Z",
     "iopub.status.idle": "2024-06-16T08:17:13.257549Z",
     "shell.execute_reply": "2024-06-16T08:17:13.256811Z"
    },
    "papermill": {
     "duration": 0.04885,
     "end_time": "2024-06-16T08:17:13.259356",
     "exception": false,
     "start_time": "2024-06-16T08:17:13.210506",
     "status": "completed"
    },
    "tags": []
   },
   "outputs": [
    {
     "data": {
      "text/plain": [
       "3.716927534611586"
      ]
     },
     "execution_count": 31,
     "metadata": {},
     "output_type": "execute_result"
    }
   ],
   "source": [
    "df[df['L'].notnull()]['L'].mean()"
   ]
  },
  {
   "cell_type": "code",
   "execution_count": 32,
   "id": "21fda418",
   "metadata": {
    "execution": {
     "iopub.execute_input": "2024-06-16T08:17:13.316853Z",
     "iopub.status.busy": "2024-06-16T08:17:13.316227Z",
     "iopub.status.idle": "2024-06-16T08:17:13.330231Z",
     "shell.execute_reply": "2024-06-16T08:17:13.329381Z"
    },
    "papermill": {
     "duration": 0.044379,
     "end_time": "2024-06-16T08:17:13.332132",
     "exception": false,
     "start_time": "2024-06-16T08:17:13.287753",
     "status": "completed"
    },
    "tags": []
   },
   "outputs": [],
   "source": [
    "# df['L']=df['L'].fillna('3.72')\n",
    "# df['L'] = df['L'].astype(float)\n",
    "label='L'\n",
    "df[label + \"_is_missing\"] = pd.isnull(df['L'])\n",
    "df[label] = df['L'].fillna('3.7')\n",
    "df['L']=df['L'].astype(float)"
   ]
  },
  {
   "cell_type": "code",
   "execution_count": 33,
   "id": "13163103",
   "metadata": {
    "execution": {
     "iopub.execute_input": "2024-06-16T08:17:13.388604Z",
     "iopub.status.busy": "2024-06-16T08:17:13.388326Z",
     "iopub.status.idle": "2024-06-16T08:17:13.412302Z",
     "shell.execute_reply": "2024-06-16T08:17:13.411492Z"
    },
    "papermill": {
     "duration": 0.054529,
     "end_time": "2024-06-16T08:17:13.414243",
     "exception": false,
     "start_time": "2024-06-16T08:17:13.359714",
     "status": "completed"
    },
    "tags": []
   },
   "outputs": [
    {
     "data": {
      "text/html": [
       "<div>\n",
       "<style scoped>\n",
       "    .dataframe tbody tr th:only-of-type {\n",
       "        vertical-align: middle;\n",
       "    }\n",
       "\n",
       "    .dataframe tbody tr th {\n",
       "        vertical-align: top;\n",
       "    }\n",
       "\n",
       "    .dataframe thead th {\n",
       "        text-align: right;\n",
       "    }\n",
       "</style>\n",
       "<table border=\"1\" class=\"dataframe\">\n",
       "  <thead>\n",
       "    <tr style=\"text-align: right;\">\n",
       "      <th></th>\n",
       "      <th>id</th>\n",
       "      <th>brand</th>\n",
       "      <th>model</th>\n",
       "      <th>model_year</th>\n",
       "      <th>milage</th>\n",
       "      <th>fuel_type</th>\n",
       "      <th>engine</th>\n",
       "      <th>transmission</th>\n",
       "      <th>ext_col</th>\n",
       "      <th>int_col</th>\n",
       "      <th>...</th>\n",
       "      <th>horsepower_is_missing</th>\n",
       "      <th>cylinder_config</th>\n",
       "      <th>cylinder_config_is_missing</th>\n",
       "      <th>Straight</th>\n",
       "      <th>V</th>\n",
       "      <th>idontknow0</th>\n",
       "      <th>v</th>\n",
       "      <th>v_is_missing</th>\n",
       "      <th>L</th>\n",
       "      <th>L_is_missing</th>\n",
       "    </tr>\n",
       "  </thead>\n",
       "  <tbody>\n",
       "    <tr>\n",
       "      <th>0</th>\n",
       "      <td>0</td>\n",
       "      <td>Ford</td>\n",
       "      <td>F-150 Lariat</td>\n",
       "      <td>2018</td>\n",
       "      <td>74349</td>\n",
       "      <td>Gasoline</td>\n",
       "      <td>375.0HP 3.5L V6 Cylinder Engine Gasoline Fuel</td>\n",
       "      <td>10-Speed A/T</td>\n",
       "      <td>Blue</td>\n",
       "      <td>Gray</td>\n",
       "      <td>...</td>\n",
       "      <td>False</td>\n",
       "      <td>V</td>\n",
       "      <td>False</td>\n",
       "      <td>False</td>\n",
       "      <td>True</td>\n",
       "      <td>False</td>\n",
       "      <td>6</td>\n",
       "      <td>False</td>\n",
       "      <td>3.5</td>\n",
       "      <td>False</td>\n",
       "    </tr>\n",
       "    <tr>\n",
       "      <th>1</th>\n",
       "      <td>1</td>\n",
       "      <td>BMW</td>\n",
       "      <td>335 i</td>\n",
       "      <td>2007</td>\n",
       "      <td>80000</td>\n",
       "      <td>Gasoline</td>\n",
       "      <td>300.0HP 3.0L Straight 6 Cylinder Engine Gasoli...</td>\n",
       "      <td>6-Speed M/T</td>\n",
       "      <td>Black</td>\n",
       "      <td>Black</td>\n",
       "      <td>...</td>\n",
       "      <td>False</td>\n",
       "      <td>Straight</td>\n",
       "      <td>False</td>\n",
       "      <td>True</td>\n",
       "      <td>False</td>\n",
       "      <td>False</td>\n",
       "      <td>6</td>\n",
       "      <td>False</td>\n",
       "      <td>3.0</td>\n",
       "      <td>False</td>\n",
       "    </tr>\n",
       "    <tr>\n",
       "      <th>2</th>\n",
       "      <td>2</td>\n",
       "      <td>Jaguar</td>\n",
       "      <td>XF Luxury</td>\n",
       "      <td>2009</td>\n",
       "      <td>91491</td>\n",
       "      <td>Gasoline</td>\n",
       "      <td>300.0HP 4.2L 8 Cylinder Engine Gasoline Fuel</td>\n",
       "      <td>6-Speed A/T</td>\n",
       "      <td>Purple</td>\n",
       "      <td>Beige</td>\n",
       "      <td>...</td>\n",
       "      <td>False</td>\n",
       "      <td>idontknow0</td>\n",
       "      <td>True</td>\n",
       "      <td>False</td>\n",
       "      <td>False</td>\n",
       "      <td>True</td>\n",
       "      <td>8</td>\n",
       "      <td>False</td>\n",
       "      <td>4.2</td>\n",
       "      <td>False</td>\n",
       "    </tr>\n",
       "    <tr>\n",
       "      <th>3</th>\n",
       "      <td>3</td>\n",
       "      <td>BMW</td>\n",
       "      <td>X7 xDrive40i</td>\n",
       "      <td>2022</td>\n",
       "      <td>2437</td>\n",
       "      <td>Hybrid</td>\n",
       "      <td>335.0HP 3.0L Straight 6 Cylinder Engine Gasoli...</td>\n",
       "      <td>Transmission w/Dual Shift Mode</td>\n",
       "      <td>Gray</td>\n",
       "      <td>Brown</td>\n",
       "      <td>...</td>\n",
       "      <td>False</td>\n",
       "      <td>Straight</td>\n",
       "      <td>False</td>\n",
       "      <td>True</td>\n",
       "      <td>False</td>\n",
       "      <td>False</td>\n",
       "      <td>6</td>\n",
       "      <td>False</td>\n",
       "      <td>3.0</td>\n",
       "      <td>False</td>\n",
       "    </tr>\n",
       "    <tr>\n",
       "      <th>4</th>\n",
       "      <td>4</td>\n",
       "      <td>Pontiac</td>\n",
       "      <td>Firebird Base</td>\n",
       "      <td>2001</td>\n",
       "      <td>111000</td>\n",
       "      <td>Gasoline</td>\n",
       "      <td>200.0HP 3.8L V6 Cylinder Engine Gasoline Fuel</td>\n",
       "      <td>A/T</td>\n",
       "      <td>White</td>\n",
       "      <td>Black</td>\n",
       "      <td>...</td>\n",
       "      <td>False</td>\n",
       "      <td>V</td>\n",
       "      <td>False</td>\n",
       "      <td>False</td>\n",
       "      <td>True</td>\n",
       "      <td>False</td>\n",
       "      <td>6</td>\n",
       "      <td>False</td>\n",
       "      <td>3.8</td>\n",
       "      <td>False</td>\n",
       "    </tr>\n",
       "  </tbody>\n",
       "</table>\n",
       "<p>5 rows × 27 columns</p>\n",
       "</div>"
      ],
      "text/plain": [
       "   id    brand          model  model_year  milage fuel_type  \\\n",
       "0   0     Ford   F-150 Lariat        2018   74349  Gasoline   \n",
       "1   1      BMW          335 i        2007   80000  Gasoline   \n",
       "2   2   Jaguar      XF Luxury        2009   91491  Gasoline   \n",
       "3   3      BMW   X7 xDrive40i        2022    2437    Hybrid   \n",
       "4   4  Pontiac  Firebird Base        2001  111000  Gasoline   \n",
       "\n",
       "                                              engine  \\\n",
       "0      375.0HP 3.5L V6 Cylinder Engine Gasoline Fuel   \n",
       "1  300.0HP 3.0L Straight 6 Cylinder Engine Gasoli...   \n",
       "2       300.0HP 4.2L 8 Cylinder Engine Gasoline Fuel   \n",
       "3  335.0HP 3.0L Straight 6 Cylinder Engine Gasoli...   \n",
       "4      200.0HP 3.8L V6 Cylinder Engine Gasoline Fuel   \n",
       "\n",
       "                     transmission ext_col int_col  ... horsepower_is_missing  \\\n",
       "0                    10-Speed A/T    Blue    Gray  ...                 False   \n",
       "1                     6-Speed M/T   Black   Black  ...                 False   \n",
       "2                     6-Speed A/T  Purple   Beige  ...                 False   \n",
       "3  Transmission w/Dual Shift Mode    Gray   Brown  ...                 False   \n",
       "4                             A/T   White   Black  ...                 False   \n",
       "\n",
       "  cylinder_config  cylinder_config_is_missing  Straight      V  idontknow0  v  \\\n",
       "0               V                       False     False   True       False  6   \n",
       "1        Straight                       False      True  False       False  6   \n",
       "2      idontknow0                        True     False  False        True  8   \n",
       "3        Straight                       False      True  False       False  6   \n",
       "4               V                       False     False   True       False  6   \n",
       "\n",
       "   v_is_missing    L  L_is_missing  \n",
       "0         False  3.5         False  \n",
       "1         False  3.0         False  \n",
       "2         False  4.2         False  \n",
       "3         False  3.0         False  \n",
       "4         False  3.8         False  \n",
       "\n",
       "[5 rows x 27 columns]"
      ]
     },
     "execution_count": 33,
     "metadata": {},
     "output_type": "execute_result"
    }
   ],
   "source": [
    "df.head()"
   ]
  },
  {
   "cell_type": "code",
   "execution_count": 34,
   "id": "49d0c65e",
   "metadata": {
    "execution": {
     "iopub.execute_input": "2024-06-16T08:17:13.471709Z",
     "iopub.status.busy": "2024-06-16T08:17:13.471422Z",
     "iopub.status.idle": "2024-06-16T08:17:13.485504Z",
     "shell.execute_reply": "2024-06-16T08:17:13.484593Z"
    },
    "papermill": {
     "duration": 0.044764,
     "end_time": "2024-06-16T08:17:13.487337",
     "exception": false,
     "start_time": "2024-06-16T08:17:13.442573",
     "status": "completed"
    },
    "tags": []
   },
   "outputs": [
    {
     "data": {
      "text/plain": [
       "transmission\n",
       "A/T                                                   16757\n",
       "8-Speed A/T                                            7287\n",
       "Transmission w/Dual Shift Mode                         6454\n",
       "6-Speed A/T                                            5944\n",
       "6-Speed M/T                                            3618\n",
       "7-Speed A/T                                            3415\n",
       "10-Speed A/T                                           2187\n",
       "8-Speed Automatic                                      1189\n",
       "5-Speed A/T                                            1185\n",
       "9-Speed A/T                                            1073\n",
       "4-Speed A/T                                             764\n",
       "5-Speed M/T                                             718\n",
       "CVT Transmission                                        692\n",
       "10-Speed Automatic                                      642\n",
       "6-Speed Automatic                                       516\n",
       "Automatic                                               441\n",
       "M/T                                                     359\n",
       "9-Speed Automatic                                       344\n",
       "7-Speed Automatic with Auto-Shift                       110\n",
       "7-Speed M/T                                             104\n",
       "Automatic CVT                                            95\n",
       "1-Speed A/T                                              60\n",
       "8-Speed Automatic with Auto-Shift                        55\n",
       "Transmission Overdrive Switch                            54\n",
       "7-Speed Automatic                                        41\n",
       "6-Speed Manual                                           34\n",
       "5-Speed Automatic                                        24\n",
       "7-Speed Manual                                           22\n",
       "6-Speed Automatic with Auto-Shift                        17\n",
       "8-Speed Manual                                            9\n",
       "4-Speed Automatic                                         8\n",
       "–                                                         7\n",
       "7-Speed                                                   7\n",
       "7-Speed DCT Automatic                                     6\n",
       "1-Speed Automatic                                         6\n",
       "6-Speed Electronically Controlled Automatic with O        6\n",
       "2-Speed A/T                                               5\n",
       "10-Speed Automatic with Overdrive                         5\n",
       "6-Speed                                                   3\n",
       "6 Speed Mt                                                2\n",
       "SCHEDULED FOR OR IN PRODUCTION                            2\n",
       "9-Speed Automatic with Auto-Shift                         2\n",
       "CVT-F                                                     1\n",
       "F                                                         1\n",
       "Variable                                                  1\n",
       "6 Speed At/Mt                                             1\n",
       "Name: count, dtype: int64"
      ]
     },
     "execution_count": 34,
     "metadata": {},
     "output_type": "execute_result"
    }
   ],
   "source": [
    "df['transmission'].value_counts()"
   ]
  },
  {
   "cell_type": "code",
   "execution_count": 35,
   "id": "22bcda29",
   "metadata": {
    "execution": {
     "iopub.execute_input": "2024-06-16T08:17:13.545859Z",
     "iopub.status.busy": "2024-06-16T08:17:13.545538Z",
     "iopub.status.idle": "2024-06-16T08:17:13.553358Z",
     "shell.execute_reply": "2024-06-16T08:17:13.552438Z"
    },
    "papermill": {
     "duration": 0.039782,
     "end_time": "2024-06-16T08:17:13.555530",
     "exception": false,
     "start_time": "2024-06-16T08:17:13.515748",
     "status": "completed"
    },
    "tags": []
   },
   "outputs": [],
   "source": [
    "# df['tranmission_no']=df['transmission'].str.extract(r'(\\d+)')\n",
    "def extract_transmission_features(transmission_str):\n",
    "    if 'A/T' in transmission_str or 'Automatic' in transmission_str or 'Auto' in transmission_str or 'automatic' in transmission_str or 'auto' in transmission_str:\n",
    "        transmission_type = 'A/T'\n",
    "        num_gears = re.search(r'(\\d+)-Speed', transmission_str)\n",
    "        num_gears = int(num_gears.group(1)) if num_gears else None\n",
    "        transmission_features = transmission_str.replace(str(num_gears) + '-Speed A/T', '').strip()\n",
    "    elif 'M/T' in transmission_str or 'Manual' in transmission_str or 'manual'in transmission_str:\n",
    "        transmission_type = 'M/T'\n",
    "        num_gears = re.search(r'(\\d+)-Speed', transmission_str)\n",
    "        num_gears = int(num_gears.group(1)) if num_gears else None\n",
    "        transmission_features = transmission_str.replace(str(num_gears) + '-Speed M/T', '').strip()\n",
    "    elif 'Dual' in transmission_str or 'dual' in transmission_str:\n",
    "        transmission_type = 'Dual'\n",
    "        num_gears = 0\n",
    "        transmission_features = transmission_str.strip()\n",
    "    else:\n",
    "        transmission_type = 'Unknown'\n",
    "        num_gears = 0\n",
    "        transmission_features = transmission_str.strip()\n",
    "    return transmission_type, num_gears,transmission_features"
   ]
  },
  {
   "cell_type": "code",
   "execution_count": 36,
   "id": "7ea026f3",
   "metadata": {
    "execution": {
     "iopub.execute_input": "2024-06-16T08:17:13.612693Z",
     "iopub.status.busy": "2024-06-16T08:17:13.612427Z",
     "iopub.status.idle": "2024-06-16T08:17:20.671335Z",
     "shell.execute_reply": "2024-06-16T08:17:20.670573Z"
    },
    "papermill": {
     "duration": 7.090158,
     "end_time": "2024-06-16T08:17:20.673765",
     "exception": false,
     "start_time": "2024-06-16T08:17:13.583607",
     "status": "completed"
    },
    "tags": []
   },
   "outputs": [],
   "source": [
    "df[['transmission_type', 'num_gears','transmission_features']]=df['transmission'].apply(extract_transmission_features).apply(pd.Series)"
   ]
  },
  {
   "cell_type": "code",
   "execution_count": 37,
   "id": "a913358d",
   "metadata": {
    "execution": {
     "iopub.execute_input": "2024-06-16T08:17:20.732468Z",
     "iopub.status.busy": "2024-06-16T08:17:20.731973Z",
     "iopub.status.idle": "2024-06-16T08:17:20.741050Z",
     "shell.execute_reply": "2024-06-16T08:17:20.740123Z"
    },
    "papermill": {
     "duration": 0.040313,
     "end_time": "2024-06-16T08:17:20.743069",
     "exception": false,
     "start_time": "2024-06-16T08:17:20.702756",
     "status": "completed"
    },
    "tags": []
   },
   "outputs": [],
   "source": [
    "# df['num_gears']=df['num_gears'].fillna(1)\n",
    "# df['num_gears']=df['num_gears'].astype(int)\n",
    "label='num_gears'\n",
    "df[label + \"_is_missing\"] = pd.isnull(df['num_gears'])\n",
    "df[label] = df['num_gears'].fillna(df['num_gears'].median())\n",
    "df['num_gears']=df['num_gears'].astype(int)"
   ]
  },
  {
   "cell_type": "code",
   "execution_count": 38,
   "id": "410ae71d",
   "metadata": {
    "execution": {
     "iopub.execute_input": "2024-06-16T08:17:20.800533Z",
     "iopub.status.busy": "2024-06-16T08:17:20.800278Z",
     "iopub.status.idle": "2024-06-16T08:17:20.816402Z",
     "shell.execute_reply": "2024-06-16T08:17:20.815457Z"
    },
    "papermill": {
     "duration": 0.047226,
     "end_time": "2024-06-16T08:17:20.818267",
     "exception": false,
     "start_time": "2024-06-16T08:17:20.771041",
     "status": "completed"
    },
    "tags": []
   },
   "outputs": [],
   "source": [
    "label='transmission_features'\n",
    "df[label + \"_is_missing\"] = pd.isnull(df['transmission_features'])\n",
    "df[label] = df['transmission_features'].fillna(\"idontknow1\")"
   ]
  },
  {
   "cell_type": "code",
   "execution_count": 39,
   "id": "ecaabe73",
   "metadata": {
    "execution": {
     "iopub.execute_input": "2024-06-16T08:17:20.875414Z",
     "iopub.status.busy": "2024-06-16T08:17:20.875146Z",
     "iopub.status.idle": "2024-06-16T08:17:20.891187Z",
     "shell.execute_reply": "2024-06-16T08:17:20.890292Z"
    },
    "papermill": {
     "duration": 0.046738,
     "end_time": "2024-06-16T08:17:20.893083",
     "exception": false,
     "start_time": "2024-06-16T08:17:20.846345",
     "status": "completed"
    },
    "tags": []
   },
   "outputs": [],
   "source": [
    "label='transmission_type'\n",
    "df[label + \"_is_missing\"] = pd.isnull(df['transmission_type'])\n",
    "df[label] = df['transmission_type'].fillna(\"idontknow2\")"
   ]
  },
  {
   "cell_type": "code",
   "execution_count": 40,
   "id": "773ecad7",
   "metadata": {
    "execution": {
     "iopub.execute_input": "2024-06-16T08:17:20.951232Z",
     "iopub.status.busy": "2024-06-16T08:17:20.950955Z",
     "iopub.status.idle": "2024-06-16T08:17:21.371693Z",
     "shell.execute_reply": "2024-06-16T08:17:21.370695Z"
    },
    "papermill": {
     "duration": 0.452341,
     "end_time": "2024-06-16T08:17:21.373782",
     "exception": false,
     "start_time": "2024-06-16T08:17:20.921441",
     "status": "completed"
    },
    "tags": []
   },
   "outputs": [
    {
     "name": "stdout",
     "output_type": "stream",
     "text": [
      "['Manual_trans', 'Mode_trans', 'w_trans', 'Speed_trans', 'Shift_trans', 'Dual_trans', 'O_trans', 'Transmission_trans', 'FOR_trans', 'Overdrive_trans', 'Variable_trans', 'Electronically_trans', '-_trans', 'Controlled_trans', 'Mt_trans', 'Switch_trans', 'Automatic_trans', 'CVT_trans', 'IN_trans', 'M_trans', 'PRODUCTION_trans', 'At_trans', 'F_trans', 'Auto_trans', 'OR_trans', 'with_trans', 'DCT_trans', 'A_trans', 'SCHEDULED_trans', 'T_trans']\n"
     ]
    }
   ],
   "source": [
    "arr=df['transmission_features'].apply(lambda x:sorted([i+\"_trans\" for i in re.findall(r'\\b[a-zA-Z]+\\b|-',x)] ))\n",
    "colset=[]\n",
    "for i in range(54273):\n",
    "    for j in arr[i]:\n",
    "        colset.append(j)\n",
    "transdata=list(set(colset))\n",
    "print(transdata)"
   ]
  },
  {
   "cell_type": "code",
   "execution_count": 41,
   "id": "b793db26",
   "metadata": {
    "execution": {
     "iopub.execute_input": "2024-06-16T08:17:21.433129Z",
     "iopub.status.busy": "2024-06-16T08:17:21.432132Z",
     "iopub.status.idle": "2024-06-16T08:17:21.443529Z",
     "shell.execute_reply": "2024-06-16T08:17:21.442574Z"
    },
    "papermill": {
     "duration": 0.042486,
     "end_time": "2024-06-16T08:17:21.445449",
     "exception": false,
     "start_time": "2024-06-16T08:17:21.402963",
     "status": "completed"
    },
    "tags": []
   },
   "outputs": [
    {
     "data": {
      "text/plain": [
       "array(['', 'Transmission w/Dual Shift Mode', 'A/T',\n",
       "       'Transmission Overdrive Switch', '9-Speed Automatic',\n",
       "       '10-Speed Automatic', '6-Speed Automatic', 'M/T',\n",
       "       '5-Speed Automatic', 'CVT Transmission', '8-Speed Automatic',\n",
       "       'Automatic', '8-Speed Automatic with Auto-Shift',\n",
       "       '7-Speed DCT Automatic', 'Automatic CVT', '7-Speed Automatic',\n",
       "       '7-Speed Automatic with Auto-Shift', '4-Speed Automatic',\n",
       "       '6-Speed Automatic with Auto-Shift', '6-Speed Manual',\n",
       "       '7-Speed Manual',\n",
       "       '6-Speed Electronically Controlled Automatic with O',\n",
       "       '1-Speed Automatic', '10-Speed Automatic with Overdrive',\n",
       "       '8-Speed Manual', 'CVT-F', '–', 'F',\n",
       "       '9-Speed Automatic with Auto-Shift', '7-Speed', 'Variable',\n",
       "       'SCHEDULED FOR OR IN PRODUCTION', '6-Speed', '6 Speed At/Mt',\n",
       "       '6 Speed Mt'], dtype=object)"
      ]
     },
     "execution_count": 41,
     "metadata": {},
     "output_type": "execute_result"
    }
   ],
   "source": [
    "df['transmission_features'].unique()"
   ]
  },
  {
   "cell_type": "code",
   "execution_count": 42,
   "id": "d24d95a5",
   "metadata": {
    "execution": {
     "iopub.execute_input": "2024-06-16T08:17:21.504463Z",
     "iopub.status.busy": "2024-06-16T08:17:21.504185Z",
     "iopub.status.idle": "2024-06-16T08:23:55.297394Z",
     "shell.execute_reply": "2024-06-16T08:23:55.296602Z"
    },
    "papermill": {
     "duration": 393.82597,
     "end_time": "2024-06-16T08:23:55.299965",
     "exception": false,
     "start_time": "2024-06-16T08:17:21.473995",
     "status": "completed"
    },
    "tags": []
   },
   "outputs": [],
   "source": [
    "nottransdata=[i+\"_is_missing\" for i in transdata]\n",
    "arr1=arr.apply(lambda x:[i+\"_is_missing\" for i in list(set(transdata)-set(x))])\n",
    "for i in nottransdata:\n",
    "    df[i]=0\n",
    "for i in range(54273):\n",
    "    for j in arr1[i]:\n",
    "        if j in nottransdata:\n",
    "            df.loc[i,j]=1"
   ]
  },
  {
   "cell_type": "code",
   "execution_count": 43,
   "id": "5e104b8c",
   "metadata": {
    "execution": {
     "iopub.execute_input": "2024-06-16T08:23:55.359465Z",
     "iopub.status.busy": "2024-06-16T08:23:55.359166Z",
     "iopub.status.idle": "2024-06-16T08:24:21.048560Z",
     "shell.execute_reply": "2024-06-16T08:24:21.047609Z"
    },
    "papermill": {
     "duration": 25.721353,
     "end_time": "2024-06-16T08:24:21.050984",
     "exception": false,
     "start_time": "2024-06-16T08:23:55.329631",
     "status": "completed"
    },
    "tags": []
   },
   "outputs": [],
   "source": [
    "for i in transdata:\n",
    "    df[i]=0\n",
    "for i in range(54273):\n",
    "    for j in arr[i]:\n",
    "        if j in transdata:\n",
    "            df.loc[i,j]=1"
   ]
  },
  {
   "cell_type": "code",
   "execution_count": 44,
   "id": "1a6734c9",
   "metadata": {
    "execution": {
     "iopub.execute_input": "2024-06-16T08:24:21.110137Z",
     "iopub.status.busy": "2024-06-16T08:24:21.109849Z",
     "iopub.status.idle": "2024-06-16T08:24:21.116249Z",
     "shell.execute_reply": "2024-06-16T08:24:21.115472Z"
    },
    "papermill": {
     "duration": 0.03774,
     "end_time": "2024-06-16T08:24:21.118116",
     "exception": false,
     "start_time": "2024-06-16T08:24:21.080376",
     "status": "completed"
    },
    "tags": []
   },
   "outputs": [
    {
     "data": {
      "text/plain": [
       "Index(['id', 'brand', 'model', 'model_year', 'milage', 'fuel_type', 'engine',\n",
       "       'transmission', 'ext_col', 'int_col', 'accident', 'clean_title',\n",
       "       'price', 'age', 'fuel_type_is_missing', 'fuel_typenot_is_missing',\n",
       "       'horsepower', 'horsepower_is_missing', 'cylinder_config',\n",
       "       'cylinder_config_is_missing', 'Straight', 'V', 'idontknow0', 'v',\n",
       "       'v_is_missing', 'L', 'L_is_missing', 'transmission_type', 'num_gears',\n",
       "       'transmission_features', 'num_gears_is_missing',\n",
       "       'transmission_features_is_missing', 'transmission_type_is_missing',\n",
       "       'Manual_trans_is_missing', 'Mode_trans_is_missing',\n",
       "       'w_trans_is_missing', 'Speed_trans_is_missing',\n",
       "       'Shift_trans_is_missing', 'Dual_trans_is_missing', 'O_trans_is_missing',\n",
       "       'Transmission_trans_is_missing', 'FOR_trans_is_missing',\n",
       "       'Overdrive_trans_is_missing', 'Variable_trans_is_missing',\n",
       "       'Electronically_trans_is_missing', '-_trans_is_missing',\n",
       "       'Controlled_trans_is_missing', 'Mt_trans_is_missing',\n",
       "       'Switch_trans_is_missing', 'Automatic_trans_is_missing',\n",
       "       'CVT_trans_is_missing', 'IN_trans_is_missing', 'M_trans_is_missing',\n",
       "       'PRODUCTION_trans_is_missing', 'At_trans_is_missing',\n",
       "       'F_trans_is_missing', 'Auto_trans_is_missing', 'OR_trans_is_missing',\n",
       "       'with_trans_is_missing', 'DCT_trans_is_missing', 'A_trans_is_missing',\n",
       "       'SCHEDULED_trans_is_missing', 'T_trans_is_missing', 'Manual_trans',\n",
       "       'Mode_trans', 'w_trans', 'Speed_trans', 'Shift_trans', 'Dual_trans',\n",
       "       'O_trans', 'Transmission_trans', 'FOR_trans', 'Overdrive_trans',\n",
       "       'Variable_trans', 'Electronically_trans', '-_trans', 'Controlled_trans',\n",
       "       'Mt_trans', 'Switch_trans', 'Automatic_trans', 'CVT_trans', 'IN_trans',\n",
       "       'M_trans', 'PRODUCTION_trans', 'At_trans', 'F_trans', 'Auto_trans',\n",
       "       'OR_trans', 'with_trans', 'DCT_trans', 'A_trans', 'SCHEDULED_trans',\n",
       "       'T_trans'],\n",
       "      dtype='object')"
      ]
     },
     "execution_count": 44,
     "metadata": {},
     "output_type": "execute_result"
    }
   ],
   "source": [
    "df.columns"
   ]
  },
  {
   "cell_type": "code",
   "execution_count": 45,
   "id": "dd194ba9",
   "metadata": {
    "execution": {
     "iopub.execute_input": "2024-06-16T08:24:21.176084Z",
     "iopub.status.busy": "2024-06-16T08:24:21.175798Z",
     "iopub.status.idle": "2024-06-16T08:24:21.259972Z",
     "shell.execute_reply": "2024-06-16T08:24:21.259165Z"
    },
    "papermill": {
     "duration": 0.115872,
     "end_time": "2024-06-16T08:24:21.262527",
     "exception": false,
     "start_time": "2024-06-16T08:24:21.146655",
     "status": "completed"
    },
    "tags": []
   },
   "outputs": [],
   "source": [
    "acci=pd.get_dummies(df['accident'])\n",
    "df=pd.concat([df,acci],axis=1)"
   ]
  },
  {
   "cell_type": "code",
   "execution_count": 46,
   "id": "5c22034c",
   "metadata": {
    "execution": {
     "iopub.execute_input": "2024-06-16T08:24:21.322626Z",
     "iopub.status.busy": "2024-06-16T08:24:21.322340Z",
     "iopub.status.idle": "2024-06-16T08:24:21.343920Z",
     "shell.execute_reply": "2024-06-16T08:24:21.343228Z"
    },
    "papermill": {
     "duration": 0.053612,
     "end_time": "2024-06-16T08:24:21.345731",
     "exception": false,
     "start_time": "2024-06-16T08:24:21.292119",
     "status": "completed"
    },
    "tags": []
   },
   "outputs": [],
   "source": [
    "acci=pd.get_dummies(df['transmission_type'])\n",
    "df=pd.concat([df,acci],axis=1)"
   ]
  },
  {
   "cell_type": "code",
   "execution_count": 47,
   "id": "41ed7c14",
   "metadata": {
    "execution": {
     "iopub.execute_input": "2024-06-16T08:24:21.404149Z",
     "iopub.status.busy": "2024-06-16T08:24:21.403885Z",
     "iopub.status.idle": "2024-06-16T08:24:22.501990Z",
     "shell.execute_reply": "2024-06-16T08:24:22.501056Z"
    },
    "papermill": {
     "duration": 1.129845,
     "end_time": "2024-06-16T08:24:22.504217",
     "exception": false,
     "start_time": "2024-06-16T08:24:21.374372",
     "status": "completed"
    },
    "tags": []
   },
   "outputs": [
    {
     "name": "stderr",
     "output_type": "stream",
     "text": [
      "/tmp/ipykernel_24/2875187447.py:13: FutureWarning: Downcasting behavior in `replace` is deprecated and will be removed in a future version. To retain the old behavior, explicitly call `result.infer_objects(copy=False)`. To opt-in to the future behavior, set `pd.set_option('future.no_silent_downcasting', True)`\n",
      "  df['int_col']=df['int_col'].replace(intdict)\n"
     ]
    }
   ],
   "source": [
    "# int_col=pd.get_dummies(df['int_col'])\n",
    "# df=pd.concat([df,int_col],axis=1)\n",
    "# df['int_col']=df['int_col'].astype('category').cat.codes\n",
    "# encoder1 = LabelEncoder()\n",
    "# encoder1.fit(df['int_col'])\n",
    "\n",
    "# # Transform training data\n",
    "# df['int_col'] = encoder1.transform(df['int_col'])\n",
    "intdict={}\n",
    "for i in range(len(list(set(df['int_col'])))):\n",
    "    intdict[list(set(df['int_col']))[i]]=i\n",
    "# print(intdict)\n",
    "df['int_col']=df['int_col'].replace(intdict)"
   ]
  },
  {
   "cell_type": "code",
   "execution_count": 48,
   "id": "9fd76823",
   "metadata": {
    "execution": {
     "iopub.execute_input": "2024-06-16T08:24:22.564711Z",
     "iopub.status.busy": "2024-06-16T08:24:22.564437Z",
     "iopub.status.idle": "2024-06-16T08:24:22.619632Z",
     "shell.execute_reply": "2024-06-16T08:24:22.618878Z"
    },
    "papermill": {
     "duration": 0.088036,
     "end_time": "2024-06-16T08:24:22.621845",
     "exception": false,
     "start_time": "2024-06-16T08:24:22.533809",
     "status": "completed"
    },
    "tags": []
   },
   "outputs": [],
   "source": [
    "clean_title=pd.get_dummies(df['clean_title'])\n",
    "df=pd.concat([df,clean_title],axis=1)"
   ]
  },
  {
   "cell_type": "code",
   "execution_count": 49,
   "id": "f478bc56",
   "metadata": {
    "execution": {
     "iopub.execute_input": "2024-06-16T08:24:22.681112Z",
     "iopub.status.busy": "2024-06-16T08:24:22.680817Z",
     "iopub.status.idle": "2024-06-16T08:24:25.003407Z",
     "shell.execute_reply": "2024-06-16T08:24:25.002484Z"
    },
    "papermill": {
     "duration": 2.355112,
     "end_time": "2024-06-16T08:24:25.006138",
     "exception": false,
     "start_time": "2024-06-16T08:24:22.651026",
     "status": "completed"
    },
    "tags": []
   },
   "outputs": [
    {
     "name": "stdout",
     "output_type": "stream",
     "text": [
      "{'Espresso': 0, 'Beluga Hide': 1, 'Tupelo': 2, 'Ebony / Ebony Accents': 3, 'Macchiato': 4, 'Rhapsody Blue': 5, 'Camel': 6, 'Sand Beige': 7, 'Walnut': 8, 'Amber': 9, 'Medium Stone': 10, 'Obsidian Black': 11, 'Red': 12, 'Hotspur': 13, 'Black / Brown': 14, 'Blk': 15, 'Hotspur Hide': 16, 'Diesel Gray / Black': 17, 'Dark Auburn': 18, 'Sport': 19, 'Boulder': 20, 'Jet Black': 21, 'Tan/Ebony': 22, 'White / Brown': 23, 'Orange': 24, 'Oyster/Black': 25, 'AMG Black': 26, 'Titan Black / Quarzit': 27, 'Silver': 28, 'Graphite': 29, 'Cocoa / Dune': 30, 'Cloud': 31, 'Yellow': 32, 'Charles Blue': 33, 'Gray': 34, 'Giallo Taurus / Nero Ade': 35, 'Deep Cypress': 36, 'Medium Light Camel': 37, 'Dark Ash': 38, 'Mistral Gray / Raven': 39, 'Global Black': 40, 'Almond Beige': 41, 'Black / Graphite': 42, 'Medium Ash Gray': 43, 'Gold': 44, 'Satin Black': 45, 'Cobalt Blue': 46, 'Nougat Brown': 47, 'Navy Pier': 48, 'Mountain Brown': 49, 'Ash': 50, 'Parchment': 51, 'Brandy': 52, 'Ebony Black': 53, 'Ceramic': 54, 'Platinum': 55, 'Rioja Red': 56, 'Camel Leather': 57, 'Canberra Beige/Black': 58, 'Ice': 59, 'Medium Dark Slate': 60, '–': 61, 'Graystone': 62, 'Mesa': 63, 'Mocha': 64, 'Oyster W/Contrast': 65, 'Black / Stone Grey': 66, 'Sandstone': 67, 'Rock Gray': 68, 'Light Platinum / Jet Black': 69, 'Nero Ade': 70, 'Pimento Red w/Ebony': 71, 'Black / Gray': 72, 'Medium Pewter': 73, 'Medium Earth Gray': 74, 'Canberra Beige': 75, 'Nero': 76, 'Red/Black': 77, 'Brown': 78, 'Shale': 79, 'Parchment.': 80, 'Deep Garnet': 81, 'Charcoal Black': 82, 'Light Gray': 83, 'Black': 84, 'Very Light Cashmere': 85, 'Chestnut': 86, 'Black/Red': 87, 'Ebony': 88, 'Light Slate': 89, 'Linen': 90, 'Charcoal': 91, 'Black w/Red Stitching': 92, 'Titan Black': 93, 'Adrenaline Red': 94, 'Ivory / Ebony': 95, 'Beluga': 96, 'Portland': 97, 'Saddle Brown': 98, 'Black/Gun Metal': 99, 'Dark Gray': 100, 'White': 101, 'Deep Chestnut': 102, 'Dark Galvanized': 103, 'Slate': 104, 'Red / Black': 105, 'Black / Saddle': 106, 'Cappuccino': 107, 'Tan': 108, 'Green': 109, 'Silk Beige/Espresso Brown': 110, 'Kyalami Orange': 111, 'Light Titanium': 112, 'Caramel': 113, 'Sahara Tan': 114, 'Beige': 115, 'Black / Express Red': 116, 'Blue': 117, 'Whisper Beige': 118, 'Black Onyx': 119, 'Grace White': 120, 'BLACK': 121, 'Ebony / Pimento': 122, 'Shara Beige': 123}\n"
     ]
    },
    {
     "name": "stderr",
     "output_type": "stream",
     "text": [
      "/tmp/ipykernel_24/928667831.py:13: FutureWarning: Downcasting behavior in `replace` is deprecated and will be removed in a future version. To retain the old behavior, explicitly call `result.infer_objects(copy=False)`. To opt-in to the future behavior, set `pd.set_option('future.no_silent_downcasting', True)`\n",
      "  df['ext_col']=df['ext_col'].replace(extdict)\n"
     ]
    }
   ],
   "source": [
    "# ext_col=pd.get_dummies(df['ext_col'])\n",
    "# df=pd.concat([df,ext_col],axis=1)\n",
    "# df['int_col']=df['int_col'].astype('category').cat.codes\n",
    "# encoder2 = LabelEncoder()\n",
    "# encoder2.fit(df['ext_col'])\n",
    "\n",
    "# # Transform training data\n",
    "# df['ext_col'] = encoder2.transform(df['ext_col'])\n",
    "extdict={}\n",
    "for i in range(len(list(set(df['ext_col'])))):\n",
    "    extdict[list(set(df['ext_col']))[i]]=i\n",
    "print(intdict)\n",
    "df['ext_col']=df['ext_col'].replace(extdict)\n",
    "# df['ext_col']"
   ]
  },
  {
   "cell_type": "code",
   "execution_count": 50,
   "id": "b74cba42",
   "metadata": {
    "execution": {
     "iopub.execute_input": "2024-06-16T08:24:25.067679Z",
     "iopub.status.busy": "2024-06-16T08:24:25.067388Z",
     "iopub.status.idle": "2024-06-16T08:24:25.120014Z",
     "shell.execute_reply": "2024-06-16T08:24:25.119012Z"
    },
    "papermill": {
     "duration": 0.085547,
     "end_time": "2024-06-16T08:24:25.122794",
     "exception": false,
     "start_time": "2024-06-16T08:24:25.037247",
     "status": "completed"
    },
    "tags": []
   },
   "outputs": [],
   "source": [
    "fuel_type=pd.get_dummies(df['fuel_type'])\n",
    "df=pd.concat([df,fuel_type],axis=1)"
   ]
  },
  {
   "cell_type": "code",
   "execution_count": 51,
   "id": "f76c7e64",
   "metadata": {
    "execution": {
     "iopub.execute_input": "2024-06-16T08:24:25.188880Z",
     "iopub.status.busy": "2024-06-16T08:24:25.188448Z",
     "iopub.status.idle": "2024-06-16T08:24:25.215406Z",
     "shell.execute_reply": "2024-06-16T08:24:25.214561Z"
    },
    "papermill": {
     "duration": 0.060279,
     "end_time": "2024-06-16T08:24:25.217438",
     "exception": false,
     "start_time": "2024-06-16T08:24:25.157159",
     "status": "completed"
    },
    "tags": []
   },
   "outputs": [],
   "source": [
    "brand=pd.get_dummies(df['brand'])\n",
    "df=pd.concat([df,brand],axis=1)"
   ]
  },
  {
   "cell_type": "code",
   "execution_count": 52,
   "id": "c9c7a84d",
   "metadata": {
    "execution": {
     "iopub.execute_input": "2024-06-16T08:24:25.276603Z",
     "iopub.status.busy": "2024-06-16T08:24:25.276301Z",
     "iopub.status.idle": "2024-06-16T08:24:32.515320Z",
     "shell.execute_reply": "2024-06-16T08:24:32.514326Z"
    },
    "papermill": {
     "duration": 7.271342,
     "end_time": "2024-06-16T08:24:32.517728",
     "exception": false,
     "start_time": "2024-06-16T08:24:25.246386",
     "status": "completed"
    },
    "tags": []
   },
   "outputs": [],
   "source": [
    "# df['model']=df['model'].astype('category').cat.codes\n",
    "def extract_model_features(model):\n",
    "    parts = model.split()\n",
    "    base_model = parts[0] if parts else model\n",
    "    model_variant = parts[1] if len(parts) > 1 else None\n",
    "    additional_features = ''.join(parts[2:]) if len(parts) > 2 else None\n",
    "    return base_model, model_variant, additional_features\n",
    "df[['base_model', 'model_variant', 'additional_features']] =df['model'].apply(lambda x: pd.Series(extract_model_features(x)))"
   ]
  },
  {
   "cell_type": "code",
   "execution_count": 53,
   "id": "0402e88e",
   "metadata": {
    "execution": {
     "iopub.execute_input": "2024-06-16T08:24:32.578738Z",
     "iopub.status.busy": "2024-06-16T08:24:32.578053Z",
     "iopub.status.idle": "2024-06-16T08:24:32.597833Z",
     "shell.execute_reply": "2024-06-16T08:24:32.597145Z"
    },
    "papermill": {
     "duration": 0.052086,
     "end_time": "2024-06-16T08:24:32.599635",
     "exception": false,
     "start_time": "2024-06-16T08:24:32.547549",
     "status": "completed"
    },
    "tags": []
   },
   "outputs": [],
   "source": [
    "label='base_model'\n",
    "df[label + \"_is_missing\"] = pd.isnull(df['base_model'])\n",
    "df[label] = df['base_model'].fillna(\"idontknow\")"
   ]
  },
  {
   "cell_type": "code",
   "execution_count": 54,
   "id": "f42f3cf3",
   "metadata": {
    "execution": {
     "iopub.execute_input": "2024-06-16T08:24:32.658431Z",
     "iopub.status.busy": "2024-06-16T08:24:32.658172Z",
     "iopub.status.idle": "2024-06-16T08:24:32.679457Z",
     "shell.execute_reply": "2024-06-16T08:24:32.678654Z"
    },
    "papermill": {
     "duration": 0.053051,
     "end_time": "2024-06-16T08:24:32.681336",
     "exception": false,
     "start_time": "2024-06-16T08:24:32.628285",
     "status": "completed"
    },
    "tags": []
   },
   "outputs": [],
   "source": [
    "label='model_variant'\n",
    "df[label + \"_is_missing\"] = pd.isnull(df['base_model'])\n",
    "df[label] = df['base_model'].fillna(\"idontknow\")"
   ]
  },
  {
   "cell_type": "code",
   "execution_count": 55,
   "id": "d64e7206",
   "metadata": {
    "execution": {
     "iopub.execute_input": "2024-06-16T08:24:32.741103Z",
     "iopub.status.busy": "2024-06-16T08:24:32.740817Z",
     "iopub.status.idle": "2024-06-16T08:24:32.756682Z",
     "shell.execute_reply": "2024-06-16T08:24:32.755862Z"
    },
    "papermill": {
     "duration": 0.04765,
     "end_time": "2024-06-16T08:24:32.758600",
     "exception": false,
     "start_time": "2024-06-16T08:24:32.710950",
     "status": "completed"
    },
    "tags": []
   },
   "outputs": [],
   "source": [
    "label='additional_features'\n",
    "df[label + \"_is_missing\"] = pd.isnull(df['additional_features'])\n",
    "df[label] = df['additional_features'].fillna(\"idontknow\")"
   ]
  },
  {
   "cell_type": "code",
   "execution_count": 56,
   "id": "808c3175",
   "metadata": {
    "execution": {
     "iopub.execute_input": "2024-06-16T08:24:32.818197Z",
     "iopub.status.busy": "2024-06-16T08:24:32.817925Z",
     "iopub.status.idle": "2024-06-16T08:24:50.967367Z",
     "shell.execute_reply": "2024-06-16T08:24:50.966390Z"
    },
    "papermill": {
     "duration": 18.182258,
     "end_time": "2024-06-16T08:24:50.970032",
     "exception": false,
     "start_time": "2024-06-16T08:24:32.787774",
     "status": "completed"
    },
    "tags": []
   },
   "outputs": [
    {
     "name": "stderr",
     "output_type": "stream",
     "text": [
      "/tmp/ipykernel_24/3254115038.py:4: FutureWarning: Downcasting behavior in `replace` is deprecated and will be removed in a future version. To retain the old behavior, explicitly call `result.infer_objects(copy=False)`. To opt-in to the future behavior, set `pd.set_option('future.no_silent_downcasting', True)`\n",
      "  df['base_model']=df['base_model'].replace(base_modeldict)\n",
      "/tmp/ipykernel_24/3254115038.py:9: FutureWarning: Downcasting behavior in `replace` is deprecated and will be removed in a future version. To retain the old behavior, explicitly call `result.infer_objects(copy=False)`. To opt-in to the future behavior, set `pd.set_option('future.no_silent_downcasting', True)`\n",
      "  df['model_variant']=df['model_variant'].replace(model_variantdict)\n",
      "/tmp/ipykernel_24/3254115038.py:14: FutureWarning: Downcasting behavior in `replace` is deprecated and will be removed in a future version. To retain the old behavior, explicitly call `result.infer_objects(copy=False)`. To opt-in to the future behavior, set `pd.set_option('future.no_silent_downcasting', True)`\n",
      "  df['additional_features']=df['additional_features'].replace(additional_featuresdict)\n"
     ]
    }
   ],
   "source": [
    "base_modeldict={}\n",
    "for i in range(len(list(set(df['base_model'])))):\n",
    "    base_modeldict[list(set(df['base_model']))[i]]=i\n",
    "df['base_model']=df['base_model'].replace(base_modeldict)\n",
    "\n",
    "model_variantdict={}\n",
    "for i in range(len(list(set(df['model_variant'])))):\n",
    "    model_variantdict[list(set(df['model_variant']))[i]]=i\n",
    "df['model_variant']=df['model_variant'].replace(model_variantdict)\n",
    "\n",
    "additional_featuresdict={}\n",
    "for i in range(len(list(set(df['additional_features'])))):\n",
    "    additional_featuresdict[list(set(df['additional_features']))[i]]=i\n",
    "df['additional_features']=df['additional_features'].replace(additional_featuresdict)\n",
    "\n",
    "\n",
    "# df['model_variant']=df['model_variant'].astype('category').cat.codes\n",
    "# df['additional_features']=df['additional_features'].astype('category').cat.codes"
   ]
  },
  {
   "cell_type": "code",
   "execution_count": 57,
   "id": "b3e3f726",
   "metadata": {
    "execution": {
     "iopub.execute_input": "2024-06-16T08:24:51.030559Z",
     "iopub.status.busy": "2024-06-16T08:24:51.030239Z",
     "iopub.status.idle": "2024-06-16T08:24:51.050885Z",
     "shell.execute_reply": "2024-06-16T08:24:51.050042Z"
    },
    "papermill": {
     "duration": 0.052718,
     "end_time": "2024-06-16T08:24:51.052882",
     "exception": false,
     "start_time": "2024-06-16T08:24:51.000164",
     "status": "completed"
    },
    "tags": []
   },
   "outputs": [
    {
     "data": {
      "text/html": [
       "<div>\n",
       "<style scoped>\n",
       "    .dataframe tbody tr th:only-of-type {\n",
       "        vertical-align: middle;\n",
       "    }\n",
       "\n",
       "    .dataframe tbody tr th {\n",
       "        vertical-align: top;\n",
       "    }\n",
       "\n",
       "    .dataframe thead th {\n",
       "        text-align: right;\n",
       "    }\n",
       "</style>\n",
       "<table border=\"1\" class=\"dataframe\">\n",
       "  <thead>\n",
       "    <tr style=\"text-align: right;\">\n",
       "      <th></th>\n",
       "      <th>id</th>\n",
       "      <th>brand</th>\n",
       "      <th>model</th>\n",
       "      <th>model_year</th>\n",
       "      <th>milage</th>\n",
       "      <th>fuel_type</th>\n",
       "      <th>engine</th>\n",
       "      <th>transmission</th>\n",
       "      <th>ext_col</th>\n",
       "      <th>int_col</th>\n",
       "      <th>...</th>\n",
       "      <th>Tesla</th>\n",
       "      <th>Toyota</th>\n",
       "      <th>Volkswagen</th>\n",
       "      <th>Volvo</th>\n",
       "      <th>base_model</th>\n",
       "      <th>model_variant</th>\n",
       "      <th>additional_features</th>\n",
       "      <th>base_model_is_missing</th>\n",
       "      <th>model_variant_is_missing</th>\n",
       "      <th>additional_features_is_missing</th>\n",
       "    </tr>\n",
       "  </thead>\n",
       "  <tbody>\n",
       "    <tr>\n",
       "      <th>0</th>\n",
       "      <td>0</td>\n",
       "      <td>Ford</td>\n",
       "      <td>F-150 Lariat</td>\n",
       "      <td>2018</td>\n",
       "      <td>74349</td>\n",
       "      <td>Gasoline</td>\n",
       "      <td>375.0HP 3.5L V6 Cylinder Engine Gasoline Fuel</td>\n",
       "      <td>10-Speed A/T</td>\n",
       "      <td>249</td>\n",
       "      <td>34</td>\n",
       "      <td>...</td>\n",
       "      <td>False</td>\n",
       "      <td>False</td>\n",
       "      <td>False</td>\n",
       "      <td>False</td>\n",
       "      <td>129</td>\n",
       "      <td>129</td>\n",
       "      <td>343</td>\n",
       "      <td>False</td>\n",
       "      <td>False</td>\n",
       "      <td>True</td>\n",
       "    </tr>\n",
       "    <tr>\n",
       "      <th>1</th>\n",
       "      <td>1</td>\n",
       "      <td>BMW</td>\n",
       "      <td>335 i</td>\n",
       "      <td>2007</td>\n",
       "      <td>80000</td>\n",
       "      <td>Gasoline</td>\n",
       "      <td>300.0HP 3.0L Straight 6 Cylinder Engine Gasoli...</td>\n",
       "      <td>6-Speed M/T</td>\n",
       "      <td>167</td>\n",
       "      <td>84</td>\n",
       "      <td>...</td>\n",
       "      <td>False</td>\n",
       "      <td>False</td>\n",
       "      <td>False</td>\n",
       "      <td>False</td>\n",
       "      <td>34</td>\n",
       "      <td>34</td>\n",
       "      <td>343</td>\n",
       "      <td>False</td>\n",
       "      <td>False</td>\n",
       "      <td>True</td>\n",
       "    </tr>\n",
       "    <tr>\n",
       "      <th>2</th>\n",
       "      <td>2</td>\n",
       "      <td>Jaguar</td>\n",
       "      <td>XF Luxury</td>\n",
       "      <td>2009</td>\n",
       "      <td>91491</td>\n",
       "      <td>Gasoline</td>\n",
       "      <td>300.0HP 4.2L 8 Cylinder Engine Gasoline Fuel</td>\n",
       "      <td>6-Speed A/T</td>\n",
       "      <td>45</td>\n",
       "      <td>115</td>\n",
       "      <td>...</td>\n",
       "      <td>False</td>\n",
       "      <td>False</td>\n",
       "      <td>False</td>\n",
       "      <td>False</td>\n",
       "      <td>7</td>\n",
       "      <td>7</td>\n",
       "      <td>343</td>\n",
       "      <td>False</td>\n",
       "      <td>False</td>\n",
       "      <td>True</td>\n",
       "    </tr>\n",
       "    <tr>\n",
       "      <th>3</th>\n",
       "      <td>3</td>\n",
       "      <td>BMW</td>\n",
       "      <td>X7 xDrive40i</td>\n",
       "      <td>2022</td>\n",
       "      <td>2437</td>\n",
       "      <td>Hybrid</td>\n",
       "      <td>335.0HP 3.0L Straight 6 Cylinder Engine Gasoli...</td>\n",
       "      <td>Transmission w/Dual Shift Mode</td>\n",
       "      <td>69</td>\n",
       "      <td>78</td>\n",
       "      <td>...</td>\n",
       "      <td>False</td>\n",
       "      <td>False</td>\n",
       "      <td>False</td>\n",
       "      <td>False</td>\n",
       "      <td>233</td>\n",
       "      <td>233</td>\n",
       "      <td>343</td>\n",
       "      <td>False</td>\n",
       "      <td>False</td>\n",
       "      <td>True</td>\n",
       "    </tr>\n",
       "    <tr>\n",
       "      <th>4</th>\n",
       "      <td>4</td>\n",
       "      <td>Pontiac</td>\n",
       "      <td>Firebird Base</td>\n",
       "      <td>2001</td>\n",
       "      <td>111000</td>\n",
       "      <td>Gasoline</td>\n",
       "      <td>200.0HP 3.8L V6 Cylinder Engine Gasoline Fuel</td>\n",
       "      <td>A/T</td>\n",
       "      <td>194</td>\n",
       "      <td>84</td>\n",
       "      <td>...</td>\n",
       "      <td>False</td>\n",
       "      <td>False</td>\n",
       "      <td>False</td>\n",
       "      <td>False</td>\n",
       "      <td>368</td>\n",
       "      <td>368</td>\n",
       "      <td>343</td>\n",
       "      <td>False</td>\n",
       "      <td>False</td>\n",
       "      <td>True</td>\n",
       "    </tr>\n",
       "  </tbody>\n",
       "</table>\n",
       "<p>5 rows × 165 columns</p>\n",
       "</div>"
      ],
      "text/plain": [
       "   id    brand          model  model_year  milage fuel_type  \\\n",
       "0   0     Ford   F-150 Lariat        2018   74349  Gasoline   \n",
       "1   1      BMW          335 i        2007   80000  Gasoline   \n",
       "2   2   Jaguar      XF Luxury        2009   91491  Gasoline   \n",
       "3   3      BMW   X7 xDrive40i        2022    2437    Hybrid   \n",
       "4   4  Pontiac  Firebird Base        2001  111000  Gasoline   \n",
       "\n",
       "                                              engine  \\\n",
       "0      375.0HP 3.5L V6 Cylinder Engine Gasoline Fuel   \n",
       "1  300.0HP 3.0L Straight 6 Cylinder Engine Gasoli...   \n",
       "2       300.0HP 4.2L 8 Cylinder Engine Gasoline Fuel   \n",
       "3  335.0HP 3.0L Straight 6 Cylinder Engine Gasoli...   \n",
       "4      200.0HP 3.8L V6 Cylinder Engine Gasoline Fuel   \n",
       "\n",
       "                     transmission  ext_col  int_col  ...  Tesla Toyota  \\\n",
       "0                    10-Speed A/T      249       34  ...  False  False   \n",
       "1                     6-Speed M/T      167       84  ...  False  False   \n",
       "2                     6-Speed A/T       45      115  ...  False  False   \n",
       "3  Transmission w/Dual Shift Mode       69       78  ...  False  False   \n",
       "4                             A/T      194       84  ...  False  False   \n",
       "\n",
       "   Volkswagen  Volvo  base_model  model_variant  additional_features  \\\n",
       "0       False  False         129            129                  343   \n",
       "1       False  False          34             34                  343   \n",
       "2       False  False           7              7                  343   \n",
       "3       False  False         233            233                  343   \n",
       "4       False  False         368            368                  343   \n",
       "\n",
       "   base_model_is_missing model_variant_is_missing  \\\n",
       "0                  False                    False   \n",
       "1                  False                    False   \n",
       "2                  False                    False   \n",
       "3                  False                    False   \n",
       "4                  False                    False   \n",
       "\n",
       "   additional_features_is_missing  \n",
       "0                            True  \n",
       "1                            True  \n",
       "2                            True  \n",
       "3                            True  \n",
       "4                            True  \n",
       "\n",
       "[5 rows x 165 columns]"
      ]
     },
     "execution_count": 57,
     "metadata": {},
     "output_type": "execute_result"
    }
   ],
   "source": [
    "df.head()"
   ]
  },
  {
   "cell_type": "code",
   "execution_count": 58,
   "id": "434bb0da",
   "metadata": {
    "execution": {
     "iopub.execute_input": "2024-06-16T08:24:51.112894Z",
     "iopub.status.busy": "2024-06-16T08:24:51.112588Z",
     "iopub.status.idle": "2024-06-16T08:24:51.159577Z",
     "shell.execute_reply": "2024-06-16T08:24:51.158656Z"
    },
    "papermill": {
     "duration": 0.079447,
     "end_time": "2024-06-16T08:24:51.161653",
     "exception": false,
     "start_time": "2024-06-16T08:24:51.082206",
     "status": "completed"
    },
    "tags": []
   },
   "outputs": [
    {
     "data": {
      "text/html": [
       "<div>\n",
       "<style scoped>\n",
       "    .dataframe tbody tr th:only-of-type {\n",
       "        vertical-align: middle;\n",
       "    }\n",
       "\n",
       "    .dataframe tbody tr th {\n",
       "        vertical-align: top;\n",
       "    }\n",
       "\n",
       "    .dataframe thead th {\n",
       "        text-align: right;\n",
       "    }\n",
       "</style>\n",
       "<table border=\"1\" class=\"dataframe\">\n",
       "  <thead>\n",
       "    <tr style=\"text-align: right;\">\n",
       "      <th></th>\n",
       "      <th>milage</th>\n",
       "      <th>engine</th>\n",
       "      <th>transmission</th>\n",
       "      <th>ext_col</th>\n",
       "      <th>int_col</th>\n",
       "      <th>price</th>\n",
       "      <th>age</th>\n",
       "      <th>fuel_type_is_missing</th>\n",
       "      <th>fuel_typenot_is_missing</th>\n",
       "      <th>horsepower</th>\n",
       "      <th>...</th>\n",
       "      <th>Tesla</th>\n",
       "      <th>Toyota</th>\n",
       "      <th>Volkswagen</th>\n",
       "      <th>Volvo</th>\n",
       "      <th>base_model</th>\n",
       "      <th>model_variant</th>\n",
       "      <th>additional_features</th>\n",
       "      <th>base_model_is_missing</th>\n",
       "      <th>model_variant_is_missing</th>\n",
       "      <th>additional_features_is_missing</th>\n",
       "    </tr>\n",
       "  </thead>\n",
       "  <tbody>\n",
       "    <tr>\n",
       "      <th>0</th>\n",
       "      <td>74349</td>\n",
       "      <td>375.0HP 3.5L V6 Cylinder Engine Gasoline Fuel</td>\n",
       "      <td>10-Speed A/T</td>\n",
       "      <td>249</td>\n",
       "      <td>34</td>\n",
       "      <td>11000</td>\n",
       "      <td>6</td>\n",
       "      <td>False</td>\n",
       "      <td>1.0</td>\n",
       "      <td>375.00</td>\n",
       "      <td>...</td>\n",
       "      <td>False</td>\n",
       "      <td>False</td>\n",
       "      <td>False</td>\n",
       "      <td>False</td>\n",
       "      <td>129</td>\n",
       "      <td>129</td>\n",
       "      <td>343</td>\n",
       "      <td>False</td>\n",
       "      <td>False</td>\n",
       "      <td>True</td>\n",
       "    </tr>\n",
       "    <tr>\n",
       "      <th>1</th>\n",
       "      <td>80000</td>\n",
       "      <td>300.0HP 3.0L Straight 6 Cylinder Engine Gasoli...</td>\n",
       "      <td>6-Speed M/T</td>\n",
       "      <td>167</td>\n",
       "      <td>84</td>\n",
       "      <td>8250</td>\n",
       "      <td>17</td>\n",
       "      <td>False</td>\n",
       "      <td>1.0</td>\n",
       "      <td>300.00</td>\n",
       "      <td>...</td>\n",
       "      <td>False</td>\n",
       "      <td>False</td>\n",
       "      <td>False</td>\n",
       "      <td>False</td>\n",
       "      <td>34</td>\n",
       "      <td>34</td>\n",
       "      <td>343</td>\n",
       "      <td>False</td>\n",
       "      <td>False</td>\n",
       "      <td>True</td>\n",
       "    </tr>\n",
       "    <tr>\n",
       "      <th>2</th>\n",
       "      <td>91491</td>\n",
       "      <td>300.0HP 4.2L 8 Cylinder Engine Gasoline Fuel</td>\n",
       "      <td>6-Speed A/T</td>\n",
       "      <td>45</td>\n",
       "      <td>115</td>\n",
       "      <td>15000</td>\n",
       "      <td>15</td>\n",
       "      <td>False</td>\n",
       "      <td>1.0</td>\n",
       "      <td>300.00</td>\n",
       "      <td>...</td>\n",
       "      <td>False</td>\n",
       "      <td>False</td>\n",
       "      <td>False</td>\n",
       "      <td>False</td>\n",
       "      <td>7</td>\n",
       "      <td>7</td>\n",
       "      <td>343</td>\n",
       "      <td>False</td>\n",
       "      <td>False</td>\n",
       "      <td>True</td>\n",
       "    </tr>\n",
       "    <tr>\n",
       "      <th>3</th>\n",
       "      <td>2437</td>\n",
       "      <td>335.0HP 3.0L Straight 6 Cylinder Engine Gasoli...</td>\n",
       "      <td>Transmission w/Dual Shift Mode</td>\n",
       "      <td>69</td>\n",
       "      <td>78</td>\n",
       "      <td>63500</td>\n",
       "      <td>2</td>\n",
       "      <td>False</td>\n",
       "      <td>1.0</td>\n",
       "      <td>335.00</td>\n",
       "      <td>...</td>\n",
       "      <td>False</td>\n",
       "      <td>False</td>\n",
       "      <td>False</td>\n",
       "      <td>False</td>\n",
       "      <td>233</td>\n",
       "      <td>233</td>\n",
       "      <td>343</td>\n",
       "      <td>False</td>\n",
       "      <td>False</td>\n",
       "      <td>True</td>\n",
       "    </tr>\n",
       "    <tr>\n",
       "      <th>4</th>\n",
       "      <td>111000</td>\n",
       "      <td>200.0HP 3.8L V6 Cylinder Engine Gasoline Fuel</td>\n",
       "      <td>A/T</td>\n",
       "      <td>194</td>\n",
       "      <td>84</td>\n",
       "      <td>7850</td>\n",
       "      <td>23</td>\n",
       "      <td>False</td>\n",
       "      <td>1.0</td>\n",
       "      <td>200.00</td>\n",
       "      <td>...</td>\n",
       "      <td>False</td>\n",
       "      <td>False</td>\n",
       "      <td>False</td>\n",
       "      <td>False</td>\n",
       "      <td>368</td>\n",
       "      <td>368</td>\n",
       "      <td>343</td>\n",
       "      <td>False</td>\n",
       "      <td>False</td>\n",
       "      <td>True</td>\n",
       "    </tr>\n",
       "    <tr>\n",
       "      <th>...</th>\n",
       "      <td>...</td>\n",
       "      <td>...</td>\n",
       "      <td>...</td>\n",
       "      <td>...</td>\n",
       "      <td>...</td>\n",
       "      <td>...</td>\n",
       "      <td>...</td>\n",
       "      <td>...</td>\n",
       "      <td>...</td>\n",
       "      <td>...</td>\n",
       "      <td>...</td>\n",
       "      <td>...</td>\n",
       "      <td>...</td>\n",
       "      <td>...</td>\n",
       "      <td>...</td>\n",
       "      <td>...</td>\n",
       "      <td>...</td>\n",
       "      <td>...</td>\n",
       "      <td>...</td>\n",
       "      <td>...</td>\n",
       "      <td>...</td>\n",
       "    </tr>\n",
       "    <tr>\n",
       "      <th>54268</th>\n",
       "      <td>29000</td>\n",
       "      <td>445.0HP 4.4L 8 Cylinder Engine Gasoline Fuel</td>\n",
       "      <td>8-Speed A/T</td>\n",
       "      <td>194</td>\n",
       "      <td>78</td>\n",
       "      <td>29000</td>\n",
       "      <td>7</td>\n",
       "      <td>False</td>\n",
       "      <td>1.0</td>\n",
       "      <td>445.00</td>\n",
       "      <td>...</td>\n",
       "      <td>False</td>\n",
       "      <td>False</td>\n",
       "      <td>False</td>\n",
       "      <td>False</td>\n",
       "      <td>470</td>\n",
       "      <td>470</td>\n",
       "      <td>343</td>\n",
       "      <td>False</td>\n",
       "      <td>False</td>\n",
       "      <td>True</td>\n",
       "    </tr>\n",
       "    <tr>\n",
       "      <th>54269</th>\n",
       "      <td>94634</td>\n",
       "      <td>220.0HP 2.0L 4 Cylinder Engine Flex Fuel Capab...</td>\n",
       "      <td>6-Speed A/T</td>\n",
       "      <td>167</td>\n",
       "      <td>84</td>\n",
       "      <td>6500</td>\n",
       "      <td>9</td>\n",
       "      <td>False</td>\n",
       "      <td>1.0</td>\n",
       "      <td>220.00</td>\n",
       "      <td>...</td>\n",
       "      <td>False</td>\n",
       "      <td>False</td>\n",
       "      <td>False</td>\n",
       "      <td>False</td>\n",
       "      <td>31</td>\n",
       "      <td>31</td>\n",
       "      <td>216</td>\n",
       "      <td>False</td>\n",
       "      <td>False</td>\n",
       "      <td>False</td>\n",
       "    </tr>\n",
       "    <tr>\n",
       "      <th>54270</th>\n",
       "      <td>40989</td>\n",
       "      <td>420.0HP 3.6L V6 Cylinder Engine Gasoline Fuel</td>\n",
       "      <td>Transmission w/Dual Shift Mode</td>\n",
       "      <td>194</td>\n",
       "      <td>84</td>\n",
       "      <td>18950</td>\n",
       "      <td>11</td>\n",
       "      <td>False</td>\n",
       "      <td>1.0</td>\n",
       "      <td>420.00</td>\n",
       "      <td>...</td>\n",
       "      <td>False</td>\n",
       "      <td>False</td>\n",
       "      <td>False</td>\n",
       "      <td>False</td>\n",
       "      <td>433</td>\n",
       "      <td>433</td>\n",
       "      <td>343</td>\n",
       "      <td>False</td>\n",
       "      <td>False</td>\n",
       "      <td>True</td>\n",
       "    </tr>\n",
       "    <tr>\n",
       "      <th>54271</th>\n",
       "      <td>1518</td>\n",
       "      <td>4.0L H6 24V GDI DOHC</td>\n",
       "      <td>8-Speed Automatic with Auto-Shift</td>\n",
       "      <td>248</td>\n",
       "      <td>78</td>\n",
       "      <td>194965</td>\n",
       "      <td>1</td>\n",
       "      <td>True</td>\n",
       "      <td>0.0</td>\n",
       "      <td>331.69</td>\n",
       "      <td>...</td>\n",
       "      <td>False</td>\n",
       "      <td>False</td>\n",
       "      <td>False</td>\n",
       "      <td>False</td>\n",
       "      <td>464</td>\n",
       "      <td>464</td>\n",
       "      <td>348</td>\n",
       "      <td>False</td>\n",
       "      <td>False</td>\n",
       "      <td>False</td>\n",
       "    </tr>\n",
       "    <tr>\n",
       "      <th>54272</th>\n",
       "      <td>35000</td>\n",
       "      <td>261.0HP 2.0L 4 Cylinder Engine Gasoline/Mild E...</td>\n",
       "      <td>8-Speed A/T</td>\n",
       "      <td>167</td>\n",
       "      <td>84</td>\n",
       "      <td>37499</td>\n",
       "      <td>3</td>\n",
       "      <td>False</td>\n",
       "      <td>1.0</td>\n",
       "      <td>261.00</td>\n",
       "      <td>...</td>\n",
       "      <td>False</td>\n",
       "      <td>False</td>\n",
       "      <td>False</td>\n",
       "      <td>False</td>\n",
       "      <td>456</td>\n",
       "      <td>456</td>\n",
       "      <td>287</td>\n",
       "      <td>False</td>\n",
       "      <td>False</td>\n",
       "      <td>False</td>\n",
       "    </tr>\n",
       "  </tbody>\n",
       "</table>\n",
       "<p>54273 rows × 158 columns</p>\n",
       "</div>"
      ],
      "text/plain": [
       "       milage                                             engine  \\\n",
       "0       74349      375.0HP 3.5L V6 Cylinder Engine Gasoline Fuel   \n",
       "1       80000  300.0HP 3.0L Straight 6 Cylinder Engine Gasoli...   \n",
       "2       91491       300.0HP 4.2L 8 Cylinder Engine Gasoline Fuel   \n",
       "3        2437  335.0HP 3.0L Straight 6 Cylinder Engine Gasoli...   \n",
       "4      111000      200.0HP 3.8L V6 Cylinder Engine Gasoline Fuel   \n",
       "...       ...                                                ...   \n",
       "54268   29000       445.0HP 4.4L 8 Cylinder Engine Gasoline Fuel   \n",
       "54269   94634  220.0HP 2.0L 4 Cylinder Engine Flex Fuel Capab...   \n",
       "54270   40989      420.0HP 3.6L V6 Cylinder Engine Gasoline Fuel   \n",
       "54271    1518                               4.0L H6 24V GDI DOHC   \n",
       "54272   35000  261.0HP 2.0L 4 Cylinder Engine Gasoline/Mild E...   \n",
       "\n",
       "                            transmission  ext_col  int_col   price  age  \\\n",
       "0                           10-Speed A/T      249       34   11000    6   \n",
       "1                            6-Speed M/T      167       84    8250   17   \n",
       "2                            6-Speed A/T       45      115   15000   15   \n",
       "3         Transmission w/Dual Shift Mode       69       78   63500    2   \n",
       "4                                    A/T      194       84    7850   23   \n",
       "...                                  ...      ...      ...     ...  ...   \n",
       "54268                        8-Speed A/T      194       78   29000    7   \n",
       "54269                        6-Speed A/T      167       84    6500    9   \n",
       "54270     Transmission w/Dual Shift Mode      194       84   18950   11   \n",
       "54271  8-Speed Automatic with Auto-Shift      248       78  194965    1   \n",
       "54272                        8-Speed A/T      167       84   37499    3   \n",
       "\n",
       "       fuel_type_is_missing  fuel_typenot_is_missing  horsepower  ...  Tesla  \\\n",
       "0                     False                      1.0      375.00  ...  False   \n",
       "1                     False                      1.0      300.00  ...  False   \n",
       "2                     False                      1.0      300.00  ...  False   \n",
       "3                     False                      1.0      335.00  ...  False   \n",
       "4                     False                      1.0      200.00  ...  False   \n",
       "...                     ...                      ...         ...  ...    ...   \n",
       "54268                 False                      1.0      445.00  ...  False   \n",
       "54269                 False                      1.0      220.00  ...  False   \n",
       "54270                 False                      1.0      420.00  ...  False   \n",
       "54271                  True                      0.0      331.69  ...  False   \n",
       "54272                 False                      1.0      261.00  ...  False   \n",
       "\n",
       "      Toyota  Volkswagen  Volvo  base_model  model_variant  \\\n",
       "0      False       False  False         129            129   \n",
       "1      False       False  False          34             34   \n",
       "2      False       False  False           7              7   \n",
       "3      False       False  False         233            233   \n",
       "4      False       False  False         368            368   \n",
       "...      ...         ...    ...         ...            ...   \n",
       "54268  False       False  False         470            470   \n",
       "54269  False       False  False          31             31   \n",
       "54270  False       False  False         433            433   \n",
       "54271  False       False  False         464            464   \n",
       "54272  False       False  False         456            456   \n",
       "\n",
       "       additional_features  base_model_is_missing  model_variant_is_missing  \\\n",
       "0                      343                  False                     False   \n",
       "1                      343                  False                     False   \n",
       "2                      343                  False                     False   \n",
       "3                      343                  False                     False   \n",
       "4                      343                  False                     False   \n",
       "...                    ...                    ...                       ...   \n",
       "54268                  343                  False                     False   \n",
       "54269                  216                  False                     False   \n",
       "54270                  343                  False                     False   \n",
       "54271                  348                  False                     False   \n",
       "54272                  287                  False                     False   \n",
       "\n",
       "       additional_features_is_missing  \n",
       "0                                True  \n",
       "1                                True  \n",
       "2                                True  \n",
       "3                                True  \n",
       "4                                True  \n",
       "...                               ...  \n",
       "54268                            True  \n",
       "54269                           False  \n",
       "54270                            True  \n",
       "54271                           False  \n",
       "54272                           False  \n",
       "\n",
       "[54273 rows x 158 columns]"
      ]
     },
     "execution_count": 58,
     "metadata": {},
     "output_type": "execute_result"
    }
   ],
   "source": [
    "df.drop(columns=['brand','fuel_type','accident','clean_title','id','model','model_year'])"
   ]
  },
  {
   "cell_type": "code",
   "execution_count": 59,
   "id": "90aab99e",
   "metadata": {
    "execution": {
     "iopub.execute_input": "2024-06-16T08:24:51.224938Z",
     "iopub.status.busy": "2024-06-16T08:24:51.224621Z",
     "iopub.status.idle": "2024-06-16T08:24:51.864467Z",
     "shell.execute_reply": "2024-06-16T08:24:51.863699Z"
    },
    "papermill": {
     "duration": 0.673809,
     "end_time": "2024-06-16T08:24:51.866738",
     "exception": false,
     "start_time": "2024-06-16T08:24:51.192929",
     "status": "completed"
    },
    "tags": []
   },
   "outputs": [],
   "source": [
    "arr=df['engine'].apply(lambda x:sorted(re.findall(r'\\b[a-zA-Z]+\\b',x)))\n",
    "# arr[0]\n",
    "colset=[]\n",
    "for i in range(54273):\n",
    "    for j in arr[i]:\n",
    "        colset.append(j)"
   ]
  },
  {
   "cell_type": "code",
   "execution_count": 60,
   "id": "922544fd",
   "metadata": {
    "execution": {
     "iopub.execute_input": "2024-06-16T08:24:51.928399Z",
     "iopub.status.busy": "2024-06-16T08:24:51.928114Z",
     "iopub.status.idle": "2024-06-16T08:24:51.933854Z",
     "shell.execute_reply": "2024-06-16T08:24:51.933004Z"
    },
    "papermill": {
     "duration": 0.038208,
     "end_time": "2024-06-16T08:24:51.935665",
     "exception": false,
     "start_time": "2024-06-16T08:24:51.897457",
     "status": "completed"
    },
    "tags": []
   },
   "outputs": [],
   "source": [
    "enginedata=['AH',\n",
    " 'Battery',\n",
    " 'Capability',\n",
    " 'Cylinder',\n",
    " 'DDI',\n",
    " 'DOHC',\n",
    " 'Diesel',\n",
    " 'Electric',\n",
    " 'Engine',\n",
    " 'Flat',\n",
    " 'Flex',\n",
    " 'Flexible',\n",
    " 'GDI',\n",
    " 'GTDI',\n",
    " 'Gas',\n",
    " 'Gasoline',\n",
    " 'Hybrid',\n",
    " 'Hydrogen',\n",
    " 'In',\n",
    " 'Intercooled',\n",
    " 'MPFI',\n",
    " 'Mild',\n",
    " 'Motor',\n",
    " 'OHV',\n",
    " 'PDI',\n",
    " 'Plug',\n",
    " 'Range',\n",
    " 'Rotary',\n",
    " 'SC',\n",
    " 'SOHC',\n",
    " 'Standard',\n",
    " 'Supercharged',\n",
    " 'System',\n",
    " 'TFSI',\n",
    " 'TSI',\n",
    " 'I4',\n",
    " 'Turbo',\n",
    " 'Twin',\n",
    " 'ULEV',\n",
    " 'VTEC',\n",
    "'-',\n",
    " 'engine']"
   ]
  },
  {
   "cell_type": "code",
   "execution_count": 61,
   "id": "10fcce5a",
   "metadata": {
    "execution": {
     "iopub.execute_input": "2024-06-16T08:24:51.996210Z",
     "iopub.status.busy": "2024-06-16T08:24:51.995926Z",
     "iopub.status.idle": "2024-06-16T08:25:43.090992Z",
     "shell.execute_reply": "2024-06-16T08:25:43.090213Z"
    },
    "papermill": {
     "duration": 51.128104,
     "end_time": "2024-06-16T08:25:43.093410",
     "exception": false,
     "start_time": "2024-06-16T08:24:51.965306",
     "status": "completed"
    },
    "tags": []
   },
   "outputs": [],
   "source": [
    "for i in enginedata:\n",
    "    df[i]=0\n",
    "for i in range(54273):\n",
    "    for j in arr[i]:\n",
    "        if j in enginedata:\n",
    "            df.loc[i,j]=1"
   ]
  },
  {
   "cell_type": "code",
   "execution_count": 62,
   "id": "d33d2a35",
   "metadata": {
    "execution": {
     "iopub.execute_input": "2024-06-16T08:25:43.156313Z",
     "iopub.status.busy": "2024-06-16T08:25:43.156007Z",
     "iopub.status.idle": "2024-06-16T08:25:43.176802Z",
     "shell.execute_reply": "2024-06-16T08:25:43.176008Z"
    },
    "papermill": {
     "duration": 0.054325,
     "end_time": "2024-06-16T08:25:43.178711",
     "exception": false,
     "start_time": "2024-06-16T08:25:43.124386",
     "status": "completed"
    },
    "tags": []
   },
   "outputs": [
    {
     "data": {
      "text/html": [
       "<div>\n",
       "<style scoped>\n",
       "    .dataframe tbody tr th:only-of-type {\n",
       "        vertical-align: middle;\n",
       "    }\n",
       "\n",
       "    .dataframe tbody tr th {\n",
       "        vertical-align: top;\n",
       "    }\n",
       "\n",
       "    .dataframe thead th {\n",
       "        text-align: right;\n",
       "    }\n",
       "</style>\n",
       "<table border=\"1\" class=\"dataframe\">\n",
       "  <thead>\n",
       "    <tr style=\"text-align: right;\">\n",
       "      <th></th>\n",
       "      <th>id</th>\n",
       "      <th>brand</th>\n",
       "      <th>model</th>\n",
       "      <th>model_year</th>\n",
       "      <th>milage</th>\n",
       "      <th>fuel_type</th>\n",
       "      <th>engine</th>\n",
       "      <th>transmission</th>\n",
       "      <th>ext_col</th>\n",
       "      <th>int_col</th>\n",
       "      <th>...</th>\n",
       "      <th>Supercharged</th>\n",
       "      <th>System</th>\n",
       "      <th>TFSI</th>\n",
       "      <th>TSI</th>\n",
       "      <th>I4</th>\n",
       "      <th>Turbo</th>\n",
       "      <th>Twin</th>\n",
       "      <th>ULEV</th>\n",
       "      <th>VTEC</th>\n",
       "      <th>-</th>\n",
       "    </tr>\n",
       "  </thead>\n",
       "  <tbody>\n",
       "    <tr>\n",
       "      <th>0</th>\n",
       "      <td>0</td>\n",
       "      <td>Ford</td>\n",
       "      <td>F-150 Lariat</td>\n",
       "      <td>2018</td>\n",
       "      <td>74349</td>\n",
       "      <td>Gasoline</td>\n",
       "      <td>0</td>\n",
       "      <td>10-Speed A/T</td>\n",
       "      <td>249</td>\n",
       "      <td>34</td>\n",
       "      <td>...</td>\n",
       "      <td>0</td>\n",
       "      <td>0</td>\n",
       "      <td>0</td>\n",
       "      <td>0</td>\n",
       "      <td>0</td>\n",
       "      <td>0</td>\n",
       "      <td>0</td>\n",
       "      <td>0</td>\n",
       "      <td>0</td>\n",
       "      <td>0</td>\n",
       "    </tr>\n",
       "    <tr>\n",
       "      <th>1</th>\n",
       "      <td>1</td>\n",
       "      <td>BMW</td>\n",
       "      <td>335 i</td>\n",
       "      <td>2007</td>\n",
       "      <td>80000</td>\n",
       "      <td>Gasoline</td>\n",
       "      <td>0</td>\n",
       "      <td>6-Speed M/T</td>\n",
       "      <td>167</td>\n",
       "      <td>84</td>\n",
       "      <td>...</td>\n",
       "      <td>0</td>\n",
       "      <td>0</td>\n",
       "      <td>0</td>\n",
       "      <td>0</td>\n",
       "      <td>0</td>\n",
       "      <td>0</td>\n",
       "      <td>0</td>\n",
       "      <td>0</td>\n",
       "      <td>0</td>\n",
       "      <td>0</td>\n",
       "    </tr>\n",
       "    <tr>\n",
       "      <th>2</th>\n",
       "      <td>2</td>\n",
       "      <td>Jaguar</td>\n",
       "      <td>XF Luxury</td>\n",
       "      <td>2009</td>\n",
       "      <td>91491</td>\n",
       "      <td>Gasoline</td>\n",
       "      <td>0</td>\n",
       "      <td>6-Speed A/T</td>\n",
       "      <td>45</td>\n",
       "      <td>115</td>\n",
       "      <td>...</td>\n",
       "      <td>0</td>\n",
       "      <td>0</td>\n",
       "      <td>0</td>\n",
       "      <td>0</td>\n",
       "      <td>0</td>\n",
       "      <td>0</td>\n",
       "      <td>0</td>\n",
       "      <td>0</td>\n",
       "      <td>0</td>\n",
       "      <td>0</td>\n",
       "    </tr>\n",
       "    <tr>\n",
       "      <th>3</th>\n",
       "      <td>3</td>\n",
       "      <td>BMW</td>\n",
       "      <td>X7 xDrive40i</td>\n",
       "      <td>2022</td>\n",
       "      <td>2437</td>\n",
       "      <td>Hybrid</td>\n",
       "      <td>0</td>\n",
       "      <td>Transmission w/Dual Shift Mode</td>\n",
       "      <td>69</td>\n",
       "      <td>78</td>\n",
       "      <td>...</td>\n",
       "      <td>0</td>\n",
       "      <td>0</td>\n",
       "      <td>0</td>\n",
       "      <td>0</td>\n",
       "      <td>0</td>\n",
       "      <td>0</td>\n",
       "      <td>0</td>\n",
       "      <td>0</td>\n",
       "      <td>0</td>\n",
       "      <td>0</td>\n",
       "    </tr>\n",
       "    <tr>\n",
       "      <th>4</th>\n",
       "      <td>4</td>\n",
       "      <td>Pontiac</td>\n",
       "      <td>Firebird Base</td>\n",
       "      <td>2001</td>\n",
       "      <td>111000</td>\n",
       "      <td>Gasoline</td>\n",
       "      <td>0</td>\n",
       "      <td>A/T</td>\n",
       "      <td>194</td>\n",
       "      <td>84</td>\n",
       "      <td>...</td>\n",
       "      <td>0</td>\n",
       "      <td>0</td>\n",
       "      <td>0</td>\n",
       "      <td>0</td>\n",
       "      <td>0</td>\n",
       "      <td>0</td>\n",
       "      <td>0</td>\n",
       "      <td>0</td>\n",
       "      <td>0</td>\n",
       "      <td>0</td>\n",
       "    </tr>\n",
       "  </tbody>\n",
       "</table>\n",
       "<p>5 rows × 202 columns</p>\n",
       "</div>"
      ],
      "text/plain": [
       "   id    brand          model  model_year  milage fuel_type  engine  \\\n",
       "0   0     Ford   F-150 Lariat        2018   74349  Gasoline       0   \n",
       "1   1      BMW          335 i        2007   80000  Gasoline       0   \n",
       "2   2   Jaguar      XF Luxury        2009   91491  Gasoline       0   \n",
       "3   3      BMW   X7 xDrive40i        2022    2437    Hybrid       0   \n",
       "4   4  Pontiac  Firebird Base        2001  111000  Gasoline       0   \n",
       "\n",
       "                     transmission  ext_col  int_col  ... Supercharged System  \\\n",
       "0                    10-Speed A/T      249       34  ...            0      0   \n",
       "1                     6-Speed M/T      167       84  ...            0      0   \n",
       "2                     6-Speed A/T       45      115  ...            0      0   \n",
       "3  Transmission w/Dual Shift Mode       69       78  ...            0      0   \n",
       "4                             A/T      194       84  ...            0      0   \n",
       "\n",
       "   TFSI  TSI  I4  Turbo  Twin  ULEV VTEC  -  \n",
       "0     0    0   0      0     0     0    0  0  \n",
       "1     0    0   0      0     0     0    0  0  \n",
       "2     0    0   0      0     0     0    0  0  \n",
       "3     0    0   0      0     0     0    0  0  \n",
       "4     0    0   0      0     0     0    0  0  \n",
       "\n",
       "[5 rows x 202 columns]"
      ]
     },
     "execution_count": 62,
     "metadata": {},
     "output_type": "execute_result"
    }
   ],
   "source": [
    "df.head()"
   ]
  },
  {
   "cell_type": "code",
   "execution_count": 63,
   "id": "57dd50fb",
   "metadata": {
    "execution": {
     "iopub.execute_input": "2024-06-16T08:25:43.241075Z",
     "iopub.status.busy": "2024-06-16T08:25:43.240785Z",
     "iopub.status.idle": "2024-06-16T08:25:43.385750Z",
     "shell.execute_reply": "2024-06-16T08:25:43.384955Z"
    },
    "papermill": {
     "duration": 0.178783,
     "end_time": "2024-06-16T08:25:43.388191",
     "exception": false,
     "start_time": "2024-06-16T08:25:43.209408",
     "status": "completed"
    },
    "tags": []
   },
   "outputs": [],
   "source": [
    "df=df.dropna(axis=1)"
   ]
  },
  {
   "cell_type": "code",
   "execution_count": 64,
   "id": "3d01ade4",
   "metadata": {
    "execution": {
     "iopub.execute_input": "2024-06-16T08:25:43.450666Z",
     "iopub.status.busy": "2024-06-16T08:25:43.450387Z",
     "iopub.status.idle": "2024-06-16T08:25:43.469782Z",
     "shell.execute_reply": "2024-06-16T08:25:43.469084Z"
    },
    "papermill": {
     "duration": 0.052515,
     "end_time": "2024-06-16T08:25:43.471776",
     "exception": false,
     "start_time": "2024-06-16T08:25:43.419261",
     "status": "completed"
    },
    "tags": []
   },
   "outputs": [],
   "source": [
    "df=df.drop(columns=['brand','fuel_type','accident','clean_title','id','model','transmission_type','transmission_features','cylinder_config','model_year'],axis=1)"
   ]
  },
  {
   "cell_type": "code",
   "execution_count": 65,
   "id": "91630790",
   "metadata": {
    "execution": {
     "iopub.execute_input": "2024-06-16T08:25:43.533618Z",
     "iopub.status.busy": "2024-06-16T08:25:43.533348Z",
     "iopub.status.idle": "2024-06-16T08:25:43.553073Z",
     "shell.execute_reply": "2024-06-16T08:25:43.552285Z"
    },
    "papermill": {
     "duration": 0.052704,
     "end_time": "2024-06-16T08:25:43.554930",
     "exception": false,
     "start_time": "2024-06-16T08:25:43.502226",
     "status": "completed"
    },
    "tags": []
   },
   "outputs": [
    {
     "data": {
      "text/html": [
       "<div>\n",
       "<style scoped>\n",
       "    .dataframe tbody tr th:only-of-type {\n",
       "        vertical-align: middle;\n",
       "    }\n",
       "\n",
       "    .dataframe tbody tr th {\n",
       "        vertical-align: top;\n",
       "    }\n",
       "\n",
       "    .dataframe thead th {\n",
       "        text-align: right;\n",
       "    }\n",
       "</style>\n",
       "<table border=\"1\" class=\"dataframe\">\n",
       "  <thead>\n",
       "    <tr style=\"text-align: right;\">\n",
       "      <th></th>\n",
       "      <th>milage</th>\n",
       "      <th>engine</th>\n",
       "      <th>transmission</th>\n",
       "      <th>ext_col</th>\n",
       "      <th>int_col</th>\n",
       "      <th>price</th>\n",
       "      <th>age</th>\n",
       "      <th>fuel_type_is_missing</th>\n",
       "      <th>fuel_typenot_is_missing</th>\n",
       "      <th>horsepower</th>\n",
       "      <th>...</th>\n",
       "      <th>Supercharged</th>\n",
       "      <th>System</th>\n",
       "      <th>TFSI</th>\n",
       "      <th>TSI</th>\n",
       "      <th>I4</th>\n",
       "      <th>Turbo</th>\n",
       "      <th>Twin</th>\n",
       "      <th>ULEV</th>\n",
       "      <th>VTEC</th>\n",
       "      <th>-</th>\n",
       "    </tr>\n",
       "  </thead>\n",
       "  <tbody>\n",
       "    <tr>\n",
       "      <th>0</th>\n",
       "      <td>74349</td>\n",
       "      <td>0</td>\n",
       "      <td>10-Speed A/T</td>\n",
       "      <td>249</td>\n",
       "      <td>34</td>\n",
       "      <td>11000</td>\n",
       "      <td>6</td>\n",
       "      <td>False</td>\n",
       "      <td>1.0</td>\n",
       "      <td>375.0</td>\n",
       "      <td>...</td>\n",
       "      <td>0</td>\n",
       "      <td>0</td>\n",
       "      <td>0</td>\n",
       "      <td>0</td>\n",
       "      <td>0</td>\n",
       "      <td>0</td>\n",
       "      <td>0</td>\n",
       "      <td>0</td>\n",
       "      <td>0</td>\n",
       "      <td>0</td>\n",
       "    </tr>\n",
       "    <tr>\n",
       "      <th>1</th>\n",
       "      <td>80000</td>\n",
       "      <td>0</td>\n",
       "      <td>6-Speed M/T</td>\n",
       "      <td>167</td>\n",
       "      <td>84</td>\n",
       "      <td>8250</td>\n",
       "      <td>17</td>\n",
       "      <td>False</td>\n",
       "      <td>1.0</td>\n",
       "      <td>300.0</td>\n",
       "      <td>...</td>\n",
       "      <td>0</td>\n",
       "      <td>0</td>\n",
       "      <td>0</td>\n",
       "      <td>0</td>\n",
       "      <td>0</td>\n",
       "      <td>0</td>\n",
       "      <td>0</td>\n",
       "      <td>0</td>\n",
       "      <td>0</td>\n",
       "      <td>0</td>\n",
       "    </tr>\n",
       "    <tr>\n",
       "      <th>2</th>\n",
       "      <td>91491</td>\n",
       "      <td>0</td>\n",
       "      <td>6-Speed A/T</td>\n",
       "      <td>45</td>\n",
       "      <td>115</td>\n",
       "      <td>15000</td>\n",
       "      <td>15</td>\n",
       "      <td>False</td>\n",
       "      <td>1.0</td>\n",
       "      <td>300.0</td>\n",
       "      <td>...</td>\n",
       "      <td>0</td>\n",
       "      <td>0</td>\n",
       "      <td>0</td>\n",
       "      <td>0</td>\n",
       "      <td>0</td>\n",
       "      <td>0</td>\n",
       "      <td>0</td>\n",
       "      <td>0</td>\n",
       "      <td>0</td>\n",
       "      <td>0</td>\n",
       "    </tr>\n",
       "    <tr>\n",
       "      <th>3</th>\n",
       "      <td>2437</td>\n",
       "      <td>0</td>\n",
       "      <td>Transmission w/Dual Shift Mode</td>\n",
       "      <td>69</td>\n",
       "      <td>78</td>\n",
       "      <td>63500</td>\n",
       "      <td>2</td>\n",
       "      <td>False</td>\n",
       "      <td>1.0</td>\n",
       "      <td>335.0</td>\n",
       "      <td>...</td>\n",
       "      <td>0</td>\n",
       "      <td>0</td>\n",
       "      <td>0</td>\n",
       "      <td>0</td>\n",
       "      <td>0</td>\n",
       "      <td>0</td>\n",
       "      <td>0</td>\n",
       "      <td>0</td>\n",
       "      <td>0</td>\n",
       "      <td>0</td>\n",
       "    </tr>\n",
       "    <tr>\n",
       "      <th>4</th>\n",
       "      <td>111000</td>\n",
       "      <td>0</td>\n",
       "      <td>A/T</td>\n",
       "      <td>194</td>\n",
       "      <td>84</td>\n",
       "      <td>7850</td>\n",
       "      <td>23</td>\n",
       "      <td>False</td>\n",
       "      <td>1.0</td>\n",
       "      <td>200.0</td>\n",
       "      <td>...</td>\n",
       "      <td>0</td>\n",
       "      <td>0</td>\n",
       "      <td>0</td>\n",
       "      <td>0</td>\n",
       "      <td>0</td>\n",
       "      <td>0</td>\n",
       "      <td>0</td>\n",
       "      <td>0</td>\n",
       "      <td>0</td>\n",
       "      <td>0</td>\n",
       "    </tr>\n",
       "  </tbody>\n",
       "</table>\n",
       "<p>5 rows × 192 columns</p>\n",
       "</div>"
      ],
      "text/plain": [
       "   milage  engine                    transmission  ext_col  int_col  price  \\\n",
       "0   74349       0                    10-Speed A/T      249       34  11000   \n",
       "1   80000       0                     6-Speed M/T      167       84   8250   \n",
       "2   91491       0                     6-Speed A/T       45      115  15000   \n",
       "3    2437       0  Transmission w/Dual Shift Mode       69       78  63500   \n",
       "4  111000       0                             A/T      194       84   7850   \n",
       "\n",
       "   age  fuel_type_is_missing  fuel_typenot_is_missing  horsepower  ...  \\\n",
       "0    6                 False                      1.0       375.0  ...   \n",
       "1   17                 False                      1.0       300.0  ...   \n",
       "2   15                 False                      1.0       300.0  ...   \n",
       "3    2                 False                      1.0       335.0  ...   \n",
       "4   23                 False                      1.0       200.0  ...   \n",
       "\n",
       "   Supercharged  System  TFSI  TSI  I4  Turbo  Twin  ULEV  VTEC  -  \n",
       "0             0       0     0    0   0      0     0     0     0  0  \n",
       "1             0       0     0    0   0      0     0     0     0  0  \n",
       "2             0       0     0    0   0      0     0     0     0  0  \n",
       "3             0       0     0    0   0      0     0     0     0  0  \n",
       "4             0       0     0    0   0      0     0     0     0  0  \n",
       "\n",
       "[5 rows x 192 columns]"
      ]
     },
     "execution_count": 65,
     "metadata": {},
     "output_type": "execute_result"
    }
   ],
   "source": [
    "df.head()"
   ]
  },
  {
   "cell_type": "code",
   "execution_count": 66,
   "id": "61125948",
   "metadata": {
    "execution": {
     "iopub.execute_input": "2024-06-16T08:25:43.618361Z",
     "iopub.status.busy": "2024-06-16T08:25:43.618111Z",
     "iopub.status.idle": "2024-06-16T08:25:43.640152Z",
     "shell.execute_reply": "2024-06-16T08:25:43.639438Z"
    },
    "papermill": {
     "duration": 0.055195,
     "end_time": "2024-06-16T08:25:43.642163",
     "exception": false,
     "start_time": "2024-06-16T08:25:43.586968",
     "status": "completed"
    },
    "tags": []
   },
   "outputs": [],
   "source": [
    "target=df['price']\n",
    "df=df.drop(columns=['transmission'])"
   ]
  },
  {
   "cell_type": "code",
   "execution_count": 67,
   "id": "3d1ab571",
   "metadata": {
    "execution": {
     "iopub.execute_input": "2024-06-16T08:25:43.704802Z",
     "iopub.status.busy": "2024-06-16T08:25:43.704546Z",
     "iopub.status.idle": "2024-06-16T08:25:43.708219Z",
     "shell.execute_reply": "2024-06-16T08:25:43.707412Z"
    },
    "papermill": {
     "duration": 0.036723,
     "end_time": "2024-06-16T08:25:43.710011",
     "exception": false,
     "start_time": "2024-06-16T08:25:43.673288",
     "status": "completed"
    },
    "tags": []
   },
   "outputs": [],
   "source": [
    "# df['noyear']=pd.cut(df['model_year'],9,labels=[str(i) for i in range(9)])"
   ]
  },
  {
   "cell_type": "code",
   "execution_count": 68,
   "id": "31b64d56",
   "metadata": {
    "execution": {
     "iopub.execute_input": "2024-06-16T08:25:43.774242Z",
     "iopub.status.busy": "2024-06-16T08:25:43.773991Z",
     "iopub.status.idle": "2024-06-16T08:25:43.796599Z",
     "shell.execute_reply": "2024-06-16T08:25:43.795631Z"
    },
    "papermill": {
     "duration": 0.057001,
     "end_time": "2024-06-16T08:25:43.798723",
     "exception": false,
     "start_time": "2024-06-16T08:25:43.741722",
     "status": "completed"
    },
    "tags": []
   },
   "outputs": [],
   "source": [
    "df=df.drop(columns=['price',])"
   ]
  },
  {
   "cell_type": "code",
   "execution_count": 69,
   "id": "b6862296",
   "metadata": {
    "execution": {
     "iopub.execute_input": "2024-06-16T08:25:43.863920Z",
     "iopub.status.busy": "2024-06-16T08:25:43.863612Z",
     "iopub.status.idle": "2024-06-16T08:25:43.872812Z",
     "shell.execute_reply": "2024-06-16T08:25:43.871965Z"
    },
    "papermill": {
     "duration": 0.044769,
     "end_time": "2024-06-16T08:25:43.874789",
     "exception": false,
     "start_time": "2024-06-16T08:25:43.830020",
     "status": "completed"
    },
    "tags": []
   },
   "outputs": [
    {
     "data": {
      "text/plain": [
       "['milage',\n",
       " 'engine',\n",
       " 'ext_col',\n",
       " 'int_col',\n",
       " 'age',\n",
       " 'fuel_type_is_missing',\n",
       " 'fuel_typenot_is_missing',\n",
       " 'horsepower',\n",
       " 'horsepower_is_missing',\n",
       " 'cylinder_config_is_missing',\n",
       " 'Straight',\n",
       " 'V',\n",
       " 'idontknow0',\n",
       " 'v',\n",
       " 'v_is_missing',\n",
       " 'L',\n",
       " 'L_is_missing',\n",
       " 'num_gears',\n",
       " 'num_gears_is_missing',\n",
       " 'transmission_features_is_missing',\n",
       " 'transmission_type_is_missing',\n",
       " 'Manual_trans_is_missing',\n",
       " 'Mode_trans_is_missing',\n",
       " 'w_trans_is_missing',\n",
       " 'Speed_trans_is_missing',\n",
       " 'Shift_trans_is_missing',\n",
       " 'Dual_trans_is_missing',\n",
       " 'O_trans_is_missing',\n",
       " 'Transmission_trans_is_missing',\n",
       " 'FOR_trans_is_missing',\n",
       " 'Overdrive_trans_is_missing',\n",
       " 'Variable_trans_is_missing',\n",
       " 'Electronically_trans_is_missing',\n",
       " '-_trans_is_missing',\n",
       " 'Controlled_trans_is_missing',\n",
       " 'Mt_trans_is_missing',\n",
       " 'Switch_trans_is_missing',\n",
       " 'Automatic_trans_is_missing',\n",
       " 'CVT_trans_is_missing',\n",
       " 'IN_trans_is_missing',\n",
       " 'M_trans_is_missing',\n",
       " 'PRODUCTION_trans_is_missing',\n",
       " 'At_trans_is_missing',\n",
       " 'F_trans_is_missing',\n",
       " 'Auto_trans_is_missing',\n",
       " 'OR_trans_is_missing',\n",
       " 'with_trans_is_missing',\n",
       " 'DCT_trans_is_missing',\n",
       " 'A_trans_is_missing',\n",
       " 'SCHEDULED_trans_is_missing',\n",
       " 'T_trans_is_missing',\n",
       " 'Manual_trans',\n",
       " 'Mode_trans',\n",
       " 'w_trans',\n",
       " 'Speed_trans',\n",
       " 'Shift_trans',\n",
       " 'Dual_trans',\n",
       " 'O_trans',\n",
       " 'Transmission_trans',\n",
       " 'FOR_trans',\n",
       " 'Overdrive_trans',\n",
       " 'Variable_trans',\n",
       " 'Electronically_trans',\n",
       " '-_trans',\n",
       " 'Controlled_trans',\n",
       " 'Mt_trans',\n",
       " 'Switch_trans',\n",
       " 'Automatic_trans',\n",
       " 'CVT_trans',\n",
       " 'IN_trans',\n",
       " 'M_trans',\n",
       " 'PRODUCTION_trans',\n",
       " 'At_trans',\n",
       " 'F_trans',\n",
       " 'Auto_trans',\n",
       " 'OR_trans',\n",
       " 'with_trans',\n",
       " 'DCT_trans',\n",
       " 'A_trans',\n",
       " 'SCHEDULED_trans',\n",
       " 'T_trans',\n",
       " 'At least 1 accident or damage reported',\n",
       " 'None reported',\n",
       " 'A/T',\n",
       " 'Dual',\n",
       " 'M/T',\n",
       " 'Unknown',\n",
       " 'Yes',\n",
       " 'Diesel',\n",
       " 'E85 Flex Fuel',\n",
       " 'Electric',\n",
       " 'Gasoline',\n",
       " 'Hybrid',\n",
       " 'Plug-In Hybrid',\n",
       " 'Acura',\n",
       " 'Alfa',\n",
       " 'Aston',\n",
       " 'Audi',\n",
       " 'BMW',\n",
       " 'Bentley',\n",
       " 'Bugatti',\n",
       " 'Buick',\n",
       " 'Cadillac',\n",
       " 'Chevrolet',\n",
       " 'Chrysler',\n",
       " 'Dodge',\n",
       " 'FIAT',\n",
       " 'Ferrari',\n",
       " 'Ford',\n",
       " 'GMC',\n",
       " 'Genesis',\n",
       " 'Honda',\n",
       " 'Hummer',\n",
       " 'Hyundai',\n",
       " 'INFINITI',\n",
       " 'Jaguar',\n",
       " 'Jeep',\n",
       " 'Kia',\n",
       " 'Lamborghini',\n",
       " 'Land',\n",
       " 'Lexus',\n",
       " 'Lincoln',\n",
       " 'Lotus',\n",
       " 'Lucid',\n",
       " 'MINI',\n",
       " 'Maserati',\n",
       " 'Maybach',\n",
       " 'Mazda',\n",
       " 'McLaren',\n",
       " 'Mercedes-Benz',\n",
       " 'Mercury',\n",
       " 'Mitsubishi',\n",
       " 'Nissan',\n",
       " 'Plymouth',\n",
       " 'Pontiac',\n",
       " 'Porsche',\n",
       " 'RAM',\n",
       " 'Rivian',\n",
       " 'Rolls-Royce',\n",
       " 'Saturn',\n",
       " 'Scion',\n",
       " 'Subaru',\n",
       " 'Suzuki',\n",
       " 'Tesla',\n",
       " 'Toyota',\n",
       " 'Volkswagen',\n",
       " 'Volvo',\n",
       " 'base_model',\n",
       " 'model_variant',\n",
       " 'additional_features',\n",
       " 'base_model_is_missing',\n",
       " 'model_variant_is_missing',\n",
       " 'additional_features_is_missing',\n",
       " 'AH',\n",
       " 'Battery',\n",
       " 'Capability',\n",
       " 'Cylinder',\n",
       " 'DDI',\n",
       " 'DOHC',\n",
       " 'Engine',\n",
       " 'Flat',\n",
       " 'Flex',\n",
       " 'Flexible',\n",
       " 'GDI',\n",
       " 'GTDI',\n",
       " 'Gas',\n",
       " 'Hydrogen',\n",
       " 'In',\n",
       " 'Intercooled',\n",
       " 'MPFI',\n",
       " 'Mild',\n",
       " 'Motor',\n",
       " 'OHV',\n",
       " 'PDI',\n",
       " 'Plug',\n",
       " 'Range',\n",
       " 'Rotary',\n",
       " 'SC',\n",
       " 'SOHC',\n",
       " 'Standard',\n",
       " 'Supercharged',\n",
       " 'System',\n",
       " 'TFSI',\n",
       " 'TSI',\n",
       " 'I4',\n",
       " 'Turbo',\n",
       " 'Twin',\n",
       " 'ULEV',\n",
       " 'VTEC',\n",
       " '-']"
      ]
     },
     "execution_count": 69,
     "metadata": {},
     "output_type": "execute_result"
    }
   ],
   "source": [
    "df.columns.to_list()"
   ]
  },
  {
   "cell_type": "code",
   "execution_count": 70,
   "id": "6eaf9bf1",
   "metadata": {
    "execution": {
     "iopub.execute_input": "2024-06-16T08:25:43.940727Z",
     "iopub.status.busy": "2024-06-16T08:25:43.940459Z",
     "iopub.status.idle": "2024-06-16T08:25:58.444313Z",
     "shell.execute_reply": "2024-06-16T08:25:58.443256Z"
    },
    "papermill": {
     "duration": 14.539706,
     "end_time": "2024-06-16T08:25:58.446722",
     "exception": false,
     "start_time": "2024-06-16T08:25:43.907016",
     "status": "completed"
    },
    "tags": []
   },
   "outputs": [
    {
     "name": "stdout",
     "output_type": "stream",
     "text": [
      "Requirement already satisfied: catboost in /opt/conda/lib/python3.10/site-packages (1.2.5)\r\n",
      "Requirement already satisfied: graphviz in /opt/conda/lib/python3.10/site-packages (from catboost) (0.20.3)\r\n",
      "Requirement already satisfied: matplotlib in /opt/conda/lib/python3.10/site-packages (from catboost) (3.7.5)\r\n",
      "Requirement already satisfied: numpy>=1.16.0 in /opt/conda/lib/python3.10/site-packages (from catboost) (1.26.4)\r\n",
      "Requirement already satisfied: pandas>=0.24 in /opt/conda/lib/python3.10/site-packages (from catboost) (2.2.1)\r\n",
      "Requirement already satisfied: scipy in /opt/conda/lib/python3.10/site-packages (from catboost) (1.11.4)\r\n",
      "Requirement already satisfied: plotly in /opt/conda/lib/python3.10/site-packages (from catboost) (5.18.0)\r\n",
      "Requirement already satisfied: six in /opt/conda/lib/python3.10/site-packages (from catboost) (1.16.0)\r\n",
      "Requirement already satisfied: python-dateutil>=2.8.2 in /opt/conda/lib/python3.10/site-packages (from pandas>=0.24->catboost) (2.9.0.post0)\r\n",
      "Requirement already satisfied: pytz>=2020.1 in /opt/conda/lib/python3.10/site-packages (from pandas>=0.24->catboost) (2023.3.post1)\r\n",
      "Requirement already satisfied: tzdata>=2022.7 in /opt/conda/lib/python3.10/site-packages (from pandas>=0.24->catboost) (2023.4)\r\n",
      "Requirement already satisfied: contourpy>=1.0.1 in /opt/conda/lib/python3.10/site-packages (from matplotlib->catboost) (1.2.0)\r\n",
      "Requirement already satisfied: cycler>=0.10 in /opt/conda/lib/python3.10/site-packages (from matplotlib->catboost) (0.12.1)\r\n",
      "Requirement already satisfied: fonttools>=4.22.0 in /opt/conda/lib/python3.10/site-packages (from matplotlib->catboost) (4.47.0)\r\n",
      "Requirement already satisfied: kiwisolver>=1.0.1 in /opt/conda/lib/python3.10/site-packages (from matplotlib->catboost) (1.4.5)\r\n",
      "Requirement already satisfied: packaging>=20.0 in /opt/conda/lib/python3.10/site-packages (from matplotlib->catboost) (21.3)\r\n",
      "Requirement already satisfied: pillow>=6.2.0 in /opt/conda/lib/python3.10/site-packages (from matplotlib->catboost) (9.5.0)\r\n",
      "Requirement already satisfied: pyparsing>=2.3.1 in /opt/conda/lib/python3.10/site-packages (from matplotlib->catboost) (3.1.1)\r\n",
      "Requirement already satisfied: tenacity>=6.2.0 in /opt/conda/lib/python3.10/site-packages (from plotly->catboost) (8.2.3)\r\n"
     ]
    }
   ],
   "source": [
    "!pip3 install catboost"
   ]
  },
  {
   "cell_type": "code",
   "execution_count": 71,
   "id": "ccbccc74",
   "metadata": {
    "execution": {
     "iopub.execute_input": "2024-06-16T08:25:58.515559Z",
     "iopub.status.busy": "2024-06-16T08:25:58.515195Z",
     "iopub.status.idle": "2024-06-16T08:25:58.858658Z",
     "shell.execute_reply": "2024-06-16T08:25:58.857612Z"
    },
    "papermill": {
     "duration": 0.379226,
     "end_time": "2024-06-16T08:25:58.861110",
     "exception": false,
     "start_time": "2024-06-16T08:25:58.481884",
     "status": "completed"
    },
    "tags": []
   },
   "outputs": [],
   "source": [
    "from sklearn.model_selection import train_test_split,GridSearchCV\n",
    "from sklearn.preprocessing import MinMaxScaler, StandardScaler\n",
    "scaler = MinMaxScaler()\n",
    "stanscaler=StandardScaler()\n",
    "# dft=stanscaler.fit_transform(df)\n",
    "X_train, X_test, y_train, y_test = train_test_split(df, target, test_size=0.1, random_state=42)"
   ]
  },
  {
   "cell_type": "code",
   "execution_count": 72,
   "id": "e955bfd4",
   "metadata": {
    "execution": {
     "iopub.execute_input": "2024-06-16T08:25:58.928083Z",
     "iopub.status.busy": "2024-06-16T08:25:58.927737Z",
     "iopub.status.idle": "2024-06-16T10:45:00.784997Z",
     "shell.execute_reply": "2024-06-16T10:45:00.783833Z"
    },
    "papermill": {
     "duration": 8341.925672,
     "end_time": "2024-06-16T10:45:00.821234",
     "exception": false,
     "start_time": "2024-06-16T08:25:58.895562",
     "status": "completed"
    },
    "tags": []
   },
   "outputs": [
    {
     "name": "stdout",
     "output_type": "stream",
     "text": [
      "Best parameters found:  {'depth': 4, 'iterations': 1500, 'learning_rate': 0.01, 'random_state': 74}\n",
      "Best RMSE score:  263.8250467465817\n"
     ]
    }
   ],
   "source": [
    "import numpy as np\n",
    "from catboost import CatBoostRegressor\n",
    "from sklearn.model_selection import GridSearchCV\n",
    "from sklearn.metrics import make_scorer, mean_squared_error\n",
    "\n",
    "# Define the CatBoost regressor\n",
    "model = CatBoostRegressor(\n",
    "    loss_function='RMSE',\n",
    "    eval_metric='RMSE',\n",
    "    verbose=0\n",
    ")\n",
    "\n",
    "# Define the parameter grid to search\n",
    "param_grid = {\n",
    "    'depth':[4,5],\n",
    "    'random_state': np.arange(70,80).tolist(),\n",
    "    'iterations': np.arange(1000,3500,500).tolist(),\n",
    "    'learning_rate': [0.01],\n",
    "#     'colsample_bylevel':np.arange(0.1,2.0,0.1).tolist(),\n",
    "#     'l2_leaf_reg': range(1,20),\n",
    "#     'bagging_temperature': np.arange(0.5,5.0,0.2).tolist(),\n",
    "#     'random_strength': np.arange(0.5,5,0.2).tolist(),\n",
    "}\n",
    "\n",
    "# Define the RMSE scorer\n",
    "rmse_scorer = make_scorer(mean_squared_error, greater_is_better=False, squared=False)\n",
    "\n",
    "# Set up the GridSearchCV\n",
    "grid_search = GridSearchCV(\n",
    "    estimator=model,\n",
    "    param_grid=param_grid,\n",
    "    scoring=rmse_scorer,\n",
    "    cv=5,\n",
    "    verbose=0,\n",
    "    n_jobs=-1\n",
    ")\n",
    "\n",
    "# Assuming you have training data in X_train and y_train\n",
    "# Fit the grid search\n",
    "grid_search.fit(X_train, y_train)\n",
    "\n",
    "# Output the best parameters and the best RMSE score\n",
    "print(\"Best parameters found: \", grid_search.best_params_)\n",
    "print(\"Best RMSE score: \", np.sqrt(-grid_search.best_score_))\n"
   ]
  },
  {
   "cell_type": "code",
   "execution_count": 73,
   "id": "bc777db7",
   "metadata": {
    "execution": {
     "iopub.execute_input": "2024-06-16T10:45:00.888286Z",
     "iopub.status.busy": "2024-06-16T10:45:00.887954Z",
     "iopub.status.idle": "2024-06-16T10:45:10.634704Z",
     "shell.execute_reply": "2024-06-16T10:45:10.633795Z"
    },
    "papermill": {
     "duration": 9.78303,
     "end_time": "2024-06-16T10:45:10.636871",
     "exception": false,
     "start_time": "2024-06-16T10:45:00.853841",
     "status": "completed"
    },
    "tags": []
   },
   "outputs": [
    {
     "data": {
      "text/plain": [
       "<catboost.core.CatBoostRegressor at 0x7b6c438bdcc0>"
      ]
     },
     "execution_count": 73,
     "metadata": {},
     "output_type": "execute_result"
    }
   ],
   "source": [
    "from sklearn.preprocessing import MinMaxScaler, StandardScaler\n",
    "from sklearn.metrics import make_scorer\n",
    "from catboost import CatBoostRegressor\n",
    "def rmse(y_true, y_pred):\n",
    "    return np.sqrt(mean_squared_error(y_true, y_pred))\n",
    "rmse_scorer = make_scorer(rmse, greater_is_better=False)\n",
    "\n",
    "# forest_params = [{'random_seed': list(range(70, 80)), 'iterations': [2500]}]\n",
    "params={'loss_function':'RMSE',\n",
    " 'iterations': 2361,\n",
    " 'depth': 2,\n",
    "#  'learning_rate': 0.03787017545913039,\n",
    "#  'colsample_bylevel': 0.5485179510165483,\n",
    "#  'l2_leaf_reg': 9.096192236232872,\n",
    "#  'bagging_temperature': 0.7141870744252241,\n",
    "#  'random_strength': 0.9466328438923116,\n",
    "#  'grow_policy': 'Lossguide',\n",
    " 'random_state': 60,\n",
    "#  'min_data_in_leaf': 67,\n",
    " 'eval_metric': 'RMSE',\n",
    "  'verbose':0}\n",
    "catboost=CatBoostRegressor(**params)\n",
    "# clf = GridSearchCV(catboost, forest_params, cv = 10, scoring=rmse_scorer)\n",
    "# catboost=CatBoostRegressor(loss_function='RMSE',depth=5,random_seed=75,iterations=2000,learning_rate=0.01,verbose=False)\n",
    "# clf.fit(X_train, y_train)\n",
    "# catboost=RandomForestRegressor( n_estimators=50, random_state=42)\n",
    "catboost.fit(X_train, y_train)"
   ]
  },
  {
   "cell_type": "code",
   "execution_count": 74,
   "id": "17281a97",
   "metadata": {
    "execution": {
     "iopub.execute_input": "2024-06-16T10:45:10.701807Z",
     "iopub.status.busy": "2024-06-16T10:45:10.701525Z",
     "iopub.status.idle": "2024-06-16T10:45:10.728950Z",
     "shell.execute_reply": "2024-06-16T10:45:10.727972Z"
    },
    "papermill": {
     "duration": 0.062047,
     "end_time": "2024-06-16T10:45:10.730894",
     "exception": false,
     "start_time": "2024-06-16T10:45:10.668847",
     "status": "completed"
    },
    "tags": []
   },
   "outputs": [
    {
     "name": "stdout",
     "output_type": "stream",
     "text": [
      "The Root mean square is 44080.87576754416\n"
     ]
    }
   ],
   "source": [
    "from sklearn.metrics import mean_squared_error\n",
    "y_pred = catboost.predict(X_test)\n",
    "rmse1 = np.sqrt(mean_squared_error(y_test, y_pred))\n",
    "print(\"The Root mean square is \" + str(rmse1))"
   ]
  },
  {
   "cell_type": "code",
   "execution_count": 75,
   "id": "c79a8558",
   "metadata": {
    "execution": {
     "iopub.execute_input": "2024-06-16T10:45:10.796317Z",
     "iopub.status.busy": "2024-06-16T10:45:10.796058Z",
     "iopub.status.idle": "2024-06-16T10:45:10.990700Z",
     "shell.execute_reply": "2024-06-16T10:45:10.989804Z"
    },
    "papermill": {
     "duration": 0.229186,
     "end_time": "2024-06-16T10:45:10.992709",
     "exception": false,
     "start_time": "2024-06-16T10:45:10.763523",
     "status": "completed"
    },
    "tags": []
   },
   "outputs": [
    {
     "data": {
      "text/html": [
       "<div>\n",
       "<style scoped>\n",
       "    .dataframe tbody tr th:only-of-type {\n",
       "        vertical-align: middle;\n",
       "    }\n",
       "\n",
       "    .dataframe tbody tr th {\n",
       "        vertical-align: top;\n",
       "    }\n",
       "\n",
       "    .dataframe thead th {\n",
       "        text-align: right;\n",
       "    }\n",
       "</style>\n",
       "<table border=\"1\" class=\"dataframe\">\n",
       "  <thead>\n",
       "    <tr style=\"text-align: right;\">\n",
       "      <th></th>\n",
       "      <th>id</th>\n",
       "      <th>brand</th>\n",
       "      <th>model</th>\n",
       "      <th>model_year</th>\n",
       "      <th>milage</th>\n",
       "      <th>fuel_type</th>\n",
       "      <th>engine</th>\n",
       "      <th>transmission</th>\n",
       "      <th>ext_col</th>\n",
       "      <th>int_col</th>\n",
       "      <th>accident</th>\n",
       "      <th>clean_title</th>\n",
       "    </tr>\n",
       "  </thead>\n",
       "  <tbody>\n",
       "    <tr>\n",
       "      <th>0</th>\n",
       "      <td>54273</td>\n",
       "      <td>Mercedes-Benz</td>\n",
       "      <td>E-Class E 350</td>\n",
       "      <td>2014</td>\n",
       "      <td>73000</td>\n",
       "      <td>Gasoline</td>\n",
       "      <td>302.0HP 3.5L V6 Cylinder Engine Gasoline Fuel</td>\n",
       "      <td>A/T</td>\n",
       "      <td>White</td>\n",
       "      <td>Beige</td>\n",
       "      <td>None reported</td>\n",
       "      <td>Yes</td>\n",
       "    </tr>\n",
       "    <tr>\n",
       "      <th>1</th>\n",
       "      <td>54274</td>\n",
       "      <td>Lexus</td>\n",
       "      <td>RX 350 Base</td>\n",
       "      <td>2015</td>\n",
       "      <td>128032</td>\n",
       "      <td>Gasoline</td>\n",
       "      <td>275.0HP 3.5L V6 Cylinder Engine Gasoline Fuel</td>\n",
       "      <td>8-Speed A/T</td>\n",
       "      <td>Silver</td>\n",
       "      <td>Black</td>\n",
       "      <td>None reported</td>\n",
       "      <td>Yes</td>\n",
       "    </tr>\n",
       "    <tr>\n",
       "      <th>2</th>\n",
       "      <td>54275</td>\n",
       "      <td>Mercedes-Benz</td>\n",
       "      <td>C-Class C 300</td>\n",
       "      <td>2015</td>\n",
       "      <td>51983</td>\n",
       "      <td>Gasoline</td>\n",
       "      <td>241.0HP 2.0L 4 Cylinder Engine Gasoline Fuel</td>\n",
       "      <td>7-Speed A/T</td>\n",
       "      <td>Blue</td>\n",
       "      <td>White</td>\n",
       "      <td>None reported</td>\n",
       "      <td>Yes</td>\n",
       "    </tr>\n",
       "    <tr>\n",
       "      <th>3</th>\n",
       "      <td>54276</td>\n",
       "      <td>Land</td>\n",
       "      <td>Rover Range Rover 5.0L Supercharged Autobiogra...</td>\n",
       "      <td>2018</td>\n",
       "      <td>29500</td>\n",
       "      <td>Gasoline</td>\n",
       "      <td>518.0HP 5.0L 8 Cylinder Engine Gasoline Fuel</td>\n",
       "      <td>Transmission w/Dual Shift Mode</td>\n",
       "      <td>White</td>\n",
       "      <td>White</td>\n",
       "      <td>At least 1 accident or damage reported</td>\n",
       "      <td>Yes</td>\n",
       "    </tr>\n",
       "    <tr>\n",
       "      <th>4</th>\n",
       "      <td>54277</td>\n",
       "      <td>BMW</td>\n",
       "      <td>X6 xDrive40i</td>\n",
       "      <td>2020</td>\n",
       "      <td>90000</td>\n",
       "      <td>Gasoline</td>\n",
       "      <td>335.0HP 3.0L Straight 6 Cylinder Engine Gasoli...</td>\n",
       "      <td>8-Speed A/T</td>\n",
       "      <td>White</td>\n",
       "      <td>Black</td>\n",
       "      <td>At least 1 accident or damage reported</td>\n",
       "      <td>Yes</td>\n",
       "    </tr>\n",
       "  </tbody>\n",
       "</table>\n",
       "</div>"
      ],
      "text/plain": [
       "      id          brand                                              model  \\\n",
       "0  54273  Mercedes-Benz                                      E-Class E 350   \n",
       "1  54274          Lexus                                        RX 350 Base   \n",
       "2  54275  Mercedes-Benz                                      C-Class C 300   \n",
       "3  54276           Land  Rover Range Rover 5.0L Supercharged Autobiogra...   \n",
       "4  54277            BMW                                       X6 xDrive40i   \n",
       "\n",
       "   model_year  milage fuel_type  \\\n",
       "0        2014   73000  Gasoline   \n",
       "1        2015  128032  Gasoline   \n",
       "2        2015   51983  Gasoline   \n",
       "3        2018   29500  Gasoline   \n",
       "4        2020   90000  Gasoline   \n",
       "\n",
       "                                              engine  \\\n",
       "0      302.0HP 3.5L V6 Cylinder Engine Gasoline Fuel   \n",
       "1      275.0HP 3.5L V6 Cylinder Engine Gasoline Fuel   \n",
       "2       241.0HP 2.0L 4 Cylinder Engine Gasoline Fuel   \n",
       "3       518.0HP 5.0L 8 Cylinder Engine Gasoline Fuel   \n",
       "4  335.0HP 3.0L Straight 6 Cylinder Engine Gasoli...   \n",
       "\n",
       "                     transmission ext_col int_col  \\\n",
       "0                             A/T   White   Beige   \n",
       "1                     8-Speed A/T  Silver   Black   \n",
       "2                     7-Speed A/T    Blue   White   \n",
       "3  Transmission w/Dual Shift Mode   White   White   \n",
       "4                     8-Speed A/T   White   Black   \n",
       "\n",
       "                                 accident clean_title  \n",
       "0                           None reported         Yes  \n",
       "1                           None reported         Yes  \n",
       "2                           None reported         Yes  \n",
       "3  At least 1 accident or damage reported         Yes  \n",
       "4  At least 1 accident or damage reported         Yes  "
      ]
     },
     "execution_count": 75,
     "metadata": {},
     "output_type": "execute_result"
    }
   ],
   "source": [
    "import random\n",
    "df1=pd.read_csv('/kaggle/input/kagglexdatasetforvedantpandey/test.csv')\n",
    "df1.head()"
   ]
  },
  {
   "cell_type": "code",
   "execution_count": 76,
   "id": "64ce712c",
   "metadata": {
    "execution": {
     "iopub.execute_input": "2024-06-16T10:45:11.060532Z",
     "iopub.status.busy": "2024-06-16T10:45:11.060244Z",
     "iopub.status.idle": "2024-06-16T10:45:11.100977Z",
     "shell.execute_reply": "2024-06-16T10:45:11.099981Z"
    },
    "papermill": {
     "duration": 0.075509,
     "end_time": "2024-06-16T10:45:11.102880",
     "exception": false,
     "start_time": "2024-06-16T10:45:11.027371",
     "status": "completed"
    },
    "tags": []
   },
   "outputs": [
    {
     "name": "stdout",
     "output_type": "stream",
     "text": [
      "<class 'pandas.core.frame.DataFrame'>\n",
      "RangeIndex: 36183 entries, 0 to 36182\n",
      "Data columns (total 12 columns):\n",
      " #   Column        Non-Null Count  Dtype \n",
      "---  ------        --------------  ----- \n",
      " 0   id            36183 non-null  int64 \n",
      " 1   brand         36183 non-null  object\n",
      " 2   model         36183 non-null  object\n",
      " 3   model_year    36183 non-null  int64 \n",
      " 4   milage        36183 non-null  int64 \n",
      " 5   fuel_type     36183 non-null  object\n",
      " 6   engine        36183 non-null  object\n",
      " 7   transmission  36183 non-null  object\n",
      " 8   ext_col       36183 non-null  object\n",
      " 9   int_col       36183 non-null  object\n",
      " 10  accident      36183 non-null  object\n",
      " 11  clean_title   36183 non-null  object\n",
      "dtypes: int64(3), object(9)\n",
      "memory usage: 3.3+ MB\n"
     ]
    }
   ],
   "source": [
    "df1.info()"
   ]
  },
  {
   "cell_type": "code",
   "execution_count": 77,
   "id": "ac74d057",
   "metadata": {
    "execution": {
     "iopub.execute_input": "2024-06-16T10:45:11.168913Z",
     "iopub.status.busy": "2024-06-16T10:45:11.168554Z",
     "iopub.status.idle": "2024-06-16T10:45:11.207179Z",
     "shell.execute_reply": "2024-06-16T10:45:11.206290Z"
    },
    "papermill": {
     "duration": 0.074312,
     "end_time": "2024-06-16T10:45:11.209105",
     "exception": false,
     "start_time": "2024-06-16T10:45:11.134793",
     "status": "completed"
    },
    "tags": []
   },
   "outputs": [
    {
     "data": {
      "text/plain": [
       "id              0\n",
       "brand           0\n",
       "model           0\n",
       "model_year      0\n",
       "milage          0\n",
       "fuel_type       0\n",
       "engine          0\n",
       "transmission    0\n",
       "ext_col         0\n",
       "int_col         0\n",
       "accident        0\n",
       "clean_title     0\n",
       "dtype: int64"
      ]
     },
     "execution_count": 77,
     "metadata": {},
     "output_type": "execute_result"
    }
   ],
   "source": [
    "df1.isnull().sum()"
   ]
  },
  {
   "cell_type": "code",
   "execution_count": 78,
   "id": "f8d7a797",
   "metadata": {
    "execution": {
     "iopub.execute_input": "2024-06-16T10:45:11.276727Z",
     "iopub.status.busy": "2024-06-16T10:45:11.276405Z",
     "iopub.status.idle": "2024-06-16T10:45:11.282053Z",
     "shell.execute_reply": "2024-06-16T10:45:11.281231Z"
    },
    "papermill": {
     "duration": 0.041389,
     "end_time": "2024-06-16T10:45:11.284021",
     "exception": false,
     "start_time": "2024-06-16T10:45:11.242632",
     "status": "completed"
    },
    "tags": []
   },
   "outputs": [],
   "source": [
    "df1['age']=2024-df1['model_year']"
   ]
  },
  {
   "cell_type": "code",
   "execution_count": 79,
   "id": "c5397874",
   "metadata": {
    "execution": {
     "iopub.execute_input": "2024-06-16T10:45:11.349539Z",
     "iopub.status.busy": "2024-06-16T10:45:11.349279Z",
     "iopub.status.idle": "2024-06-16T10:45:11.409570Z",
     "shell.execute_reply": "2024-06-16T10:45:11.408699Z"
    },
    "papermill": {
     "duration": 0.095486,
     "end_time": "2024-06-16T10:45:11.411669",
     "exception": false,
     "start_time": "2024-06-16T10:45:11.316183",
     "status": "completed"
    },
    "tags": []
   },
   "outputs": [
    {
     "name": "stderr",
     "output_type": "stream",
     "text": [
      "/tmp/ipykernel_24/1189080859.py:2: FutureWarning: A value is trying to be set on a copy of a DataFrame or Series through chained assignment using an inplace method.\n",
      "The behavior will change in pandas 3.0. This inplace method will never work because the intermediate object on which we are setting values always behaves as a copy.\n",
      "\n",
      "For example, when doing 'df[col].method(value, inplace=True)', try using 'df.method({col: value}, inplace=True)' or df[col] = df[col].method(value) instead, to perform the operation inplace on the original object.\n",
      "\n",
      "\n",
      "  df1.fuel_type.replace('–', 'Electric', inplace=True)\n",
      "/tmp/ipykernel_24/1189080859.py:3: FutureWarning: A value is trying to be set on a copy of a DataFrame or Series through chained assignment using an inplace method.\n",
      "The behavior will change in pandas 3.0. This inplace method will never work because the intermediate object on which we are setting values always behaves as a copy.\n",
      "\n",
      "For example, when doing 'df[col].method(value, inplace=True)', try using 'df.method({col: value}, inplace=True)' or df[col] = df[col].method(value) instead, to perform the operation inplace on the original object.\n",
      "\n",
      "\n",
      "  df1.fuel_type.replace('not supported', 'Electric', inplace=True)\n"
     ]
    }
   ],
   "source": [
    "df1.replace('-','idontknow',inplace=True)\n",
    "df1.fuel_type.replace('–', 'Electric', inplace=True)\n",
    "df1.fuel_type.replace('not supported', 'Electric', inplace=True)"
   ]
  },
  {
   "cell_type": "code",
   "execution_count": 80,
   "id": "3196e915",
   "metadata": {
    "execution": {
     "iopub.execute_input": "2024-06-16T10:45:11.477139Z",
     "iopub.status.busy": "2024-06-16T10:45:11.476880Z",
     "iopub.status.idle": "2024-06-16T10:45:11.484524Z",
     "shell.execute_reply": "2024-06-16T10:45:11.483635Z"
    },
    "papermill": {
     "duration": 0.042782,
     "end_time": "2024-06-16T10:45:11.486569",
     "exception": false,
     "start_time": "2024-06-16T10:45:11.443787",
     "status": "completed"
    },
    "tags": []
   },
   "outputs": [],
   "source": [
    "q25=df1['milage'].quantile(0.25)\n",
    "q75=df1['milage'].quantile(0.75)\n",
    "iqr=q75-q25\n",
    "up=q75+1.5*iqr\n",
    "down=q25-1.5*iqr\n",
    "# df1[df1['milage']>up]\n",
    "# df1['milage']=df1['milage'].apply(lambda x: up if x>up else x)"
   ]
  },
  {
   "cell_type": "code",
   "execution_count": 81,
   "id": "34c630c2",
   "metadata": {
    "execution": {
     "iopub.execute_input": "2024-06-16T10:45:11.553950Z",
     "iopub.status.busy": "2024-06-16T10:45:11.553664Z",
     "iopub.status.idle": "2024-06-16T10:45:11.645096Z",
     "shell.execute_reply": "2024-06-16T10:45:11.644175Z"
    },
    "papermill": {
     "duration": 0.126095,
     "end_time": "2024-06-16T10:45:11.647007",
     "exception": false,
     "start_time": "2024-06-16T10:45:11.520912",
     "status": "completed"
    },
    "tags": []
   },
   "outputs": [],
   "source": [
    "fuel_type = df1['engine'].apply(lambda x:None if re.search(r\"(Gasoline|Diesel|Electric|Flex Fuel)\", x) is None else 1)\n",
    "df1[\"fuel_type_is_missing\"] = pd.isnull(fuel_type)\n",
    "df1[\"fuel_typenot_is_missing\"] = fuel_type.fillna(0)"
   ]
  },
  {
   "cell_type": "code",
   "execution_count": 82,
   "id": "ee9639f5",
   "metadata": {
    "execution": {
     "iopub.execute_input": "2024-06-16T10:45:11.712618Z",
     "iopub.status.busy": "2024-06-16T10:45:11.712344Z",
     "iopub.status.idle": "2024-06-16T10:45:11.846566Z",
     "shell.execute_reply": "2024-06-16T10:45:11.845870Z"
    },
    "papermill": {
     "duration": 0.169069,
     "end_time": "2024-06-16T10:45:11.848517",
     "exception": false,
     "start_time": "2024-06-16T10:45:11.679448",
     "status": "completed"
    },
    "tags": []
   },
   "outputs": [],
   "source": [
    "df1['horsepower']=df1['engine'].apply(lambda x:float(re.search(r\"(\\d+\\.\\d+)HP\", x).group(1)) if re.search(r\"(\\d+\\.\\d+)HP\", x) else None)\n",
    "label='horsepower'\n",
    "df1[label + \"_is_missing\"] = pd.isnull(df1['horsepower'])\n",
    "# Fill missing numeric values with median \n",
    "df1[label] = df1['horsepower'].fillna(331.94)"
   ]
  },
  {
   "cell_type": "code",
   "execution_count": 83,
   "id": "c9816179",
   "metadata": {
    "execution": {
     "iopub.execute_input": "2024-06-16T10:45:11.914399Z",
     "iopub.status.busy": "2024-06-16T10:45:11.914123Z",
     "iopub.status.idle": "2024-06-16T10:45:11.936929Z",
     "shell.execute_reply": "2024-06-16T10:45:11.936259Z"
    },
    "papermill": {
     "duration": 0.058062,
     "end_time": "2024-06-16T10:45:11.938734",
     "exception": false,
     "start_time": "2024-06-16T10:45:11.880672",
     "status": "completed"
    },
    "tags": []
   },
   "outputs": [],
   "source": [
    "q25=df1['horsepower'].quantile(0.25)\n",
    "q75=df1['horsepower'].quantile(0.75)\n",
    "iqr=q75-q25\n",
    "up=q75+1.5*iqr\n",
    "down=q25-1.5*iqr\n",
    "df1['horsepower']=df1['horsepower'].apply(lambda x: up if x>up else x)"
   ]
  },
  {
   "cell_type": "code",
   "execution_count": 84,
   "id": "d528bc65",
   "metadata": {
    "execution": {
     "iopub.execute_input": "2024-06-16T10:45:12.006073Z",
     "iopub.status.busy": "2024-06-16T10:45:12.005771Z",
     "iopub.status.idle": "2024-06-16T10:45:12.050258Z",
     "shell.execute_reply": "2024-06-16T10:45:12.049263Z"
    },
    "papermill": {
     "duration": 0.079501,
     "end_time": "2024-06-16T10:45:12.052313",
     "exception": false,
     "start_time": "2024-06-16T10:45:11.972812",
     "status": "completed"
    },
    "tags": []
   },
   "outputs": [],
   "source": [
    "df1['cylinder_config']=df1['engine'].apply(lambda engine_str: \"V\" if \"V\" in engine_str else \"Straight\" if \"Straight\" in engine_str else None)\n",
    "label='cylinder_config'\n",
    "df1[label + \"_is_missing\"] = pd.isnull(df1['cylinder_config'])\n",
    "df1[label] = df1['cylinder_config'].fillna(\"idontknow0\")\n",
    "cylinder_config=pd.get_dummies(df1['cylinder_config'])\n",
    "df1=pd.concat([df1,cylinder_config],axis=1)"
   ]
  },
  {
   "cell_type": "code",
   "execution_count": 85,
   "id": "959011f0",
   "metadata": {
    "execution": {
     "iopub.execute_input": "2024-06-16T10:45:12.121534Z",
     "iopub.status.busy": "2024-06-16T10:45:12.121209Z",
     "iopub.status.idle": "2024-06-16T10:45:12.699756Z",
     "shell.execute_reply": "2024-06-16T10:45:12.698858Z"
    },
    "papermill": {
     "duration": 0.616588,
     "end_time": "2024-06-16T10:45:12.702209",
     "exception": false,
     "start_time": "2024-06-16T10:45:12.085621",
     "status": "completed"
    },
    "tags": []
   },
   "outputs": [],
   "source": [
    "v1=df1['engine'].str.extract(r'\\s(\\d+)\\s')\n",
    "v1=pd.DataFrame({'index':range(0,36183),'number':v1[0]})\n",
    "v2=df1['engine'].str.extract(r'\\s\\w(\\d+)\\s')\n",
    "v2=pd.DataFrame({'index':range(0,36183),'number':v2[0]})\n",
    "newv=pd.merge(v1, v2, on='index', how='outer')\n",
    "newv.head()\n",
    "df1['v']=newv['number_x'].combine_first(newv['number_y'])\n",
    "# df1['v']=df1['v'].fillna('6')\n",
    "# df1['v'] = df1['v'].astype(int)\n",
    "l1=df1['engine'].str.extract(r'\\s(\\d+\\.\\d+)\\w\\s')\n",
    "l1=pd.DataFrame({'index':range(0,36183),'number':l1[0]})\n",
    "l2=df1['engine'].str.extract(r'\\b(\\d+\\.\\d+)\\sLiter\\b')\n",
    "l2=pd.DataFrame({'index':range(0,36183),'number':l2[0]})\n",
    "newv=pd.merge(l1, l2, on='index', how='outer')\n",
    "# df1['L']=newv['number_x'].combine_first(newv['number_y'])\n",
    "df1['L']=df1['engine'].apply(lambda x:float(re.search(r\"(\\d+\\.\\d+)L\", x).group(1)) if  re.search(r\"(\\d+\\.\\d+)L\", x) else None)\n",
    "# df1['L']=df1['L'].fillna('3.72')\n",
    "# df1['L'] = df1['L'].astype(float)\n",
    "label='v'\n",
    "df1[label + \"_is_missing\"] = pd.isnull(df1['v'])\n",
    "df1[label] = df1['v'].fillna('6')\n",
    "df1['v']=df1['v'].astype(int)\n",
    "label='L'\n",
    "df1[label + \"_is_missing\"] = pd.isnull(df1['L'])\n",
    "df1[label] = df1['L'].fillna('3.7')\n",
    "df1['L']=df1['L'].astype(float)"
   ]
  },
  {
   "cell_type": "code",
   "execution_count": 86,
   "id": "cb8644ee",
   "metadata": {
    "execution": {
     "iopub.execute_input": "2024-06-16T10:45:12.773363Z",
     "iopub.status.busy": "2024-06-16T10:45:12.773055Z",
     "iopub.status.idle": "2024-06-16T10:45:17.747395Z",
     "shell.execute_reply": "2024-06-16T10:45:17.746643Z"
    },
    "papermill": {
     "duration": 5.009492,
     "end_time": "2024-06-16T10:45:17.749579",
     "exception": false,
     "start_time": "2024-06-16T10:45:12.740087",
     "status": "completed"
    },
    "tags": []
   },
   "outputs": [],
   "source": [
    "# df1['tranmission_no']=df1['transmission'].str.extract(r'(\\d+)')[0]\n",
    "df1[['transmission_type', 'num_gears','transmission_features']]=df1['transmission'].apply(extract_transmission_features).apply(pd.Series)"
   ]
  },
  {
   "cell_type": "code",
   "execution_count": 87,
   "id": "5bce47b3",
   "metadata": {
    "execution": {
     "iopub.execute_input": "2024-06-16T10:45:17.815442Z",
     "iopub.status.busy": "2024-06-16T10:45:17.815137Z",
     "iopub.status.idle": "2024-06-16T10:45:17.839649Z",
     "shell.execute_reply": "2024-06-16T10:45:17.838981Z"
    },
    "papermill": {
     "duration": 0.059229,
     "end_time": "2024-06-16T10:45:17.841426",
     "exception": false,
     "start_time": "2024-06-16T10:45:17.782197",
     "status": "completed"
    },
    "tags": []
   },
   "outputs": [],
   "source": [
    "label='transmission_type'\n",
    "df1[label + \"_is_missing\"] = pd.isnull(df1['transmission_type'])\n",
    "df1[label] = df1['transmission_type'].fillna(\"idontknow2\")\n",
    "label='transmission_features'\n",
    "df1[label + \"_is_missing\"] = pd.isnull(df1['transmission_features'])\n",
    "df1[label] = df1['transmission_features'].fillna(\"idontknow1\")\n",
    "label='num_gears'\n",
    "df1[label + \"_is_missing\"] = pd.isnull(df1['num_gears'])\n",
    "df1[label] = df1['num_gears'].fillna(df1['num_gears'].median())\n",
    "df1['num_gears']=df1['num_gears'].astype(int)"
   ]
  },
  {
   "cell_type": "code",
   "execution_count": 88,
   "id": "d1978a45",
   "metadata": {
    "execution": {
     "iopub.execute_input": "2024-06-16T10:45:17.907028Z",
     "iopub.status.busy": "2024-06-16T10:45:17.906737Z",
     "iopub.status.idle": "2024-06-16T10:45:17.919055Z",
     "shell.execute_reply": "2024-06-16T10:45:17.918221Z"
    },
    "papermill": {
     "duration": 0.047176,
     "end_time": "2024-06-16T10:45:17.920847",
     "exception": false,
     "start_time": "2024-06-16T10:45:17.873671",
     "status": "completed"
    },
    "tags": []
   },
   "outputs": [
    {
     "data": {
      "text/html": [
       "<div>\n",
       "<style scoped>\n",
       "    .dataframe tbody tr th:only-of-type {\n",
       "        vertical-align: middle;\n",
       "    }\n",
       "\n",
       "    .dataframe tbody tr th {\n",
       "        vertical-align: top;\n",
       "    }\n",
       "\n",
       "    .dataframe thead th {\n",
       "        text-align: right;\n",
       "    }\n",
       "</style>\n",
       "<table border=\"1\" class=\"dataframe\">\n",
       "  <thead>\n",
       "    <tr style=\"text-align: right;\">\n",
       "      <th></th>\n",
       "      <th>transmission_type</th>\n",
       "      <th>num_gears</th>\n",
       "      <th>transmission_features</th>\n",
       "    </tr>\n",
       "  </thead>\n",
       "  <tbody>\n",
       "    <tr>\n",
       "      <th>0</th>\n",
       "      <td>A/T</td>\n",
       "      <td>6</td>\n",
       "      <td>A/T</td>\n",
       "    </tr>\n",
       "    <tr>\n",
       "      <th>1</th>\n",
       "      <td>A/T</td>\n",
       "      <td>8</td>\n",
       "      <td></td>\n",
       "    </tr>\n",
       "    <tr>\n",
       "      <th>2</th>\n",
       "      <td>A/T</td>\n",
       "      <td>7</td>\n",
       "      <td></td>\n",
       "    </tr>\n",
       "    <tr>\n",
       "      <th>3</th>\n",
       "      <td>Dual</td>\n",
       "      <td>0</td>\n",
       "      <td>Transmission w/Dual Shift Mode</td>\n",
       "    </tr>\n",
       "    <tr>\n",
       "      <th>4</th>\n",
       "      <td>A/T</td>\n",
       "      <td>8</td>\n",
       "      <td></td>\n",
       "    </tr>\n",
       "    <tr>\n",
       "      <th>...</th>\n",
       "      <td>...</td>\n",
       "      <td>...</td>\n",
       "      <td>...</td>\n",
       "    </tr>\n",
       "    <tr>\n",
       "      <th>36178</th>\n",
       "      <td>A/T</td>\n",
       "      <td>10</td>\n",
       "      <td></td>\n",
       "    </tr>\n",
       "    <tr>\n",
       "      <th>36179</th>\n",
       "      <td>A/T</td>\n",
       "      <td>4</td>\n",
       "      <td></td>\n",
       "    </tr>\n",
       "    <tr>\n",
       "      <th>36180</th>\n",
       "      <td>M/T</td>\n",
       "      <td>5</td>\n",
       "      <td></td>\n",
       "    </tr>\n",
       "    <tr>\n",
       "      <th>36181</th>\n",
       "      <td>A/T</td>\n",
       "      <td>10</td>\n",
       "      <td></td>\n",
       "    </tr>\n",
       "    <tr>\n",
       "      <th>36182</th>\n",
       "      <td>A/T</td>\n",
       "      <td>6</td>\n",
       "      <td>A/T</td>\n",
       "    </tr>\n",
       "  </tbody>\n",
       "</table>\n",
       "<p>36183 rows × 3 columns</p>\n",
       "</div>"
      ],
      "text/plain": [
       "      transmission_type  num_gears           transmission_features\n",
       "0                   A/T          6                             A/T\n",
       "1                   A/T          8                                \n",
       "2                   A/T          7                                \n",
       "3                  Dual          0  Transmission w/Dual Shift Mode\n",
       "4                   A/T          8                                \n",
       "...                 ...        ...                             ...\n",
       "36178               A/T         10                                \n",
       "36179               A/T          4                                \n",
       "36180               M/T          5                                \n",
       "36181               A/T         10                                \n",
       "36182               A/T          6                             A/T\n",
       "\n",
       "[36183 rows x 3 columns]"
      ]
     },
     "execution_count": 88,
     "metadata": {},
     "output_type": "execute_result"
    }
   ],
   "source": [
    "df1[['transmission_type', 'num_gears','transmission_features']]"
   ]
  },
  {
   "cell_type": "code",
   "execution_count": 89,
   "id": "9d88c0f8",
   "metadata": {
    "execution": {
     "iopub.execute_input": "2024-06-16T10:45:17.986657Z",
     "iopub.status.busy": "2024-06-16T10:45:17.986390Z",
     "iopub.status.idle": "2024-06-16T10:45:18.008376Z",
     "shell.execute_reply": "2024-06-16T10:45:18.007696Z"
    },
    "papermill": {
     "duration": 0.057201,
     "end_time": "2024-06-16T10:45:18.010277",
     "exception": false,
     "start_time": "2024-06-16T10:45:17.953076",
     "status": "completed"
    },
    "tags": []
   },
   "outputs": [],
   "source": [
    "# df1['num_gears']=df1['num_gears'].fillna(1)\n",
    "# df1['num_gears']=df1['num_gears'].astype(int)\n",
    "# df1['transmission_features']=df1['transmission_features'].replace({\"\":\"idontknow\"})\n",
    "# df1['transmission_features']=df1['transmission_features'].fillna(\"idontknow\")\n",
    "acci=pd.get_dummies(df1['transmission_type'])\n",
    "df1=pd.concat([df1,acci],axis=1)"
   ]
  },
  {
   "cell_type": "code",
   "execution_count": 90,
   "id": "40ec9248",
   "metadata": {
    "execution": {
     "iopub.execute_input": "2024-06-16T10:45:18.076442Z",
     "iopub.status.busy": "2024-06-16T10:45:18.076145Z",
     "iopub.status.idle": "2024-06-16T10:45:18.088170Z",
     "shell.execute_reply": "2024-06-16T10:45:18.087336Z"
    },
    "papermill": {
     "duration": 0.047132,
     "end_time": "2024-06-16T10:45:18.090253",
     "exception": false,
     "start_time": "2024-06-16T10:45:18.043121",
     "status": "completed"
    },
    "tags": []
   },
   "outputs": [
    {
     "data": {
      "text/html": [
       "<div>\n",
       "<style scoped>\n",
       "    .dataframe tbody tr th:only-of-type {\n",
       "        vertical-align: middle;\n",
       "    }\n",
       "\n",
       "    .dataframe tbody tr th {\n",
       "        vertical-align: top;\n",
       "    }\n",
       "\n",
       "    .dataframe thead th {\n",
       "        text-align: right;\n",
       "    }\n",
       "</style>\n",
       "<table border=\"1\" class=\"dataframe\">\n",
       "  <thead>\n",
       "    <tr style=\"text-align: right;\">\n",
       "      <th></th>\n",
       "      <th>transmission_type</th>\n",
       "      <th>num_gears</th>\n",
       "      <th>transmission_features</th>\n",
       "    </tr>\n",
       "  </thead>\n",
       "  <tbody>\n",
       "    <tr>\n",
       "      <th>0</th>\n",
       "      <td>A/T</td>\n",
       "      <td>6</td>\n",
       "      <td>A/T</td>\n",
       "    </tr>\n",
       "    <tr>\n",
       "      <th>1</th>\n",
       "      <td>A/T</td>\n",
       "      <td>8</td>\n",
       "      <td></td>\n",
       "    </tr>\n",
       "    <tr>\n",
       "      <th>2</th>\n",
       "      <td>A/T</td>\n",
       "      <td>7</td>\n",
       "      <td></td>\n",
       "    </tr>\n",
       "    <tr>\n",
       "      <th>3</th>\n",
       "      <td>Dual</td>\n",
       "      <td>0</td>\n",
       "      <td>Transmission w/Dual Shift Mode</td>\n",
       "    </tr>\n",
       "    <tr>\n",
       "      <th>4</th>\n",
       "      <td>A/T</td>\n",
       "      <td>8</td>\n",
       "      <td></td>\n",
       "    </tr>\n",
       "    <tr>\n",
       "      <th>...</th>\n",
       "      <td>...</td>\n",
       "      <td>...</td>\n",
       "      <td>...</td>\n",
       "    </tr>\n",
       "    <tr>\n",
       "      <th>36178</th>\n",
       "      <td>A/T</td>\n",
       "      <td>10</td>\n",
       "      <td></td>\n",
       "    </tr>\n",
       "    <tr>\n",
       "      <th>36179</th>\n",
       "      <td>A/T</td>\n",
       "      <td>4</td>\n",
       "      <td></td>\n",
       "    </tr>\n",
       "    <tr>\n",
       "      <th>36180</th>\n",
       "      <td>M/T</td>\n",
       "      <td>5</td>\n",
       "      <td></td>\n",
       "    </tr>\n",
       "    <tr>\n",
       "      <th>36181</th>\n",
       "      <td>A/T</td>\n",
       "      <td>10</td>\n",
       "      <td></td>\n",
       "    </tr>\n",
       "    <tr>\n",
       "      <th>36182</th>\n",
       "      <td>A/T</td>\n",
       "      <td>6</td>\n",
       "      <td>A/T</td>\n",
       "    </tr>\n",
       "  </tbody>\n",
       "</table>\n",
       "<p>36183 rows × 3 columns</p>\n",
       "</div>"
      ],
      "text/plain": [
       "      transmission_type  num_gears           transmission_features\n",
       "0                   A/T          6                             A/T\n",
       "1                   A/T          8                                \n",
       "2                   A/T          7                                \n",
       "3                  Dual          0  Transmission w/Dual Shift Mode\n",
       "4                   A/T          8                                \n",
       "...                 ...        ...                             ...\n",
       "36178               A/T         10                                \n",
       "36179               A/T          4                                \n",
       "36180               M/T          5                                \n",
       "36181               A/T         10                                \n",
       "36182               A/T          6                             A/T\n",
       "\n",
       "[36183 rows x 3 columns]"
      ]
     },
     "execution_count": 90,
     "metadata": {},
     "output_type": "execute_result"
    }
   ],
   "source": [
    "df1[['transmission_type', 'num_gears','transmission_features']]"
   ]
  },
  {
   "cell_type": "code",
   "execution_count": 91,
   "id": "b8a6e533",
   "metadata": {
    "execution": {
     "iopub.execute_input": "2024-06-16T10:45:18.213021Z",
     "iopub.status.busy": "2024-06-16T10:45:18.212634Z",
     "iopub.status.idle": "2024-06-16T10:45:18.510680Z",
     "shell.execute_reply": "2024-06-16T10:45:18.509606Z"
    },
    "papermill": {
     "duration": 0.388066,
     "end_time": "2024-06-16T10:45:18.512669",
     "exception": false,
     "start_time": "2024-06-16T10:45:18.124603",
     "status": "completed"
    },
    "tags": []
   },
   "outputs": [
    {
     "name": "stdout",
     "output_type": "stream",
     "text": [
      "['Manual_trans', 'Mode_trans', 'w_trans', 'Speed_trans', 'Shift_trans', 'Dual_trans', 'FOR_trans', 'Transmission_trans', 'O_trans', 'Overdrive_trans', 'Electronically_trans', '-_trans', 'Controlled_trans', 'Switch_trans', 'Automatic_trans', 'CVT_trans', 'IN_trans', 'M_trans', 'PRODUCTION_trans', 'F_trans', 'Auto_trans', 'OR_trans', 'with_trans', 'DCT_trans', 'A_trans', 'SCHEDULED_trans', 'T_trans']\n"
     ]
    }
   ],
   "source": [
    "arr=df1['transmission_features'].apply(lambda x:sorted([i+\"_trans\" for i in re.findall(r'\\b[a-zA-Z]+\\b|-',x)]))\n",
    "colset=[]\n",
    "for i in range(36183):\n",
    "    for j in arr[i]:\n",
    "        colset.append(j)\n",
    "transdata=list(set(colset))\n",
    "print(transdata)"
   ]
  },
  {
   "cell_type": "code",
   "execution_count": 92,
   "id": "3e0da9f9",
   "metadata": {
    "execution": {
     "iopub.execute_input": "2024-06-16T10:45:18.581980Z",
     "iopub.status.busy": "2024-06-16T10:45:18.581649Z",
     "iopub.status.idle": "2024-06-16T10:49:00.194974Z",
     "shell.execute_reply": "2024-06-16T10:49:00.193881Z"
    },
    "papermill": {
     "duration": 221.65071,
     "end_time": "2024-06-16T10:49:00.197933",
     "exception": false,
     "start_time": "2024-06-16T10:45:18.547223",
     "status": "completed"
    },
    "tags": []
   },
   "outputs": [],
   "source": [
    "arr1=arr.apply(lambda x:[i+\"_is_missing\" for i in list(set(transdata)-set(x))])\n",
    "for i in nottransdata:\n",
    "    df1[i]=0\n",
    "for i in range(36183):\n",
    "    for j in arr1[i]:\n",
    "        if j in nottransdata:\n",
    "            df1.loc[i,j]=1"
   ]
  },
  {
   "cell_type": "code",
   "execution_count": 93,
   "id": "dfc73e35",
   "metadata": {
    "execution": {
     "iopub.execute_input": "2024-06-16T10:49:00.271502Z",
     "iopub.status.busy": "2024-06-16T10:49:00.271201Z",
     "iopub.status.idle": "2024-06-16T10:49:15.886159Z",
     "shell.execute_reply": "2024-06-16T10:49:15.885162Z"
    },
    "papermill": {
     "duration": 15.651638,
     "end_time": "2024-06-16T10:49:15.888594",
     "exception": false,
     "start_time": "2024-06-16T10:49:00.236956",
     "status": "completed"
    },
    "tags": []
   },
   "outputs": [],
   "source": [
    "for i in transdata:\n",
    "    df1[i]=0\n",
    "for i in range(36183):\n",
    "    for j in arr[i]:\n",
    "        if j in transdata:\n",
    "            df1.loc[i,j]=1"
   ]
  },
  {
   "cell_type": "code",
   "execution_count": 94,
   "id": "4c30badf",
   "metadata": {
    "execution": {
     "iopub.execute_input": "2024-06-16T10:49:15.955966Z",
     "iopub.status.busy": "2024-06-16T10:49:15.955643Z",
     "iopub.status.idle": "2024-06-16T10:49:16.109672Z",
     "shell.execute_reply": "2024-06-16T10:49:16.108677Z"
    },
    "papermill": {
     "duration": 0.18983,
     "end_time": "2024-06-16T10:49:16.112053",
     "exception": false,
     "start_time": "2024-06-16T10:49:15.922223",
     "status": "completed"
    },
    "tags": []
   },
   "outputs": [],
   "source": [
    "brand=pd.get_dummies(df1['brand'])\n",
    "df1=pd.concat([df1,brand],axis=1)\n",
    "fuel_type=pd.get_dummies(df1['fuel_type'])\n",
    "df1=pd.concat([df1,fuel_type],axis=1)\n",
    "# ext_col=pd.get_dummies(df1['ext_col'])\n",
    "# df1=pd.concat([df1,ext_col],axis=1)\n",
    "clean_title=pd.get_dummies(df1['clean_title'])\n",
    "d1f=pd.concat([df1,clean_title],axis=1)\n",
    "# int_col=pd.get_dummies(df1['int_col'])\n",
    "# df1=pd.concat([df1,int_col],axis=1)\n",
    "df1['int_col']=df1['int_col'].apply(lambda x:intdict[x] if x in intdict else random.randint(502, 1000))\n",
    "df1['ext_col']=df1['ext_col'].apply(lambda x:extdict[x] if x in extdict else random.randint(502, 1000))\n",
    "acci1=pd.get_dummies(df1['accident'])\n",
    "df1=pd.concat([df1,acci1],axis=1)"
   ]
  },
  {
   "cell_type": "code",
   "execution_count": 95,
   "id": "70028932",
   "metadata": {
    "execution": {
     "iopub.execute_input": "2024-06-16T10:49:16.179937Z",
     "iopub.status.busy": "2024-06-16T10:49:16.179218Z",
     "iopub.status.idle": "2024-06-16T10:49:21.349266Z",
     "shell.execute_reply": "2024-06-16T10:49:21.348495Z"
    },
    "papermill": {
     "duration": 5.205808,
     "end_time": "2024-06-16T10:49:21.351512",
     "exception": false,
     "start_time": "2024-06-16T10:49:16.145704",
     "status": "completed"
    },
    "tags": []
   },
   "outputs": [],
   "source": [
    "# df1['model']=df1['model'].astype('category').cat.codes\n",
    "df1[['base_model', 'model_variant', 'additional_features']] =df1['model'].apply(lambda x: pd.Series(extract_model_features(x)))\n",
    "label='additional_features'\n",
    "df1[label + \"_is_missing\"] = pd.isnull(df1['additional_features'])\n",
    "df1[label] = df1['additional_features'].fillna(\"idontknow\")\n",
    "label='model_variant'\n",
    "df1[label + \"_is_missing\"] = pd.isnull(df1['base_model'])\n",
    "df1[label] = df1['base_model'].fillna(\"idontknow\")\n",
    "label='base_model'\n",
    "df1[label + \"_is_missing\"] = pd.isnull(df1['base_model'])\n",
    "df1[label] = df1['base_model'].fillna(\"idontknow\")\n",
    "df1['base_model']=df1['base_model'].apply(lambda x:base_modeldict[x] if x in base_modeldict else random.randint(502, 1000))\n",
    "df1['model_variant']=df1['model_variant'].apply(lambda x:model_variantdict[x] if x in model_variantdict else random.randint(502, 1000))\n",
    "df1['additional_features']=df1['additional_features'].apply(lambda x:additional_featuresdict[x] if x in additional_featuresdict else random.randint(502, 1000))"
   ]
  },
  {
   "cell_type": "code",
   "execution_count": 96,
   "id": "a74967eb",
   "metadata": {
    "execution": {
     "iopub.execute_input": "2024-06-16T10:49:21.419549Z",
     "iopub.status.busy": "2024-06-16T10:49:21.419248Z",
     "iopub.status.idle": "2024-06-16T10:49:21.430416Z",
     "shell.execute_reply": "2024-06-16T10:49:21.429446Z"
    },
    "papermill": {
     "duration": 0.047213,
     "end_time": "2024-06-16T10:49:21.432226",
     "exception": false,
     "start_time": "2024-06-16T10:49:21.385013",
     "status": "completed"
    },
    "tags": []
   },
   "outputs": [
    {
     "data": {
      "text/html": [
       "<div>\n",
       "<style scoped>\n",
       "    .dataframe tbody tr th:only-of-type {\n",
       "        vertical-align: middle;\n",
       "    }\n",
       "\n",
       "    .dataframe tbody tr th {\n",
       "        vertical-align: top;\n",
       "    }\n",
       "\n",
       "    .dataframe thead th {\n",
       "        text-align: right;\n",
       "    }\n",
       "</style>\n",
       "<table border=\"1\" class=\"dataframe\">\n",
       "  <thead>\n",
       "    <tr style=\"text-align: right;\">\n",
       "      <th></th>\n",
       "      <th>base_model</th>\n",
       "      <th>model_variant</th>\n",
       "      <th>additional_features</th>\n",
       "    </tr>\n",
       "  </thead>\n",
       "  <tbody>\n",
       "    <tr>\n",
       "      <th>0</th>\n",
       "      <td>434</td>\n",
       "      <td>434</td>\n",
       "      <td>26</td>\n",
       "    </tr>\n",
       "    <tr>\n",
       "      <th>1</th>\n",
       "      <td>9</td>\n",
       "      <td>9</td>\n",
       "      <td>391</td>\n",
       "    </tr>\n",
       "    <tr>\n",
       "      <th>2</th>\n",
       "      <td>136</td>\n",
       "      <td>136</td>\n",
       "      <td>387</td>\n",
       "    </tr>\n",
       "    <tr>\n",
       "      <th>3</th>\n",
       "      <td>369</td>\n",
       "      <td>369</td>\n",
       "      <td>155</td>\n",
       "    </tr>\n",
       "    <tr>\n",
       "      <th>4</th>\n",
       "      <td>470</td>\n",
       "      <td>470</td>\n",
       "      <td>343</td>\n",
       "    </tr>\n",
       "    <tr>\n",
       "      <th>...</th>\n",
       "      <td>...</td>\n",
       "      <td>...</td>\n",
       "      <td>...</td>\n",
       "    </tr>\n",
       "    <tr>\n",
       "      <th>36178</th>\n",
       "      <td>261</td>\n",
       "      <td>261</td>\n",
       "      <td>343</td>\n",
       "    </tr>\n",
       "    <tr>\n",
       "      <th>36179</th>\n",
       "      <td>82</td>\n",
       "      <td>82</td>\n",
       "      <td>164</td>\n",
       "    </tr>\n",
       "    <tr>\n",
       "      <th>36180</th>\n",
       "      <td>348</td>\n",
       "      <td>348</td>\n",
       "      <td>343</td>\n",
       "    </tr>\n",
       "    <tr>\n",
       "      <th>36181</th>\n",
       "      <td>491</td>\n",
       "      <td>491</td>\n",
       "      <td>343</td>\n",
       "    </tr>\n",
       "    <tr>\n",
       "      <th>36182</th>\n",
       "      <td>265</td>\n",
       "      <td>265</td>\n",
       "      <td>343</td>\n",
       "    </tr>\n",
       "  </tbody>\n",
       "</table>\n",
       "<p>36183 rows × 3 columns</p>\n",
       "</div>"
      ],
      "text/plain": [
       "       base_model  model_variant  additional_features\n",
       "0             434            434                   26\n",
       "1               9              9                  391\n",
       "2             136            136                  387\n",
       "3             369            369                  155\n",
       "4             470            470                  343\n",
       "...           ...            ...                  ...\n",
       "36178         261            261                  343\n",
       "36179          82             82                  164\n",
       "36180         348            348                  343\n",
       "36181         491            491                  343\n",
       "36182         265            265                  343\n",
       "\n",
       "[36183 rows x 3 columns]"
      ]
     },
     "execution_count": 96,
     "metadata": {},
     "output_type": "execute_result"
    }
   ],
   "source": [
    "# df1['noyear']=pd.cut(df1['model_year'],9,labels=[str(i) for i in range(9)])\n",
    "# df1['noyear']=df1['noyear'].astype(int)\n",
    "# df1['d']=df1['milage']*df1['v']\n",
    "df1[['base_model', 'model_variant', 'additional_features']]"
   ]
  },
  {
   "cell_type": "code",
   "execution_count": 97,
   "id": "c18a0e2b",
   "metadata": {
    "execution": {
     "iopub.execute_input": "2024-06-16T10:49:21.499166Z",
     "iopub.status.busy": "2024-06-16T10:49:21.498888Z",
     "iopub.status.idle": "2024-06-16T10:49:21.510890Z",
     "shell.execute_reply": "2024-06-16T10:49:21.510032Z"
    },
    "papermill": {
     "duration": 0.047441,
     "end_time": "2024-06-16T10:49:21.512684",
     "exception": false,
     "start_time": "2024-06-16T10:49:21.465243",
     "status": "completed"
    },
    "tags": []
   },
   "outputs": [],
   "source": [
    "df1=df1.drop(columns=['brand','fuel_type','accident','clean_title','id','transmission','model','transmission_type','transmission_features','cylinder_config','model_year'],axis=1)"
   ]
  },
  {
   "cell_type": "code",
   "execution_count": 98,
   "id": "423ac3c0",
   "metadata": {
    "execution": {
     "iopub.execute_input": "2024-06-16T10:49:21.579339Z",
     "iopub.status.busy": "2024-06-16T10:49:21.579073Z",
     "iopub.status.idle": "2024-06-16T10:49:21.932752Z",
     "shell.execute_reply": "2024-06-16T10:49:21.931784Z"
    },
    "papermill": {
     "duration": 0.389542,
     "end_time": "2024-06-16T10:49:21.935068",
     "exception": false,
     "start_time": "2024-06-16T10:49:21.545526",
     "status": "completed"
    },
    "tags": []
   },
   "outputs": [],
   "source": [
    "arr=df1['engine'].apply(lambda x:sorted(re.findall(r'\\b[a-zA-Z]+\\b',x)))\n",
    "# arr[0]\n",
    "colset=[]\n",
    "for i in range(36183):\n",
    "    for j in arr[i]:\n",
    "        colset.append(j)"
   ]
  },
  {
   "cell_type": "code",
   "execution_count": 99,
   "id": "8b20de63",
   "metadata": {
    "execution": {
     "iopub.execute_input": "2024-06-16T10:49:22.008967Z",
     "iopub.status.busy": "2024-06-16T10:49:22.008066Z",
     "iopub.status.idle": "2024-06-16T10:49:22.014171Z",
     "shell.execute_reply": "2024-06-16T10:49:22.013460Z"
    },
    "papermill": {
     "duration": 0.042773,
     "end_time": "2024-06-16T10:49:22.016072",
     "exception": false,
     "start_time": "2024-06-16T10:49:21.973299",
     "status": "completed"
    },
    "tags": []
   },
   "outputs": [],
   "source": [
    "enginedata=['AH',\n",
    " 'Battery',\n",
    " 'Capability',\n",
    " 'Cylinder',\n",
    " 'DDI',\n",
    " 'DOHC',\n",
    " 'Diesel',\n",
    " 'Electric',\n",
    " 'Engine',\n",
    " 'Flat',\n",
    " 'Flex',\n",
    " 'Flexible',\n",
    " 'GDI',\n",
    " 'GTDI',\n",
    " 'Gas',\n",
    " 'Gasoline',\n",
    " 'Hybrid',\n",
    " 'Hydrogen',\n",
    " 'In',\n",
    " 'Intercooled',\n",
    " 'MPFI',\n",
    " 'Mild',\n",
    " 'Motor',\n",
    " 'OHV',\n",
    " 'PDI',\n",
    " 'Plug',\n",
    " 'Range',\n",
    " 'Rotary',\n",
    " 'SC',\n",
    " 'SOHC',\n",
    " 'Standard',\n",
    " 'Supercharged',\n",
    " 'System',\n",
    " 'TFSI',\n",
    " 'TSI',\n",
    " 'Turbo',\n",
    " 'Twin',\n",
    " 'ULEV',\n",
    " 'VTEC',\n",
    " '-',\n",
    " 'I4',\n",
    " 'engine']"
   ]
  },
  {
   "cell_type": "code",
   "execution_count": 100,
   "id": "0cd3650a",
   "metadata": {
    "execution": {
     "iopub.execute_input": "2024-06-16T10:49:22.082772Z",
     "iopub.status.busy": "2024-06-16T10:49:22.082501Z",
     "iopub.status.idle": "2024-06-16T10:49:57.242778Z",
     "shell.execute_reply": "2024-06-16T10:49:57.241888Z"
    },
    "papermill": {
     "duration": 35.196148,
     "end_time": "2024-06-16T10:49:57.245086",
     "exception": false,
     "start_time": "2024-06-16T10:49:22.048938",
     "status": "completed"
    },
    "tags": []
   },
   "outputs": [],
   "source": [
    "for i in enginedata:\n",
    "    df1[i]=0\n",
    "for i in range(36183):\n",
    "    for j in arr[i]:\n",
    "        if j in enginedata:\n",
    "            df1.loc[i,j]=1"
   ]
  },
  {
   "cell_type": "code",
   "execution_count": 101,
   "id": "eb44e5b5",
   "metadata": {
    "execution": {
     "iopub.execute_input": "2024-06-16T10:49:57.316113Z",
     "iopub.status.busy": "2024-06-16T10:49:57.315137Z",
     "iopub.status.idle": "2024-06-16T10:49:57.324253Z",
     "shell.execute_reply": "2024-06-16T10:49:57.323157Z"
    },
    "papermill": {
     "duration": 0.046354,
     "end_time": "2024-06-16T10:49:57.326170",
     "exception": false,
     "start_time": "2024-06-16T10:49:57.279816",
     "status": "completed"
    },
    "tags": []
   },
   "outputs": [
    {
     "data": {
      "text/plain": [
       "0        1\n",
       "1        1\n",
       "2        1\n",
       "3        1\n",
       "4        1\n",
       "        ..\n",
       "36178    1\n",
       "36179    1\n",
       "36180    1\n",
       "36181    1\n",
       "36182    1\n",
       "Name: Cylinder, Length: 36183, dtype: int64"
      ]
     },
     "execution_count": 101,
     "metadata": {},
     "output_type": "execute_result"
    }
   ],
   "source": [
    "df1['Cylinder']"
   ]
  },
  {
   "cell_type": "code",
   "execution_count": 102,
   "id": "140aa1ab",
   "metadata": {
    "execution": {
     "iopub.execute_input": "2024-06-16T10:49:57.397085Z",
     "iopub.status.busy": "2024-06-16T10:49:57.396238Z",
     "iopub.status.idle": "2024-06-16T10:49:57.442873Z",
     "shell.execute_reply": "2024-06-16T10:49:57.441882Z"
    },
    "papermill": {
     "duration": 0.08583,
     "end_time": "2024-06-16T10:49:57.446032",
     "exception": false,
     "start_time": "2024-06-16T10:49:57.360202",
     "status": "completed"
    },
    "tags": []
   },
   "outputs": [],
   "source": [
    "df1=df1.dropna(axis=1)"
   ]
  },
  {
   "cell_type": "code",
   "execution_count": 103,
   "id": "a5207b29",
   "metadata": {
    "execution": {
     "iopub.execute_input": "2024-06-16T10:49:57.521957Z",
     "iopub.status.busy": "2024-06-16T10:49:57.521572Z",
     "iopub.status.idle": "2024-06-16T10:49:57.535421Z",
     "shell.execute_reply": "2024-06-16T10:49:57.534402Z"
    },
    "papermill": {
     "duration": 0.051358,
     "end_time": "2024-06-16T10:49:57.538047",
     "exception": false,
     "start_time": "2024-06-16T10:49:57.486689",
     "status": "completed"
    },
    "tags": []
   },
   "outputs": [],
   "source": [
    "# catboost.predict(df1)\n",
    "# df1.shape\n",
    "df1=df1.drop(['Saab', 'smart'],axis=1)"
   ]
  },
  {
   "cell_type": "code",
   "execution_count": 104,
   "id": "163e6524",
   "metadata": {
    "execution": {
     "iopub.execute_input": "2024-06-16T10:49:57.612912Z",
     "iopub.status.busy": "2024-06-16T10:49:57.611881Z",
     "iopub.status.idle": "2024-06-16T10:49:57.620020Z",
     "shell.execute_reply": "2024-06-16T10:49:57.619182Z"
    },
    "papermill": {
     "duration": 0.045059,
     "end_time": "2024-06-16T10:49:57.621911",
     "exception": false,
     "start_time": "2024-06-16T10:49:57.576852",
     "status": "completed"
    },
    "tags": []
   },
   "outputs": [],
   "source": [
    "df1['Yes']=1\n",
    "df1['Maybach']=0\n",
    "df1['Plymouth']=0\n",
    "df1['At_trans']=0\n",
    "df1['Mt_trans']=0\n",
    "df1['Variable_trans']=0"
   ]
  },
  {
   "cell_type": "code",
   "execution_count": 105,
   "id": "f918523e",
   "metadata": {
    "execution": {
     "iopub.execute_input": "2024-06-16T10:49:57.698068Z",
     "iopub.status.busy": "2024-06-16T10:49:57.697720Z",
     "iopub.status.idle": "2024-06-16T10:49:57.704257Z",
     "shell.execute_reply": "2024-06-16T10:49:57.703409Z"
    },
    "papermill": {
     "duration": 0.042927,
     "end_time": "2024-06-16T10:49:57.706173",
     "exception": false,
     "start_time": "2024-06-16T10:49:57.663246",
     "status": "completed"
    },
    "tags": []
   },
   "outputs": [
    {
     "data": {
      "text/plain": [
       "set()"
      ]
     },
     "execution_count": 105,
     "metadata": {},
     "output_type": "execute_result"
    }
   ],
   "source": [
    "# df1=df1.drop(['d'],axis=1)\n",
    "set(df.columns.tolist())-set(df1.columns.tolist())\n",
    "set(df1.columns.tolist())-set(df.columns.tolist())"
   ]
  },
  {
   "cell_type": "code",
   "execution_count": 106,
   "id": "0db2c3f7",
   "metadata": {
    "execution": {
     "iopub.execute_input": "2024-06-16T10:49:57.774110Z",
     "iopub.status.busy": "2024-06-16T10:49:57.773816Z",
     "iopub.status.idle": "2024-06-16T10:49:57.936491Z",
     "shell.execute_reply": "2024-06-16T10:49:57.935583Z"
    },
    "papermill": {
     "duration": 0.199413,
     "end_time": "2024-06-16T10:49:57.938766",
     "exception": false,
     "start_time": "2024-06-16T10:49:57.739353",
     "status": "completed"
    },
    "tags": []
   },
   "outputs": [
    {
     "data": {
      "text/html": [
       "<div>\n",
       "<style scoped>\n",
       "    .dataframe tbody tr th:only-of-type {\n",
       "        vertical-align: middle;\n",
       "    }\n",
       "\n",
       "    .dataframe tbody tr th {\n",
       "        vertical-align: top;\n",
       "    }\n",
       "\n",
       "    .dataframe thead th {\n",
       "        text-align: right;\n",
       "    }\n",
       "</style>\n",
       "<table border=\"1\" class=\"dataframe\">\n",
       "  <thead>\n",
       "    <tr style=\"text-align: right;\">\n",
       "      <th></th>\n",
       "      <th>id</th>\n",
       "      <th>price</th>\n",
       "    </tr>\n",
       "  </thead>\n",
       "  <tbody>\n",
       "    <tr>\n",
       "      <th>0</th>\n",
       "      <td>54273</td>\n",
       "      <td>28094.978199</td>\n",
       "    </tr>\n",
       "    <tr>\n",
       "      <th>1</th>\n",
       "      <td>54274</td>\n",
       "      <td>17528.394062</td>\n",
       "    </tr>\n",
       "    <tr>\n",
       "      <th>2</th>\n",
       "      <td>54275</td>\n",
       "      <td>28453.076251</td>\n",
       "    </tr>\n",
       "    <tr>\n",
       "      <th>3</th>\n",
       "      <td>54276</td>\n",
       "      <td>63919.232402</td>\n",
       "    </tr>\n",
       "    <tr>\n",
       "      <th>4</th>\n",
       "      <td>54277</td>\n",
       "      <td>39046.380762</td>\n",
       "    </tr>\n",
       "    <tr>\n",
       "      <th>...</th>\n",
       "      <td>...</td>\n",
       "      <td>...</td>\n",
       "    </tr>\n",
       "    <tr>\n",
       "      <th>36178</th>\n",
       "      <td>90451</td>\n",
       "      <td>73043.349786</td>\n",
       "    </tr>\n",
       "    <tr>\n",
       "      <th>36179</th>\n",
       "      <td>90452</td>\n",
       "      <td>19252.491294</td>\n",
       "    </tr>\n",
       "    <tr>\n",
       "      <th>36180</th>\n",
       "      <td>90453</td>\n",
       "      <td>11292.589058</td>\n",
       "    </tr>\n",
       "    <tr>\n",
       "      <th>36181</th>\n",
       "      <td>90454</td>\n",
       "      <td>53652.344466</td>\n",
       "    </tr>\n",
       "    <tr>\n",
       "      <th>36182</th>\n",
       "      <td>90455</td>\n",
       "      <td>14005.199486</td>\n",
       "    </tr>\n",
       "  </tbody>\n",
       "</table>\n",
       "<p>36183 rows × 2 columns</p>\n",
       "</div>"
      ],
      "text/plain": [
       "          id         price\n",
       "0      54273  28094.978199\n",
       "1      54274  17528.394062\n",
       "2      54275  28453.076251\n",
       "3      54276  63919.232402\n",
       "4      54277  39046.380762\n",
       "...      ...           ...\n",
       "36178  90451  73043.349786\n",
       "36179  90452  19252.491294\n",
       "36180  90453  11292.589058\n",
       "36181  90454  53652.344466\n",
       "36182  90455  14005.199486\n",
       "\n",
       "[36183 rows x 2 columns]"
      ]
     },
     "execution_count": 106,
     "metadata": {},
     "output_type": "execute_result"
    }
   ],
   "source": [
    "import random\n",
    "result=pd.DataFrame({'id':pd.read_csv('/kaggle/input/kagglexdatasetforvedantpandey/test.csv')['id'],'price':catboost.predict(df1)})\n",
    "# result=pd.DataFrame({'id':pd.read_csv('test.csv')['id'],'price':model.predict(df1)})\n",
    "result"
   ]
  },
  {
   "cell_type": "code",
   "execution_count": 107,
   "id": "e928e871",
   "metadata": {
    "execution": {
     "iopub.execute_input": "2024-06-16T10:49:58.010123Z",
     "iopub.status.busy": "2024-06-16T10:49:58.009795Z",
     "iopub.status.idle": "2024-06-16T10:49:58.115903Z",
     "shell.execute_reply": "2024-06-16T10:49:58.115016Z"
    },
    "papermill": {
     "duration": 0.142427,
     "end_time": "2024-06-16T10:49:58.117915",
     "exception": false,
     "start_time": "2024-06-16T10:49:57.975488",
     "status": "completed"
    },
    "tags": []
   },
   "outputs": [],
   "source": [
    "result.to_csv('out2.csv',index=False)"
   ]
  },
  {
   "cell_type": "code",
   "execution_count": 108,
   "id": "8cf8f0ae",
   "metadata": {
    "execution": {
     "iopub.execute_input": "2024-06-16T10:49:58.188111Z",
     "iopub.status.busy": "2024-06-16T10:49:58.187767Z",
     "iopub.status.idle": "2024-06-16T10:49:58.245622Z",
     "shell.execute_reply": "2024-06-16T10:49:58.244749Z"
    },
    "papermill": {
     "duration": 0.094708,
     "end_time": "2024-06-16T10:49:58.247490",
     "exception": false,
     "start_time": "2024-06-16T10:49:58.152782",
     "status": "completed"
    },
    "tags": []
   },
   "outputs": [
    {
     "data": {
      "text/plain": [
       "array([28094.97819878, 17528.3940621 , 28453.07625101, ...,\n",
       "       11292.58905845, 53652.34446552, 14005.19948633])"
      ]
     },
     "execution_count": 108,
     "metadata": {},
     "output_type": "execute_result"
    }
   ],
   "source": [
    "import random\n",
    "catboost.predict(df1)"
   ]
  },
  {
   "cell_type": "code",
   "execution_count": 109,
   "id": "6d00d435",
   "metadata": {
    "execution": {
     "iopub.execute_input": "2024-06-16T10:49:58.315886Z",
     "iopub.status.busy": "2024-06-16T10:49:58.315584Z",
     "iopub.status.idle": "2024-06-16T10:49:58.322077Z",
     "shell.execute_reply": "2024-06-16T10:49:58.321274Z"
    },
    "papermill": {
     "duration": 0.042684,
     "end_time": "2024-06-16T10:49:58.324072",
     "exception": false,
     "start_time": "2024-06-16T10:49:58.281388",
     "status": "completed"
    },
    "tags": []
   },
   "outputs": [
    {
     "data": {
      "text/plain": [
       "['fuel_type_is_missing',\n",
       " 'fuel_typenot_is_missing',\n",
       " 'horsepower_is_missing',\n",
       " 'cylinder_config_is_missing',\n",
       " 'v_is_missing',\n",
       " 'L_is_missing',\n",
       " 'num_gears_is_missing',\n",
       " 'transmission_features_is_missing',\n",
       " 'transmission_type_is_missing',\n",
       " 'Manual_trans_is_missing',\n",
       " 'Mode_trans_is_missing',\n",
       " 'w_trans_is_missing',\n",
       " 'Speed_trans_is_missing',\n",
       " 'Shift_trans_is_missing',\n",
       " 'Dual_trans_is_missing',\n",
       " 'O_trans_is_missing',\n",
       " 'Transmission_trans_is_missing',\n",
       " 'FOR_trans_is_missing',\n",
       " 'Overdrive_trans_is_missing',\n",
       " 'Variable_trans_is_missing',\n",
       " 'Electronically_trans_is_missing',\n",
       " '-_trans_is_missing',\n",
       " 'Controlled_trans_is_missing',\n",
       " 'Mt_trans_is_missing',\n",
       " 'Switch_trans_is_missing',\n",
       " 'Automatic_trans_is_missing',\n",
       " 'CVT_trans_is_missing',\n",
       " 'IN_trans_is_missing',\n",
       " 'M_trans_is_missing',\n",
       " 'PRODUCTION_trans_is_missing',\n",
       " 'At_trans_is_missing',\n",
       " 'F_trans_is_missing',\n",
       " 'Auto_trans_is_missing',\n",
       " 'OR_trans_is_missing',\n",
       " 'with_trans_is_missing',\n",
       " 'DCT_trans_is_missing',\n",
       " 'A_trans_is_missing',\n",
       " 'SCHEDULED_trans_is_missing',\n",
       " 'T_trans_is_missing',\n",
       " 'base_model_is_missing',\n",
       " 'model_variant_is_missing',\n",
       " 'additional_features_is_missing']"
      ]
     },
     "execution_count": 109,
     "metadata": {},
     "output_type": "execute_result"
    }
   ],
   "source": [
    "[i for i in df.columns.to_list() if '_is_missing' in i]"
   ]
  },
  {
   "cell_type": "code",
   "execution_count": 110,
   "id": "c3d83795",
   "metadata": {
    "execution": {
     "iopub.execute_input": "2024-06-16T10:49:58.393041Z",
     "iopub.status.busy": "2024-06-16T10:49:58.392777Z",
     "iopub.status.idle": "2024-06-16T10:49:58.399361Z",
     "shell.execute_reply": "2024-06-16T10:49:58.398596Z"
    },
    "papermill": {
     "duration": 0.04297,
     "end_time": "2024-06-16T10:49:58.401257",
     "exception": false,
     "start_time": "2024-06-16T10:49:58.358287",
     "status": "completed"
    },
    "tags": []
   },
   "outputs": [
    {
     "data": {
      "text/plain": [
       "{'iterations': 1500,\n",
       " 'depth': 8,\n",
       " 'learning_rate': 0.056000336874977553,\n",
       " 'colsample_bylevel': 0.6848818762097122,\n",
       " 'l2_leaf_reg': 9.542165943793776,\n",
       " 'bagging_temperature': 0.3150004629827646,\n",
       " 'random_strength': 0.19001553342667976,\n",
       " 'grow_policy': 'Lossguide',\n",
       " 'random_state': 2024,\n",
       " 'min_data_in_leaf': 4}"
      ]
     },
     "execution_count": 110,
     "metadata": {},
     "output_type": "execute_result"
    }
   ],
   "source": [
    "dict( iterations= 1500,\n",
    "    depth= 8,\n",
    "    learning_rate= 0.056000336874977553,\n",
    "    colsample_bylevel= 0.6848818762097122,\n",
    "    l2_leaf_reg= 9.542165943793776,\n",
    "    bagging_temperature= 0.3150004629827646,\n",
    "    random_strength= 0.19001553342667976,\n",
    "    grow_policy= 'Lossguide',\n",
    "    random_state= 2024,\n",
    "    min_data_in_leaf= 4)"
   ]
  }
 ],
 "metadata": {
  "kaggle": {
   "accelerator": "nvidiaTeslaT4",
   "dataSources": [
    {
     "datasetId": 5214910,
     "sourceId": 8695895,
     "sourceType": "datasetVersion"
    }
   ],
   "dockerImageVersionId": 30733,
   "isGpuEnabled": true,
   "isInternetEnabled": true,
   "language": "python",
   "sourceType": "notebook"
  },
  "kernelspec": {
   "display_name": "Python 3",
   "language": "python",
   "name": "python3"
  },
  "language_info": {
   "codemirror_mode": {
    "name": "ipython",
    "version": 3
   },
   "file_extension": ".py",
   "mimetype": "text/x-python",
   "name": "python",
   "nbconvert_exporter": "python",
   "pygments_lexer": "ipython3",
   "version": "3.10.13"
  },
  "papermill": {
   "default_parameters": {},
   "duration": 9176.974564,
   "end_time": "2024-06-16T10:50:01.071104",
   "environment_variables": {},
   "exception": null,
   "input_path": "__notebook__.ipynb",
   "output_path": "__notebook__.ipynb",
   "parameters": {},
   "start_time": "2024-06-16T08:17:04.096540",
   "version": "2.5.0"
  }
 },
 "nbformat": 4,
 "nbformat_minor": 5
}
